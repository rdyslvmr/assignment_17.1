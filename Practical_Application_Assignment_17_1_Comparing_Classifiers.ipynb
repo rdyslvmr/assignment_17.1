{
  "cells": [
    {
      "cell_type": "markdown",
      "metadata": {
        "id": "ixNx9ePnSTex"
      },
      "source": [
        "# Practical Application III: Comparing Classifiers\n",
        "\n",
        "**Overview**: In this practical application, your goal is to compare the performance of the classifiers we encountered in this section, namely K Nearest Neighbor, Logistic Regression, Decision Trees, and Support Vector Machines.  We will utilize a dataset related to marketing bank products over the telephone.  \n",
        "\n"
      ]
    },
    {
      "cell_type": "markdown",
      "metadata": {
        "id": "dEeE5bNySTe3"
      },
      "source": [
        "### Getting Started\n",
        "\n",
        "Our dataset comes from the UCI Machine Learning repository [link](https://archive.ics.uci.edu/ml/datasets/bank+marketing).  The data is from a Portugese banking institution and is a collection of the results of multiple marketing campaigns.  We will make use of the article accompanying the dataset [here](CRISP-DM-BANK.pdf) for more information on the data and features.\n",
        "\n"
      ]
    },
    {
      "cell_type": "markdown",
      "metadata": {
        "id": "GbPNhV-2STe5"
      },
      "source": [
        "### Problem 1: Understanding the Data\n",
        "\n",
        "To gain a better understanding of the data, please read the information provided in the UCI link above, and examine the **Materials and Methods** section of the paper.  How many marketing campaigns does this data represent?"
      ]
    },
    {
      "cell_type": "markdown",
      "metadata": {
        "id": "OWSaaVtMSTe6"
      },
      "source": [
        "According to the `Materials and Methods` section of the paper, the dataset collected is related to **17 campaigns** that\n",
        "occurred between May 2008 and November 2010, corresponding to a total of 79354 contacts."
      ]
    },
    {
      "cell_type": "markdown",
      "metadata": {
        "id": "5IEHFwOZSTe7"
      },
      "source": [
        "For this phone campaign, an attractive long-term deposit application with good interest rates was offered. Details of each contact like (job, marital status, education, housing and personal loan etc.) was stored as part of the interaction."
      ]
    },
    {
      "cell_type": "markdown",
      "metadata": {
        "id": "ZTsROJ7hSTe7"
      },
      "source": [
        "Ultimately, the dataset shows that there was **8%** success rate with **6499 contacts** accepting the Long-term deposit application out of the **79,354 contacts**."
      ]
    },
    {
      "cell_type": "code",
      "execution_count": 3,
      "metadata": {
        "id": "Mx0RUMYTSTe8"
      },
      "outputs": [],
      "source": []
    },
    {
      "cell_type": "markdown",
      "metadata": {
        "id": "mYA0ERwHSTe9"
      },
      "source": [
        "### Problem 2: Read in the Data\n",
        "\n",
        "Use pandas to read in the dataset `bank-additional-full.csv` and assign to a meaningful variable name."
      ]
    },
    {
      "cell_type": "code",
      "execution_count": 4,
      "metadata": {
        "id": "-R2rZzxbSTe-"
      },
      "outputs": [],
      "source": [
        "import pandas as pd\n",
        "import matplotlib.pyplot as plt\n",
        "import numpy as np\n",
        "\n",
        "import seaborn as sns\n",
        "from sklearn.datasets import load_breast_cancer\n",
        "from sklearn.svm import SVC\n",
        "from sklearn.model_selection import train_test_split, GridSearchCV, RandomizedSearchCV\n",
        "\n",
        "from sklearn.linear_model import LogisticRegression\n",
        "from sklearn.dummy import DummyClassifier\n",
        "from sklearn.svm import SVC\n",
        "from sklearn.model_selection import train_test_split, GridSearchCV\n",
        "from sklearn.metrics import confusion_matrix\n",
        "from sklearn.compose import ColumnTransformer, make_column_transformer\n",
        "\n",
        "from sklearn.preprocessing import OneHotEncoder, OrdinalEncoder, StandardScaler\n",
        "from sklearn.metrics import r2_score\n",
        "from sklearn.metrics import mean_squared_error\n",
        "from sklearn.neighbors import KNeighborsClassifier\n",
        "from sklearn.ensemble import RandomForestClassifier\n",
        "from sklearn.tree import DecisionTreeClassifier\n",
        "\n",
        "from sklearn.pipeline import make_pipeline\n",
        "from sklearn.preprocessing import LabelEncoder\n",
        "from sklearn.tree import DecisionTreeClassifier\n",
        "from sklearn.svm import SVC\n"
      ]
    },
    {
      "cell_type": "code",
      "execution_count": 5,
      "metadata": {
        "id": "wM_qNwrVSTfA"
      },
      "outputs": [],
      "source": [
        "#Add panda options for column displays\n",
        "#Print the long values in the columns\n",
        "pd.options.display.max_columns = None\n",
        "pd.options.display.max_rows = None\n",
        "pd.options.display.max_colwidth = 150"
      ]
    },
    {
      "cell_type": "code",
      "execution_count": 6,
      "metadata": {
        "id": "bWhEffuMSTfB"
      },
      "outputs": [],
      "source": [
        "df = pd.read_csv('data/bank-additional-full.csv', sep = ';')"
      ]
    },
    {
      "cell_type": "code",
      "execution_count": 7,
      "metadata": {
        "colab": {
          "base_uri": "https://localhost:8080/",
          "height": 226
        },
        "id": "FqJFj_kdSTfC",
        "outputId": "2d8297f9-7e10-4544-ee4b-3383f26d2ffa"
      },
      "outputs": [
        {
          "output_type": "execute_result",
          "data": {
            "text/plain": [
              "   age        job  marital    education  default housing loan    contact  \\\n",
              "0   56  housemaid  married     basic.4y       no      no   no  telephone   \n",
              "1   57   services  married  high.school  unknown      no   no  telephone   \n",
              "2   37   services  married  high.school       no     yes   no  telephone   \n",
              "3   40     admin.  married     basic.6y       no      no   no  telephone   \n",
              "4   56   services  married  high.school       no      no  yes  telephone   \n",
              "\n",
              "  month day_of_week  duration  campaign  pdays  previous     poutcome  \\\n",
              "0   may         mon       261         1    999         0  nonexistent   \n",
              "1   may         mon       149         1    999         0  nonexistent   \n",
              "2   may         mon       226         1    999         0  nonexistent   \n",
              "3   may         mon       151         1    999         0  nonexistent   \n",
              "4   may         mon       307         1    999         0  nonexistent   \n",
              "\n",
              "   emp.var.rate  cons.price.idx  cons.conf.idx  euribor3m  nr.employed   y  \n",
              "0           1.1          93.994          -36.4      4.857       5191.0  no  \n",
              "1           1.1          93.994          -36.4      4.857       5191.0  no  \n",
              "2           1.1          93.994          -36.4      4.857       5191.0  no  \n",
              "3           1.1          93.994          -36.4      4.857       5191.0  no  \n",
              "4           1.1          93.994          -36.4      4.857       5191.0  no  "
            ],
            "text/html": [
              "\n",
              "  <div id=\"df-3e08d8fc-f2b2-48b7-9254-4ca17ec13ef2\" class=\"colab-df-container\">\n",
              "    <div>\n",
              "<style scoped>\n",
              "    .dataframe tbody tr th:only-of-type {\n",
              "        vertical-align: middle;\n",
              "    }\n",
              "\n",
              "    .dataframe tbody tr th {\n",
              "        vertical-align: top;\n",
              "    }\n",
              "\n",
              "    .dataframe thead th {\n",
              "        text-align: right;\n",
              "    }\n",
              "</style>\n",
              "<table border=\"1\" class=\"dataframe\">\n",
              "  <thead>\n",
              "    <tr style=\"text-align: right;\">\n",
              "      <th></th>\n",
              "      <th>age</th>\n",
              "      <th>job</th>\n",
              "      <th>marital</th>\n",
              "      <th>education</th>\n",
              "      <th>default</th>\n",
              "      <th>housing</th>\n",
              "      <th>loan</th>\n",
              "      <th>contact</th>\n",
              "      <th>month</th>\n",
              "      <th>day_of_week</th>\n",
              "      <th>duration</th>\n",
              "      <th>campaign</th>\n",
              "      <th>pdays</th>\n",
              "      <th>previous</th>\n",
              "      <th>poutcome</th>\n",
              "      <th>emp.var.rate</th>\n",
              "      <th>cons.price.idx</th>\n",
              "      <th>cons.conf.idx</th>\n",
              "      <th>euribor3m</th>\n",
              "      <th>nr.employed</th>\n",
              "      <th>y</th>\n",
              "    </tr>\n",
              "  </thead>\n",
              "  <tbody>\n",
              "    <tr>\n",
              "      <th>0</th>\n",
              "      <td>56</td>\n",
              "      <td>housemaid</td>\n",
              "      <td>married</td>\n",
              "      <td>basic.4y</td>\n",
              "      <td>no</td>\n",
              "      <td>no</td>\n",
              "      <td>no</td>\n",
              "      <td>telephone</td>\n",
              "      <td>may</td>\n",
              "      <td>mon</td>\n",
              "      <td>261</td>\n",
              "      <td>1</td>\n",
              "      <td>999</td>\n",
              "      <td>0</td>\n",
              "      <td>nonexistent</td>\n",
              "      <td>1.1</td>\n",
              "      <td>93.994</td>\n",
              "      <td>-36.4</td>\n",
              "      <td>4.857</td>\n",
              "      <td>5191.0</td>\n",
              "      <td>no</td>\n",
              "    </tr>\n",
              "    <tr>\n",
              "      <th>1</th>\n",
              "      <td>57</td>\n",
              "      <td>services</td>\n",
              "      <td>married</td>\n",
              "      <td>high.school</td>\n",
              "      <td>unknown</td>\n",
              "      <td>no</td>\n",
              "      <td>no</td>\n",
              "      <td>telephone</td>\n",
              "      <td>may</td>\n",
              "      <td>mon</td>\n",
              "      <td>149</td>\n",
              "      <td>1</td>\n",
              "      <td>999</td>\n",
              "      <td>0</td>\n",
              "      <td>nonexistent</td>\n",
              "      <td>1.1</td>\n",
              "      <td>93.994</td>\n",
              "      <td>-36.4</td>\n",
              "      <td>4.857</td>\n",
              "      <td>5191.0</td>\n",
              "      <td>no</td>\n",
              "    </tr>\n",
              "    <tr>\n",
              "      <th>2</th>\n",
              "      <td>37</td>\n",
              "      <td>services</td>\n",
              "      <td>married</td>\n",
              "      <td>high.school</td>\n",
              "      <td>no</td>\n",
              "      <td>yes</td>\n",
              "      <td>no</td>\n",
              "      <td>telephone</td>\n",
              "      <td>may</td>\n",
              "      <td>mon</td>\n",
              "      <td>226</td>\n",
              "      <td>1</td>\n",
              "      <td>999</td>\n",
              "      <td>0</td>\n",
              "      <td>nonexistent</td>\n",
              "      <td>1.1</td>\n",
              "      <td>93.994</td>\n",
              "      <td>-36.4</td>\n",
              "      <td>4.857</td>\n",
              "      <td>5191.0</td>\n",
              "      <td>no</td>\n",
              "    </tr>\n",
              "    <tr>\n",
              "      <th>3</th>\n",
              "      <td>40</td>\n",
              "      <td>admin.</td>\n",
              "      <td>married</td>\n",
              "      <td>basic.6y</td>\n",
              "      <td>no</td>\n",
              "      <td>no</td>\n",
              "      <td>no</td>\n",
              "      <td>telephone</td>\n",
              "      <td>may</td>\n",
              "      <td>mon</td>\n",
              "      <td>151</td>\n",
              "      <td>1</td>\n",
              "      <td>999</td>\n",
              "      <td>0</td>\n",
              "      <td>nonexistent</td>\n",
              "      <td>1.1</td>\n",
              "      <td>93.994</td>\n",
              "      <td>-36.4</td>\n",
              "      <td>4.857</td>\n",
              "      <td>5191.0</td>\n",
              "      <td>no</td>\n",
              "    </tr>\n",
              "    <tr>\n",
              "      <th>4</th>\n",
              "      <td>56</td>\n",
              "      <td>services</td>\n",
              "      <td>married</td>\n",
              "      <td>high.school</td>\n",
              "      <td>no</td>\n",
              "      <td>no</td>\n",
              "      <td>yes</td>\n",
              "      <td>telephone</td>\n",
              "      <td>may</td>\n",
              "      <td>mon</td>\n",
              "      <td>307</td>\n",
              "      <td>1</td>\n",
              "      <td>999</td>\n",
              "      <td>0</td>\n",
              "      <td>nonexistent</td>\n",
              "      <td>1.1</td>\n",
              "      <td>93.994</td>\n",
              "      <td>-36.4</td>\n",
              "      <td>4.857</td>\n",
              "      <td>5191.0</td>\n",
              "      <td>no</td>\n",
              "    </tr>\n",
              "  </tbody>\n",
              "</table>\n",
              "</div>\n",
              "    <div class=\"colab-df-buttons\">\n",
              "\n",
              "  <div class=\"colab-df-container\">\n",
              "    <button class=\"colab-df-convert\" onclick=\"convertToInteractive('df-3e08d8fc-f2b2-48b7-9254-4ca17ec13ef2')\"\n",
              "            title=\"Convert this dataframe to an interactive table.\"\n",
              "            style=\"display:none;\">\n",
              "\n",
              "  <svg xmlns=\"http://www.w3.org/2000/svg\" height=\"24px\" viewBox=\"0 -960 960 960\">\n",
              "    <path d=\"M120-120v-720h720v720H120Zm60-500h600v-160H180v160Zm220 220h160v-160H400v160Zm0 220h160v-160H400v160ZM180-400h160v-160H180v160Zm440 0h160v-160H620v160ZM180-180h160v-160H180v160Zm440 0h160v-160H620v160Z\"/>\n",
              "  </svg>\n",
              "    </button>\n",
              "\n",
              "  <style>\n",
              "    .colab-df-container {\n",
              "      display:flex;\n",
              "      gap: 12px;\n",
              "    }\n",
              "\n",
              "    .colab-df-convert {\n",
              "      background-color: #E8F0FE;\n",
              "      border: none;\n",
              "      border-radius: 50%;\n",
              "      cursor: pointer;\n",
              "      display: none;\n",
              "      fill: #1967D2;\n",
              "      height: 32px;\n",
              "      padding: 0 0 0 0;\n",
              "      width: 32px;\n",
              "    }\n",
              "\n",
              "    .colab-df-convert:hover {\n",
              "      background-color: #E2EBFA;\n",
              "      box-shadow: 0px 1px 2px rgba(60, 64, 67, 0.3), 0px 1px 3px 1px rgba(60, 64, 67, 0.15);\n",
              "      fill: #174EA6;\n",
              "    }\n",
              "\n",
              "    .colab-df-buttons div {\n",
              "      margin-bottom: 4px;\n",
              "    }\n",
              "\n",
              "    [theme=dark] .colab-df-convert {\n",
              "      background-color: #3B4455;\n",
              "      fill: #D2E3FC;\n",
              "    }\n",
              "\n",
              "    [theme=dark] .colab-df-convert:hover {\n",
              "      background-color: #434B5C;\n",
              "      box-shadow: 0px 1px 3px 1px rgba(0, 0, 0, 0.15);\n",
              "      filter: drop-shadow(0px 1px 2px rgba(0, 0, 0, 0.3));\n",
              "      fill: #FFFFFF;\n",
              "    }\n",
              "  </style>\n",
              "\n",
              "    <script>\n",
              "      const buttonEl =\n",
              "        document.querySelector('#df-3e08d8fc-f2b2-48b7-9254-4ca17ec13ef2 button.colab-df-convert');\n",
              "      buttonEl.style.display =\n",
              "        google.colab.kernel.accessAllowed ? 'block' : 'none';\n",
              "\n",
              "      async function convertToInteractive(key) {\n",
              "        const element = document.querySelector('#df-3e08d8fc-f2b2-48b7-9254-4ca17ec13ef2');\n",
              "        const dataTable =\n",
              "          await google.colab.kernel.invokeFunction('convertToInteractive',\n",
              "                                                    [key], {});\n",
              "        if (!dataTable) return;\n",
              "\n",
              "        const docLinkHtml = 'Like what you see? Visit the ' +\n",
              "          '<a target=\"_blank\" href=https://colab.research.google.com/notebooks/data_table.ipynb>data table notebook</a>'\n",
              "          + ' to learn more about interactive tables.';\n",
              "        element.innerHTML = '';\n",
              "        dataTable['output_type'] = 'display_data';\n",
              "        await google.colab.output.renderOutput(dataTable, element);\n",
              "        const docLink = document.createElement('div');\n",
              "        docLink.innerHTML = docLinkHtml;\n",
              "        element.appendChild(docLink);\n",
              "      }\n",
              "    </script>\n",
              "  </div>\n",
              "\n",
              "\n",
              "<div id=\"df-a901a58c-8efe-4458-b326-dfe1744a2d3f\">\n",
              "  <button class=\"colab-df-quickchart\" onclick=\"quickchart('df-a901a58c-8efe-4458-b326-dfe1744a2d3f')\"\n",
              "            title=\"Suggest charts\"\n",
              "            style=\"display:none;\">\n",
              "\n",
              "<svg xmlns=\"http://www.w3.org/2000/svg\" height=\"24px\"viewBox=\"0 0 24 24\"\n",
              "     width=\"24px\">\n",
              "    <g>\n",
              "        <path d=\"M19 3H5c-1.1 0-2 .9-2 2v14c0 1.1.9 2 2 2h14c1.1 0 2-.9 2-2V5c0-1.1-.9-2-2-2zM9 17H7v-7h2v7zm4 0h-2V7h2v10zm4 0h-2v-4h2v4z\"/>\n",
              "    </g>\n",
              "</svg>\n",
              "  </button>\n",
              "\n",
              "<style>\n",
              "  .colab-df-quickchart {\n",
              "      --bg-color: #E8F0FE;\n",
              "      --fill-color: #1967D2;\n",
              "      --hover-bg-color: #E2EBFA;\n",
              "      --hover-fill-color: #174EA6;\n",
              "      --disabled-fill-color: #AAA;\n",
              "      --disabled-bg-color: #DDD;\n",
              "  }\n",
              "\n",
              "  [theme=dark] .colab-df-quickchart {\n",
              "      --bg-color: #3B4455;\n",
              "      --fill-color: #D2E3FC;\n",
              "      --hover-bg-color: #434B5C;\n",
              "      --hover-fill-color: #FFFFFF;\n",
              "      --disabled-bg-color: #3B4455;\n",
              "      --disabled-fill-color: #666;\n",
              "  }\n",
              "\n",
              "  .colab-df-quickchart {\n",
              "    background-color: var(--bg-color);\n",
              "    border: none;\n",
              "    border-radius: 50%;\n",
              "    cursor: pointer;\n",
              "    display: none;\n",
              "    fill: var(--fill-color);\n",
              "    height: 32px;\n",
              "    padding: 0;\n",
              "    width: 32px;\n",
              "  }\n",
              "\n",
              "  .colab-df-quickchart:hover {\n",
              "    background-color: var(--hover-bg-color);\n",
              "    box-shadow: 0 1px 2px rgba(60, 64, 67, 0.3), 0 1px 3px 1px rgba(60, 64, 67, 0.15);\n",
              "    fill: var(--button-hover-fill-color);\n",
              "  }\n",
              "\n",
              "  .colab-df-quickchart-complete:disabled,\n",
              "  .colab-df-quickchart-complete:disabled:hover {\n",
              "    background-color: var(--disabled-bg-color);\n",
              "    fill: var(--disabled-fill-color);\n",
              "    box-shadow: none;\n",
              "  }\n",
              "\n",
              "  .colab-df-spinner {\n",
              "    border: 2px solid var(--fill-color);\n",
              "    border-color: transparent;\n",
              "    border-bottom-color: var(--fill-color);\n",
              "    animation:\n",
              "      spin 1s steps(1) infinite;\n",
              "  }\n",
              "\n",
              "  @keyframes spin {\n",
              "    0% {\n",
              "      border-color: transparent;\n",
              "      border-bottom-color: var(--fill-color);\n",
              "      border-left-color: var(--fill-color);\n",
              "    }\n",
              "    20% {\n",
              "      border-color: transparent;\n",
              "      border-left-color: var(--fill-color);\n",
              "      border-top-color: var(--fill-color);\n",
              "    }\n",
              "    30% {\n",
              "      border-color: transparent;\n",
              "      border-left-color: var(--fill-color);\n",
              "      border-top-color: var(--fill-color);\n",
              "      border-right-color: var(--fill-color);\n",
              "    }\n",
              "    40% {\n",
              "      border-color: transparent;\n",
              "      border-right-color: var(--fill-color);\n",
              "      border-top-color: var(--fill-color);\n",
              "    }\n",
              "    60% {\n",
              "      border-color: transparent;\n",
              "      border-right-color: var(--fill-color);\n",
              "    }\n",
              "    80% {\n",
              "      border-color: transparent;\n",
              "      border-right-color: var(--fill-color);\n",
              "      border-bottom-color: var(--fill-color);\n",
              "    }\n",
              "    90% {\n",
              "      border-color: transparent;\n",
              "      border-bottom-color: var(--fill-color);\n",
              "    }\n",
              "  }\n",
              "</style>\n",
              "\n",
              "  <script>\n",
              "    async function quickchart(key) {\n",
              "      const quickchartButtonEl =\n",
              "        document.querySelector('#' + key + ' button');\n",
              "      quickchartButtonEl.disabled = true;  // To prevent multiple clicks.\n",
              "      quickchartButtonEl.classList.add('colab-df-spinner');\n",
              "      try {\n",
              "        const charts = await google.colab.kernel.invokeFunction(\n",
              "            'suggestCharts', [key], {});\n",
              "      } catch (error) {\n",
              "        console.error('Error during call to suggestCharts:', error);\n",
              "      }\n",
              "      quickchartButtonEl.classList.remove('colab-df-spinner');\n",
              "      quickchartButtonEl.classList.add('colab-df-quickchart-complete');\n",
              "    }\n",
              "    (() => {\n",
              "      let quickchartButtonEl =\n",
              "        document.querySelector('#df-a901a58c-8efe-4458-b326-dfe1744a2d3f button');\n",
              "      quickchartButtonEl.style.display =\n",
              "        google.colab.kernel.accessAllowed ? 'block' : 'none';\n",
              "    })();\n",
              "  </script>\n",
              "</div>\n",
              "\n",
              "    </div>\n",
              "  </div>\n"
            ],
            "application/vnd.google.colaboratory.intrinsic+json": {
              "type": "dataframe",
              "variable_name": "df"
            }
          },
          "metadata": {},
          "execution_count": 7
        }
      ],
      "source": [
        "df.head()"
      ]
    },
    {
      "cell_type": "markdown",
      "metadata": {
        "id": "qPU-mVQySTfE"
      },
      "source": [
        "### Problem 3: Understanding the Features\n",
        "\n",
        "\n",
        "Examine the data description below, and determine if any of the features are missing values or need to be coerced to a different data type.\n",
        "\n",
        "\n",
        "```\n",
        "Input variables:\n",
        "# bank client data:\n",
        "1 - age (numeric)\n",
        "2 - job : type of job (categorical: 'admin.','blue-collar','entrepreneur','housemaid','management','retired','self-employed','services','student','technician','unemployed','unknown')\n",
        "3 - marital : marital status (categorical: 'divorced','married','single','unknown'; note: 'divorced' means divorced or widowed)\n",
        "4 - education (categorical: 'basic.4y','basic.6y','basic.9y','high.school','illiterate','professional.course','university.degree','unknown')\n",
        "5 - default: has credit in default? (categorical: 'no','yes','unknown')\n",
        "6 - housing: has housing loan? (categorical: 'no','yes','unknown')\n",
        "7 - loan: has personal loan? (categorical: 'no','yes','unknown')\n",
        "# related with the last contact of the current campaign:\n",
        "8 - contact: contact communication type (categorical: 'cellular','telephone')\n",
        "9 - month: last contact month of year (categorical: 'jan', 'feb', 'mar', ..., 'nov', 'dec')\n",
        "10 - day_of_week: last contact day of the week (categorical: 'mon','tue','wed','thu','fri')\n",
        "11 - duration: last contact duration, in seconds (numeric). Important note: this attribute highly affects the output target (e.g., if duration=0 then y='no'). Yet, the duration is not known before a call is performed. Also, after the end of the call y is obviously known. Thus, this input should only be included for benchmark purposes and should be discarded if the intention is to have a realistic predictive model.\n",
        "# other attributes:\n",
        "12 - campaign: number of contacts performed during this campaign and for this client (numeric, includes last contact)\n",
        "13 - pdays: number of days that passed by after the client was last contacted from a previous campaign (numeric; 999 means client was not previously contacted)\n",
        "14 - previous: number of contacts performed before this campaign and for this client (numeric)\n",
        "15 - poutcome: outcome of the previous marketing campaign (categorical: 'failure','nonexistent','success')\n",
        "# social and economic context attributes\n",
        "16 - emp.var.rate: employment variation rate - quarterly indicator (numeric)\n",
        "17 - cons.price.idx: consumer price index - monthly indicator (numeric)\n",
        "18 - cons.conf.idx: consumer confidence index - monthly indicator (numeric)\n",
        "19 - euribor3m: euribor 3 month rate - daily indicator (numeric)\n",
        "20 - nr.employed: number of employees - quarterly indicator (numeric)\n",
        "\n",
        "Output variable (desired target):\n",
        "21 - y - has the client subscribed a term deposit? (binary: 'yes','no')\n",
        "```\n",
        "\n"
      ]
    },
    {
      "cell_type": "markdown",
      "metadata": {
        "id": "tKIFGxk1STfG"
      },
      "source": [
        "Let's do some exploratory analysis of the data to understand the how some of the features had an impact on the output variable.\n",
        "\n",
        "To make the charts user friendly/readable, we will rename the output variable. Also we will concentrate mainly in the features 1-7 as this would be used to build the models."
      ]
    },
    {
      "cell_type": "code",
      "execution_count": 8,
      "metadata": {
        "colab": {
          "base_uri": "https://localhost:8080/"
        },
        "id": "03L6GXjlSTfH",
        "outputId": "a2184629-1f0d-4b02-b370-0973acccd32b"
      },
      "outputs": [
        {
          "output_type": "execute_result",
          "data": {
            "text/plain": [
              "(41188, 21)"
            ]
          },
          "metadata": {},
          "execution_count": 8
        }
      ],
      "source": [
        "df.shape"
      ]
    },
    {
      "cell_type": "code",
      "execution_count": 9,
      "metadata": {
        "id": "H62jJGaLSTfH"
      },
      "outputs": [],
      "source": [
        "# Change Y feature name to a more meaningful name\n",
        "df.rename(columns = {'y':'deposit'}, inplace = True)"
      ]
    },
    {
      "cell_type": "code",
      "execution_count": 10,
      "metadata": {
        "colab": {
          "base_uri": "https://localhost:8080/",
          "height": 707
        },
        "id": "ZTZCkSQCSTfI",
        "outputId": "90d1097b-9edd-4b14-f133-beeaf247f604"
      },
      "outputs": [
        {
          "output_type": "display_data",
          "data": {
            "text/plain": [
              "<Figure size 1200x700 with 1 Axes>"
            ],
            "image/png": "[encoded data removed]"
          },
          "metadata": {}
        }
      ],
      "source": [
        "# Let plot a bar chart of the\n",
        "# count plot on two categorical variable\n",
        "\n",
        "plt.rcParams[\"figure.figsize\"] = [12, 7]\n",
        "plt.rcParams[\"figure.autolayout\"] = True\n",
        "ax = sns.countplot(x ='marital', hue = \"deposit\", data = df)\n",
        "\n",
        "# Adding Title to the Plot\n",
        "ax.set_title('Bar Plot of Customers Long Term Application Acceptance by Marital Status')\n",
        "\n",
        "for p in ax.patches:\n",
        "   ax.annotate('{:.1f}'.format(p.get_height()), (p.get_x()+0.25, p.get_height()+0.01))\n",
        "\n",
        "# Setting the X and Y labels\n",
        "ax.set_xlabel('Marital Status')\n",
        "ax.set_ylabel('Count')\n",
        "\n",
        "# Show the plot\n",
        "plt.show()"
      ]
    },
    {
      "cell_type": "code",
      "execution_count": 11,
      "metadata": {
        "colab": {
          "base_uri": "https://localhost:8080/",
          "height": 707
        },
        "id": "_PRs-wb5STfJ",
        "outputId": "a02026ee-4cb4-40fc-eb1d-016e2ff7e34b"
      },
      "outputs": [
        {
          "output_type": "display_data",
          "data": {
            "text/plain": [
              "<Figure size 1200x700 with 1 Axes>"
            ],
            "image/png": "[encoded data removed]"
          },
          "metadata": {}
        }
      ],
      "source": [
        "# Bar plot of customer count that said yes to term deposit vs no\n",
        "plt.rcParams[\"figure.figsize\"] = [12, 7]\n",
        "plt.rcParams[\"figure.autolayout\"] = True\n",
        "\n",
        "# count plot on two categorical variable\n",
        "ax = sns.countplot(x ='deposit', hue = \"deposit\", data = df)\n",
        "\n",
        "# Adding Title to the Plot\n",
        "ax.set_title('Bar Plot of Customers Long Term Application Acceptance')\n",
        "\n",
        "for p in ax.patches:\n",
        "   ax.annotate('{:.1f}'.format(p.get_height()), (p.get_x()+0.25, p.get_height()+0.01))\n",
        "\n",
        "# Show the plot\n",
        "plt.show()"
      ]
    },
    {
      "cell_type": "code",
      "execution_count": 12,
      "metadata": {
        "colab": {
          "base_uri": "https://localhost:8080/"
        },
        "id": "0TiiKzyzSTfK",
        "outputId": "675b5527-2157-4814-9c5d-baaa26b87911"
      },
      "outputs": [
        {
          "output_type": "execute_result",
          "data": {
            "text/plain": [
              "age               False\n",
              "job               False\n",
              "marital           False\n",
              "education         False\n",
              "default           False\n",
              "housing           False\n",
              "loan              False\n",
              "contact           False\n",
              "month             False\n",
              "day_of_week       False\n",
              "duration          False\n",
              "campaign          False\n",
              "pdays             False\n",
              "previous          False\n",
              "poutcome          False\n",
              "emp.var.rate      False\n",
              "cons.price.idx    False\n",
              "cons.conf.idx     False\n",
              "euribor3m         False\n",
              "nr.employed       False\n",
              "deposit           False\n",
              "dtype: bool"
            ]
          },
          "metadata": {},
          "execution_count": 12
        }
      ],
      "source": [
        "#Clean data with no nulls\n",
        "df.isna().any()"
      ]
    },
    {
      "cell_type": "code",
      "execution_count": 13,
      "metadata": {
        "id": "lEpvTFtySTfK"
      },
      "outputs": [],
      "source": [
        "#df['age'].value_counts()"
      ]
    },
    {
      "cell_type": "code",
      "execution_count": 14,
      "metadata": {
        "colab": {
          "base_uri": "https://localhost:8080/",
          "height": 707
        },
        "id": "BwdaSsghSTfL",
        "outputId": "c8d65f68-4875-4002-9694-fd0544858475"
      },
      "outputs": [
        {
          "output_type": "display_data",
          "data": {
            "text/plain": [
              "<Figure size 1200x700 with 1 Axes>"
            ],
            "image/png": "[encoded data removed]"
          },
          "metadata": {}
        }
      ],
      "source": [
        "# Bar plot of count of accepted term deposit application by Education\n",
        "ax = sns.countplot(y ='education', hue = \"deposit\", data = df)\n",
        "\n",
        "# Adding Title to the Plot\n",
        "ax.set_title('Bar Plot of Customers Long Term Application Acceptance by Education')\n",
        "\n",
        "# Setting the X and Y labels\n",
        "ax.set_xlabel('Contact')\n",
        "ax.set_ylabel('Education')\n",
        "\n",
        "# Show the plot\n",
        "plt.show()"
      ]
    },
    {
      "cell_type": "code",
      "execution_count": 15,
      "metadata": {
        "colab": {
          "base_uri": "https://localhost:8080/",
          "height": 707
        },
        "id": "a79IbauPSTfL",
        "outputId": "7b501854-8bea-4b45-9307-b65380660f58"
      },
      "outputs": [
        {
          "output_type": "display_data",
          "data": {
            "text/plain": [
              "<Figure size 1200x700 with 1 Axes>"
            ],
            "image/png": "[encoded data removed]"
          },
          "metadata": {}
        }
      ],
      "source": [
        "# Bar plot of count of accepted term deposit application by job\n",
        "ax = sns.countplot(x ='job', hue = \"deposit\", data = df)\n",
        "\n",
        "# Adding Title to the Plot\n",
        "ax.set_title('Bar Plot of Customers Long Term Application Acceptance by Job')\n",
        "\n",
        "# Setting the X and Y labels\n",
        "ax.set_xlabel('Job')\n",
        "ax.set_ylabel('Count')\n",
        "\n",
        "# Show the plot\n",
        "plt.show()"
      ]
    },
    {
      "cell_type": "code",
      "execution_count": 16,
      "metadata": {
        "colab": {
          "base_uri": "https://localhost:8080/",
          "height": 599
        },
        "id": "bL-Mtnb2STfM",
        "outputId": "fa65b8bf-5d12-474e-c1b0-5047b81a3a96"
      },
      "outputs": [
        {
          "output_type": "display_data",
          "data": {
            "text/plain": [
              "<Figure size 1200x700 with 2 Axes>"
            ],
            "image/png": "[encoded data removed]"
          },
          "metadata": {}
        }
      ],
      "source": [
        "# Plot some pie charts to visualize the number of accepted term deposits by loan types in dataset\n",
        "def autopct_format(values):\n",
        "        def my_format(pct):\n",
        "            total = sum(values)\n",
        "            val = int(round(pct*total/100.0))\n",
        "            return '{:.1f}%\\n({v:d})'.format(pct, v=val)\n",
        "        return my_format\n",
        "\n",
        "#plt.pie(df['LoanStatus'].value_counts().values, labels=df['LoanStatus'].value_counts().index, autopct=fmt)\n",
        "\n",
        "# create a figure with two subplots\n",
        "#fig, ax = plt.subplots(figsize=(12,8))\n",
        "fig, (ax1, ax2) = plt.subplots(1, 2, figsize=(12,7))\n",
        "\n",
        "# plot each pie chart in a separate subplot\n",
        "\n",
        "ax1.set_title('Pie Chart - Housing Loan')\n",
        "s = df['housing'].value_counts()\n",
        "ax1.pie(s,labels = s.index,  autopct=autopct_format(s))\n",
        "\n",
        "ax2.set_title('Pie Chart - Personal Loan')\n",
        "s1 = df['loan'].value_counts()\n",
        "ax2.pie(s1,labels = s1.index, autopct=autopct_format(s1))\n",
        "\n",
        "plt.show()"
      ]
    },
    {
      "cell_type": "markdown",
      "metadata": {
        "id": "mE3w4QHVSTfN"
      },
      "source": [
        "Although we are building a model using features 1 -7, lets plot a bar chart of Contact Features that accepted term deposit product vs non acceptance"
      ]
    },
    {
      "cell_type": "code",
      "execution_count": 17,
      "metadata": {
        "colab": {
          "base_uri": "https://localhost:8080/",
          "height": 707
        },
        "id": "02fWiqUJSTfO",
        "outputId": "6834fa41-b377-4293-d266-779071e73f38"
      },
      "outputs": [
        {
          "output_type": "display_data",
          "data": {
            "text/plain": [
              "<Figure size 1200x700 with 1 Axes>"
            ],
            "image/png": "[encoded data removed]"
          },
          "metadata": {}
        }
      ],
      "source": [
        "plt.rcParams[\"figure.figsize\"] = [12, 7]\n",
        "plt.rcParams[\"figure.autolayout\"] = True\n",
        "ax = sns.countplot(x ='contact', hue = \"deposit\", data = df)\n",
        "\n",
        "# Adding Title to the Plot\n",
        "ax.set_title('Bar Plot of Customers Long Term Application Acceptance by Contact')\n",
        "\n",
        "for p in ax.patches:\n",
        "   ax.annotate('{:.1f}'.format(p.get_height()), (p.get_x()+0.25, p.get_height()+0.01))\n",
        "\n",
        "# Setting the X and Y labels\n",
        "ax.set_xlabel('Contact')\n",
        "ax.set_ylabel('Count')\n",
        "\n",
        "# Show the plot\n",
        "plt.show()"
      ]
    },
    {
      "cell_type": "code",
      "execution_count": 18,
      "metadata": {
        "colab": {
          "base_uri": "https://localhost:8080/",
          "height": 707
        },
        "id": "Z3pf1jEaSTfP",
        "outputId": "9ed978a5-a45a-40cf-9157-0ba1c2fdc0ee"
      },
      "outputs": [
        {
          "output_type": "display_data",
          "data": {
            "text/plain": [
              "<Figure size 1200x700 with 1 Axes>"
            ],
            "image/png": "[encoded data removed]"
          },
          "metadata": {}
        }
      ],
      "source": [
        "# Bar plot of count of accepted term deposit application by job\n",
        "ax = sns.countplot(x ='default', hue = \"deposit\", data = df)\n",
        "\n",
        "# Adding Title to the Plot\n",
        "ax.set_title('Bar Plot of Customers Long Term Application Acceptance by Credit Status')\n",
        "\n",
        "# Setting the X and Y labels\n",
        "ax.set_xlabel('Default')\n",
        "ax.set_ylabel('Count')\n",
        "\n",
        "# Show the plot\n",
        "plt.show()"
      ]
    },
    {
      "cell_type": "code",
      "execution_count": 19,
      "metadata": {
        "colab": {
          "base_uri": "https://localhost:8080/"
        },
        "id": "IzTj2a37STfQ",
        "outputId": "be40cb18-7ac0-412c-e154-b15300156282"
      },
      "outputs": [
        {
          "output_type": "execute_result",
          "data": {
            "text/plain": [
              "no         32588\n",
              "unknown     8597\n",
              "yes            3\n",
              "Name: default, dtype: int64"
            ]
          },
          "metadata": {},
          "execution_count": 19
        }
      ],
      "source": [
        "df['default'].value_counts()"
      ]
    },
    {
      "cell_type": "markdown",
      "metadata": {
        "id": "3Zhl7HdrSTfR"
      },
      "source": [
        "Let's do some exploratory analysis on customers who signed on for the Long Term product and see what the breakdown is for features like education and marital status"
      ]
    },
    {
      "cell_type": "code",
      "execution_count": 20,
      "metadata": {
        "colab": {
          "base_uri": "https://localhost:8080/",
          "height": 383
        },
        "id": "p9dtX6RTSTfS",
        "outputId": "83966ee0-9a25-406d-d9f9-11a9e074056e"
      },
      "outputs": [
        {
          "output_type": "execute_result",
          "data": {
            "text/plain": [
              "     age           job   marital            education  default housing loan  \\\n",
              "75    41   blue-collar  divorced             basic.4y  unknown     yes   no   \n",
              "83    49  entrepreneur   married    university.degree  unknown     yes   no   \n",
              "88    49    technician   married             basic.9y       no      no   no   \n",
              "129   41    technician   married  professional.course  unknown     yes   no   \n",
              "139   45   blue-collar   married             basic.9y  unknown     yes   no   \n",
              "182   42   blue-collar   married             basic.9y       no     yes  yes   \n",
              "286   39     housemaid   married             basic.9y       no     yes   no   \n",
              "388   28       unknown    single              unknown  unknown     yes  yes   \n",
              "389   44      services   married          high.school       no     yes   no   \n",
              "446   42    technician   married  professional.course       no      no   no   \n",
              "\n",
              "       contact month day_of_week  duration  campaign  pdays  previous  \\\n",
              "75   telephone   may         mon      1575         1    999         0   \n",
              "83   telephone   may         mon      1042         1    999         0   \n",
              "88   telephone   may         mon      1467         1    999         0   \n",
              "129  telephone   may         mon       579         1    999         0   \n",
              "139  telephone   may         mon       461         1    999         0   \n",
              "182  telephone   may         mon       673         2    999         0   \n",
              "286  telephone   may         mon       935         3    999         0   \n",
              "388  telephone   may         tue      1201         1    999         0   \n",
              "389  telephone   may         tue      1030         1    999         0   \n",
              "446  telephone   may         tue      1623         1    999         0   \n",
              "\n",
              "        poutcome  emp.var.rate  cons.price.idx  cons.conf.idx  euribor3m  \\\n",
              "75   nonexistent           1.1          93.994          -36.4      4.857   \n",
              "83   nonexistent           1.1          93.994          -36.4      4.857   \n",
              "88   nonexistent           1.1          93.994          -36.4      4.857   \n",
              "129  nonexistent           1.1          93.994          -36.4      4.857   \n",
              "139  nonexistent           1.1          93.994          -36.4      4.857   \n",
              "182  nonexistent           1.1          93.994          -36.4      4.857   \n",
              "286  nonexistent           1.1          93.994          -36.4      4.857   \n",
              "388  nonexistent           1.1          93.994          -36.4      4.857   \n",
              "389  nonexistent           1.1          93.994          -36.4      4.857   \n",
              "446  nonexistent           1.1          93.994          -36.4      4.857   \n",
              "\n",
              "     nr.employed deposit  \n",
              "75        5191.0     yes  \n",
              "83        5191.0     yes  \n",
              "88        5191.0     yes  \n",
              "129       5191.0     yes  \n",
              "139       5191.0     yes  \n",
              "182       5191.0     yes  \n",
              "286       5191.0     yes  \n",
              "388       5191.0     yes  \n",
              "389       5191.0     yes  \n",
              "446       5191.0     yes  "
            ],
            "text/html": [
              "\n",
              "  <div id=\"df-287103b9-f242-4480-8c4a-a730e5e03a68\" class=\"colab-df-container\">\n",
              "    <div>\n",
              "<style scoped>\n",
              "    .dataframe tbody tr th:only-of-type {\n",
              "        vertical-align: middle;\n",
              "    }\n",
              "\n",
              "    .dataframe tbody tr th {\n",
              "        vertical-align: top;\n",
              "    }\n",
              "\n",
              "    .dataframe thead th {\n",
              "        text-align: right;\n",
              "    }\n",
              "</style>\n",
              "<table border=\"1\" class=\"dataframe\">\n",
              "  <thead>\n",
              "    <tr style=\"text-align: right;\">\n",
              "      <th></th>\n",
              "      <th>age</th>\n",
              "      <th>job</th>\n",
              "      <th>marital</th>\n",
              "      <th>education</th>\n",
              "      <th>default</th>\n",
              "      <th>housing</th>\n",
              "      <th>loan</th>\n",
              "      <th>contact</th>\n",
              "      <th>month</th>\n",
              "      <th>day_of_week</th>\n",
              "      <th>duration</th>\n",
              "      <th>campaign</th>\n",
              "      <th>pdays</th>\n",
              "      <th>previous</th>\n",
              "      <th>poutcome</th>\n",
              "      <th>emp.var.rate</th>\n",
              "      <th>cons.price.idx</th>\n",
              "      <th>cons.conf.idx</th>\n",
              "      <th>euribor3m</th>\n",
              "      <th>nr.employed</th>\n",
              "      <th>deposit</th>\n",
              "    </tr>\n",
              "  </thead>\n",
              "  <tbody>\n",
              "    <tr>\n",
              "      <th>75</th>\n",
              "      <td>41</td>\n",
              "      <td>blue-collar</td>\n",
              "      <td>divorced</td>\n",
              "      <td>basic.4y</td>\n",
              "      <td>unknown</td>\n",
              "      <td>yes</td>\n",
              "      <td>no</td>\n",
              "      <td>telephone</td>\n",
              "      <td>may</td>\n",
              "      <td>mon</td>\n",
              "      <td>1575</td>\n",
              "      <td>1</td>\n",
              "      <td>999</td>\n",
              "      <td>0</td>\n",
              "      <td>nonexistent</td>\n",
              "      <td>1.1</td>\n",
              "      <td>93.994</td>\n",
              "      <td>-36.4</td>\n",
              "      <td>4.857</td>\n",
              "      <td>5191.0</td>\n",
              "      <td>yes</td>\n",
              "    </tr>\n",
              "    <tr>\n",
              "      <th>83</th>\n",
              "      <td>49</td>\n",
              "      <td>entrepreneur</td>\n",
              "      <td>married</td>\n",
              "      <td>university.degree</td>\n",
              "      <td>unknown</td>\n",
              "      <td>yes</td>\n",
              "      <td>no</td>\n",
              "      <td>telephone</td>\n",
              "      <td>may</td>\n",
              "      <td>mon</td>\n",
              "      <td>1042</td>\n",
              "      <td>1</td>\n",
              "      <td>999</td>\n",
              "      <td>0</td>\n",
              "      <td>nonexistent</td>\n",
              "      <td>1.1</td>\n",
              "      <td>93.994</td>\n",
              "      <td>-36.4</td>\n",
              "      <td>4.857</td>\n",
              "      <td>5191.0</td>\n",
              "      <td>yes</td>\n",
              "    </tr>\n",
              "    <tr>\n",
              "      <th>88</th>\n",
              "      <td>49</td>\n",
              "      <td>technician</td>\n",
              "      <td>married</td>\n",
              "      <td>basic.9y</td>\n",
              "      <td>no</td>\n",
              "      <td>no</td>\n",
              "      <td>no</td>\n",
              "      <td>telephone</td>\n",
              "      <td>may</td>\n",
              "      <td>mon</td>\n",
              "      <td>1467</td>\n",
              "      <td>1</td>\n",
              "      <td>999</td>\n",
              "      <td>0</td>\n",
              "      <td>nonexistent</td>\n",
              "      <td>1.1</td>\n",
              "      <td>93.994</td>\n",
              "      <td>-36.4</td>\n",
              "      <td>4.857</td>\n",
              "      <td>5191.0</td>\n",
              "      <td>yes</td>\n",
              "    </tr>\n",
              "    <tr>\n",
              "      <th>129</th>\n",
              "      <td>41</td>\n",
              "      <td>technician</td>\n",
              "      <td>married</td>\n",
              "      <td>professional.course</td>\n",
              "      <td>unknown</td>\n",
              "      <td>yes</td>\n",
              "      <td>no</td>\n",
              "      <td>telephone</td>\n",
              "      <td>may</td>\n",
              "      <td>mon</td>\n",
              "      <td>579</td>\n",
              "      <td>1</td>\n",
              "      <td>999</td>\n",
              "      <td>0</td>\n",
              "      <td>nonexistent</td>\n",
              "      <td>1.1</td>\n",
              "      <td>93.994</td>\n",
              "      <td>-36.4</td>\n",
              "      <td>4.857</td>\n",
              "      <td>5191.0</td>\n",
              "      <td>yes</td>\n",
              "    </tr>\n",
              "    <tr>\n",
              "      <th>139</th>\n",
              "      <td>45</td>\n",
              "      <td>blue-collar</td>\n",
              "      <td>married</td>\n",
              "      <td>basic.9y</td>\n",
              "      <td>unknown</td>\n",
              "      <td>yes</td>\n",
              "      <td>no</td>\n",
              "      <td>telephone</td>\n",
              "      <td>may</td>\n",
              "      <td>mon</td>\n",
              "      <td>461</td>\n",
              "      <td>1</td>\n",
              "      <td>999</td>\n",
              "      <td>0</td>\n",
              "      <td>nonexistent</td>\n",
              "      <td>1.1</td>\n",
              "      <td>93.994</td>\n",
              "      <td>-36.4</td>\n",
              "      <td>4.857</td>\n",
              "      <td>5191.0</td>\n",
              "      <td>yes</td>\n",
              "    </tr>\n",
              "    <tr>\n",
              "      <th>182</th>\n",
              "      <td>42</td>\n",
              "      <td>blue-collar</td>\n",
              "      <td>married</td>\n",
              "      <td>basic.9y</td>\n",
              "      <td>no</td>\n",
              "      <td>yes</td>\n",
              "      <td>yes</td>\n",
              "      <td>telephone</td>\n",
              "      <td>may</td>\n",
              "      <td>mon</td>\n",
              "      <td>673</td>\n",
              "      <td>2</td>\n",
              "      <td>999</td>\n",
              "      <td>0</td>\n",
              "      <td>nonexistent</td>\n",
              "      <td>1.1</td>\n",
              "      <td>93.994</td>\n",
              "      <td>-36.4</td>\n",
              "      <td>4.857</td>\n",
              "      <td>5191.0</td>\n",
              "      <td>yes</td>\n",
              "    </tr>\n",
              "    <tr>\n",
              "      <th>286</th>\n",
              "      <td>39</td>\n",
              "      <td>housemaid</td>\n",
              "      <td>married</td>\n",
              "      <td>basic.9y</td>\n",
              "      <td>no</td>\n",
              "      <td>yes</td>\n",
              "      <td>no</td>\n",
              "      <td>telephone</td>\n",
              "      <td>may</td>\n",
              "      <td>mon</td>\n",
              "      <td>935</td>\n",
              "      <td>3</td>\n",
              "      <td>999</td>\n",
              "      <td>0</td>\n",
              "      <td>nonexistent</td>\n",
              "      <td>1.1</td>\n",
              "      <td>93.994</td>\n",
              "      <td>-36.4</td>\n",
              "      <td>4.857</td>\n",
              "      <td>5191.0</td>\n",
              "      <td>yes</td>\n",
              "    </tr>\n",
              "    <tr>\n",
              "      <th>388</th>\n",
              "      <td>28</td>\n",
              "      <td>unknown</td>\n",
              "      <td>single</td>\n",
              "      <td>unknown</td>\n",
              "      <td>unknown</td>\n",
              "      <td>yes</td>\n",
              "      <td>yes</td>\n",
              "      <td>telephone</td>\n",
              "      <td>may</td>\n",
              "      <td>tue</td>\n",
              "      <td>1201</td>\n",
              "      <td>1</td>\n",
              "      <td>999</td>\n",
              "      <td>0</td>\n",
              "      <td>nonexistent</td>\n",
              "      <td>1.1</td>\n",
              "      <td>93.994</td>\n",
              "      <td>-36.4</td>\n",
              "      <td>4.857</td>\n",
              "      <td>5191.0</td>\n",
              "      <td>yes</td>\n",
              "    </tr>\n",
              "    <tr>\n",
              "      <th>389</th>\n",
              "      <td>44</td>\n",
              "      <td>services</td>\n",
              "      <td>married</td>\n",
              "      <td>high.school</td>\n",
              "      <td>no</td>\n",
              "      <td>yes</td>\n",
              "      <td>no</td>\n",
              "      <td>telephone</td>\n",
              "      <td>may</td>\n",
              "      <td>tue</td>\n",
              "      <td>1030</td>\n",
              "      <td>1</td>\n",
              "      <td>999</td>\n",
              "      <td>0</td>\n",
              "      <td>nonexistent</td>\n",
              "      <td>1.1</td>\n",
              "      <td>93.994</td>\n",
              "      <td>-36.4</td>\n",
              "      <td>4.857</td>\n",
              "      <td>5191.0</td>\n",
              "      <td>yes</td>\n",
              "    </tr>\n",
              "    <tr>\n",
              "      <th>446</th>\n",
              "      <td>42</td>\n",
              "      <td>technician</td>\n",
              "      <td>married</td>\n",
              "      <td>professional.course</td>\n",
              "      <td>no</td>\n",
              "      <td>no</td>\n",
              "      <td>no</td>\n",
              "      <td>telephone</td>\n",
              "      <td>may</td>\n",
              "      <td>tue</td>\n",
              "      <td>1623</td>\n",
              "      <td>1</td>\n",
              "      <td>999</td>\n",
              "      <td>0</td>\n",
              "      <td>nonexistent</td>\n",
              "      <td>1.1</td>\n",
              "      <td>93.994</td>\n",
              "      <td>-36.4</td>\n",
              "      <td>4.857</td>\n",
              "      <td>5191.0</td>\n",
              "      <td>yes</td>\n",
              "    </tr>\n",
              "  </tbody>\n",
              "</table>\n",
              "</div>\n",
              "    <div class=\"colab-df-buttons\">\n",
              "\n",
              "  <div class=\"colab-df-container\">\n",
              "    <button class=\"colab-df-convert\" onclick=\"convertToInteractive('df-287103b9-f242-4480-8c4a-a730e5e03a68')\"\n",
              "            title=\"Convert this dataframe to an interactive table.\"\n",
              "            style=\"display:none;\">\n",
              "\n",
              "  <svg xmlns=\"http://www.w3.org/2000/svg\" height=\"24px\" viewBox=\"0 -960 960 960\">\n",
              "    <path d=\"M120-120v-720h720v720H120Zm60-500h600v-160H180v160Zm220 220h160v-160H400v160Zm0 220h160v-160H400v160ZM180-400h160v-160H180v160Zm440 0h160v-160H620v160ZM180-180h160v-160H180v160Zm440 0h160v-160H620v160Z\"/>\n",
              "  </svg>\n",
              "    </button>\n",
              "\n",
              "  <style>\n",
              "    .colab-df-container {\n",
              "      display:flex;\n",
              "      gap: 12px;\n",
              "    }\n",
              "\n",
              "    .colab-df-convert {\n",
              "      background-color: #E8F0FE;\n",
              "      border: none;\n",
              "      border-radius: 50%;\n",
              "      cursor: pointer;\n",
              "      display: none;\n",
              "      fill: #1967D2;\n",
              "      height: 32px;\n",
              "      padding: 0 0 0 0;\n",
              "      width: 32px;\n",
              "    }\n",
              "\n",
              "    .colab-df-convert:hover {\n",
              "      background-color: #E2EBFA;\n",
              "      box-shadow: 0px 1px 2px rgba(60, 64, 67, 0.3), 0px 1px 3px 1px rgba(60, 64, 67, 0.15);\n",
              "      fill: #174EA6;\n",
              "    }\n",
              "\n",
              "    .colab-df-buttons div {\n",
              "      margin-bottom: 4px;\n",
              "    }\n",
              "\n",
              "    [theme=dark] .colab-df-convert {\n",
              "      background-color: #3B4455;\n",
              "      fill: #D2E3FC;\n",
              "    }\n",
              "\n",
              "    [theme=dark] .colab-df-convert:hover {\n",
              "      background-color: #434B5C;\n",
              "      box-shadow: 0px 1px 3px 1px rgba(0, 0, 0, 0.15);\n",
              "      filter: drop-shadow(0px 1px 2px rgba(0, 0, 0, 0.3));\n",
              "      fill: #FFFFFF;\n",
              "    }\n",
              "  </style>\n",
              "\n",
              "    <script>\n",
              "      const buttonEl =\n",
              "        document.querySelector('#df-287103b9-f242-4480-8c4a-a730e5e03a68 button.colab-df-convert');\n",
              "      buttonEl.style.display =\n",
              "        google.colab.kernel.accessAllowed ? 'block' : 'none';\n",
              "\n",
              "      async function convertToInteractive(key) {\n",
              "        const element = document.querySelector('#df-287103b9-f242-4480-8c4a-a730e5e03a68');\n",
              "        const dataTable =\n",
              "          await google.colab.kernel.invokeFunction('convertToInteractive',\n",
              "                                                    [key], {});\n",
              "        if (!dataTable) return;\n",
              "\n",
              "        const docLinkHtml = 'Like what you see? Visit the ' +\n",
              "          '<a target=\"_blank\" href=https://colab.research.google.com/notebooks/data_table.ipynb>data table notebook</a>'\n",
              "          + ' to learn more about interactive tables.';\n",
              "        element.innerHTML = '';\n",
              "        dataTable['output_type'] = 'display_data';\n",
              "        await google.colab.output.renderOutput(dataTable, element);\n",
              "        const docLink = document.createElement('div');\n",
              "        docLink.innerHTML = docLinkHtml;\n",
              "        element.appendChild(docLink);\n",
              "      }\n",
              "    </script>\n",
              "  </div>\n",
              "\n",
              "\n",
              "<div id=\"df-3cc6f34d-1536-4339-a814-0a826e769cfb\">\n",
              "  <button class=\"colab-df-quickchart\" onclick=\"quickchart('df-3cc6f34d-1536-4339-a814-0a826e769cfb')\"\n",
              "            title=\"Suggest charts\"\n",
              "            style=\"display:none;\">\n",
              "\n",
              "<svg xmlns=\"http://www.w3.org/2000/svg\" height=\"24px\"viewBox=\"0 0 24 24\"\n",
              "     width=\"24px\">\n",
              "    <g>\n",
              "        <path d=\"M19 3H5c-1.1 0-2 .9-2 2v14c0 1.1.9 2 2 2h14c1.1 0 2-.9 2-2V5c0-1.1-.9-2-2-2zM9 17H7v-7h2v7zm4 0h-2V7h2v10zm4 0h-2v-4h2v4z\"/>\n",
              "    </g>\n",
              "</svg>\n",
              "  </button>\n",
              "\n",
              "<style>\n",
              "  .colab-df-quickchart {\n",
              "      --bg-color: #E8F0FE;\n",
              "      --fill-color: #1967D2;\n",
              "      --hover-bg-color: #E2EBFA;\n",
              "      --hover-fill-color: #174EA6;\n",
              "      --disabled-fill-color: #AAA;\n",
              "      --disabled-bg-color: #DDD;\n",
              "  }\n",
              "\n",
              "  [theme=dark] .colab-df-quickchart {\n",
              "      --bg-color: #3B4455;\n",
              "      --fill-color: #D2E3FC;\n",
              "      --hover-bg-color: #434B5C;\n",
              "      --hover-fill-color: #FFFFFF;\n",
              "      --disabled-bg-color: #3B4455;\n",
              "      --disabled-fill-color: #666;\n",
              "  }\n",
              "\n",
              "  .colab-df-quickchart {\n",
              "    background-color: var(--bg-color);\n",
              "    border: none;\n",
              "    border-radius: 50%;\n",
              "    cursor: pointer;\n",
              "    display: none;\n",
              "    fill: var(--fill-color);\n",
              "    height: 32px;\n",
              "    padding: 0;\n",
              "    width: 32px;\n",
              "  }\n",
              "\n",
              "  .colab-df-quickchart:hover {\n",
              "    background-color: var(--hover-bg-color);\n",
              "    box-shadow: 0 1px 2px rgba(60, 64, 67, 0.3), 0 1px 3px 1px rgba(60, 64, 67, 0.15);\n",
              "    fill: var(--button-hover-fill-color);\n",
              "  }\n",
              "\n",
              "  .colab-df-quickchart-complete:disabled,\n",
              "  .colab-df-quickchart-complete:disabled:hover {\n",
              "    background-color: var(--disabled-bg-color);\n",
              "    fill: var(--disabled-fill-color);\n",
              "    box-shadow: none;\n",
              "  }\n",
              "\n",
              "  .colab-df-spinner {\n",
              "    border: 2px solid var(--fill-color);\n",
              "    border-color: transparent;\n",
              "    border-bottom-color: var(--fill-color);\n",
              "    animation:\n",
              "      spin 1s steps(1) infinite;\n",
              "  }\n",
              "\n",
              "  @keyframes spin {\n",
              "    0% {\n",
              "      border-color: transparent;\n",
              "      border-bottom-color: var(--fill-color);\n",
              "      border-left-color: var(--fill-color);\n",
              "    }\n",
              "    20% {\n",
              "      border-color: transparent;\n",
              "      border-left-color: var(--fill-color);\n",
              "      border-top-color: var(--fill-color);\n",
              "    }\n",
              "    30% {\n",
              "      border-color: transparent;\n",
              "      border-left-color: var(--fill-color);\n",
              "      border-top-color: var(--fill-color);\n",
              "      border-right-color: var(--fill-color);\n",
              "    }\n",
              "    40% {\n",
              "      border-color: transparent;\n",
              "      border-right-color: var(--fill-color);\n",
              "      border-top-color: var(--fill-color);\n",
              "    }\n",
              "    60% {\n",
              "      border-color: transparent;\n",
              "      border-right-color: var(--fill-color);\n",
              "    }\n",
              "    80% {\n",
              "      border-color: transparent;\n",
              "      border-right-color: var(--fill-color);\n",
              "      border-bottom-color: var(--fill-color);\n",
              "    }\n",
              "    90% {\n",
              "      border-color: transparent;\n",
              "      border-bottom-color: var(--fill-color);\n",
              "    }\n",
              "  }\n",
              "</style>\n",
              "\n",
              "  <script>\n",
              "    async function quickchart(key) {\n",
              "      const quickchartButtonEl =\n",
              "        document.querySelector('#' + key + ' button');\n",
              "      quickchartButtonEl.disabled = true;  // To prevent multiple clicks.\n",
              "      quickchartButtonEl.classList.add('colab-df-spinner');\n",
              "      try {\n",
              "        const charts = await google.colab.kernel.invokeFunction(\n",
              "            'suggestCharts', [key], {});\n",
              "      } catch (error) {\n",
              "        console.error('Error during call to suggestCharts:', error);\n",
              "      }\n",
              "      quickchartButtonEl.classList.remove('colab-df-spinner');\n",
              "      quickchartButtonEl.classList.add('colab-df-quickchart-complete');\n",
              "    }\n",
              "    (() => {\n",
              "      let quickchartButtonEl =\n",
              "        document.querySelector('#df-3cc6f34d-1536-4339-a814-0a826e769cfb button');\n",
              "      quickchartButtonEl.style.display =\n",
              "        google.colab.kernel.accessAllowed ? 'block' : 'none';\n",
              "    })();\n",
              "  </script>\n",
              "</div>\n",
              "\n",
              "    </div>\n",
              "  </div>\n"
            ],
            "application/vnd.google.colaboratory.intrinsic+json": {
              "type": "dataframe",
              "variable_name": "bank_df"
            }
          },
          "metadata": {},
          "execution_count": 20
        }
      ],
      "source": [
        "# Create a new df with customers where deposit = yes\n",
        "#bank_df = df.query(\"deposit = yes\")\n",
        "value='yes'\n",
        "bank_df=df.query(\"deposit == @value\")\n",
        "bank_df.head(10)"
      ]
    },
    {
      "cell_type": "code",
      "execution_count": 21,
      "metadata": {
        "colab": {
          "base_uri": "https://localhost:8080/"
        },
        "id": "8mmbEUahSTfS",
        "outputId": "83e0cf12-0bce-419b-f2a9-973d5b370ee8"
      },
      "outputs": [
        {
          "output_type": "stream",
          "name": "stdout",
          "text": [
            "Number of Successful campaign records (4640, 21)\n"
          ]
        }
      ],
      "source": [
        "print('Number of Successful campaign records', bank_df.shape)"
      ]
    },
    {
      "cell_type": "code",
      "execution_count": 22,
      "metadata": {
        "colab": {
          "base_uri": "https://localhost:8080/",
          "height": 707
        },
        "id": "t8flJsI6STfT",
        "outputId": "58ac282e-d82e-42bc-cb0b-ed7ba7db8f77"
      },
      "outputs": [
        {
          "output_type": "display_data",
          "data": {
            "text/plain": [
              "<Figure size 1200x700 with 1 Axes>"
            ],
            "image/png": "[encoded data removed]"
          },
          "metadata": {}
        }
      ],
      "source": [
        "# Let plot a bar chart of the\n",
        "# count plot on two categorical variable\n",
        "\n",
        "plt.rcParams[\"figure.figsize\"] = [12, 7]\n",
        "plt.rcParams[\"figure.autolayout\"] = True\n",
        "ax = sns.countplot(x =bank_df['marital'], hue = bank_df[\"deposit\"], data = df)\n",
        "\n",
        "# Adding Title to the Plot\n",
        "ax.set_title('Bar Plot of Customers Long Term Application Acceptance by Marital Status - Deposit=Yes')\n",
        "\n",
        "for p in ax.patches:\n",
        "   ax.annotate('{:.1f}'.format(p.get_height()), (p.get_x()+0.25, p.get_height()+0.01))\n",
        "\n",
        "# Setting the X and Y labels\n",
        "ax.set_xlabel('Marital Status')\n",
        "ax.set_ylabel('Count')\n",
        "\n",
        "# Show the plot\n",
        "plt.show()"
      ]
    },
    {
      "cell_type": "code",
      "execution_count": 23,
      "metadata": {
        "colab": {
          "base_uri": "https://localhost:8080/",
          "height": 707
        },
        "id": "xOEA0jjJSTfU",
        "outputId": "d6040944-794f-4a18-e0a5-14a670c464cc"
      },
      "outputs": [
        {
          "output_type": "display_data",
          "data": {
            "text/plain": [
              "<Figure size 1200x700 with 1 Axes>"
            ],
            "image/png": "[encoded data removed]"
          },
          "metadata": {}
        }
      ],
      "source": [
        "# Bar plot of count of accepted term deposit application by Education\n",
        "ax = sns.countplot(y ='education', hue = \"deposit\", data = bank_df)\n",
        "\n",
        "# Adding Title to the Plot\n",
        "ax.set_title('Bar Plot of Customers Long Term Application Acceptance by Education - Deposit=Yes')\n",
        "\n",
        "# Setting the X and Y labels\n",
        "ax.set_xlabel('Contact')\n",
        "ax.set_ylabel('Education')\n",
        "\n",
        "# Show the plot\n",
        "plt.show()"
      ]
    },
    {
      "cell_type": "code",
      "execution_count": 24,
      "metadata": {
        "colab": {
          "base_uri": "https://localhost:8080/",
          "height": 707
        },
        "id": "-4zQlvCdSTfV",
        "outputId": "2f0bdd03-ed5b-46df-85fc-99aac61e47b7"
      },
      "outputs": [
        {
          "output_type": "display_data",
          "data": {
            "text/plain": [
              "<Figure size 1200x700 with 1 Axes>"
            ],
            "image/png": "[encoded data removed]"
          },
          "metadata": {}
        }
      ],
      "source": [
        "# Bar plot of count of accepted term deposit application by job\n",
        "ax = sns.countplot(x ='job', hue = \"deposit\", data = bank_df)\n",
        "\n",
        "# Adding Title to the Plot\n",
        "ax.set_title('Bar Plot of Customers Long Term Application Acceptance by Job - Deposit=Yes')\n",
        "\n",
        "# Setting the X and Y labels\n",
        "ax.set_xlabel('Job')\n",
        "ax.set_ylabel('Count')\n",
        "\n",
        "# Show the plot\n",
        "plt.show()"
      ]
    },
    {
      "cell_type": "code",
      "execution_count": 25,
      "metadata": {
        "colab": {
          "base_uri": "https://localhost:8080/",
          "height": 707
        },
        "id": "cN7_Ti1VSTfW",
        "outputId": "563f9712-fa87-4830-e366-7c018a183cdb"
      },
      "outputs": [
        {
          "output_type": "display_data",
          "data": {
            "text/plain": [
              "<Figure size 1200x700 with 1 Axes>"
            ],
            "image/png": "[encoded data removed]"
          },
          "metadata": {}
        }
      ],
      "source": [
        "plt.rcParams[\"figure.figsize\"] = [12, 7]\n",
        "plt.rcParams[\"figure.autolayout\"] = True\n",
        "ax = sns.countplot(x ='contact', hue = \"deposit\", data = bank_df)\n",
        "\n",
        "# Adding Title to the Plot\n",
        "ax.set_title('Bar Plot of Customers Long Term Application Acceptance by Contact - Deposit=Yes')\n",
        "\n",
        "for p in ax.patches:\n",
        "   ax.annotate('{:.1f}'.format(p.get_height()), (p.get_x()+0.25, p.get_height()+0.01))\n",
        "\n",
        "# Setting the X and Y labels\n",
        "ax.set_xlabel('Contact')\n",
        "ax.set_ylabel('Count')\n",
        "\n",
        "# Show the plot\n",
        "plt.show()"
      ]
    },
    {
      "cell_type": "markdown",
      "metadata": {
        "id": "Tl8vFSWmSTfX"
      },
      "source": [
        "#### Observations"
      ]
    },
    {
      "cell_type": "markdown",
      "metadata": {
        "id": "7WUVvugSSTfX"
      },
      "source": [
        "Reviewing the plots where the customer signed up for the Bank Product/Marketing campaign was successful, you can observe the following:\n",
        "- Marital Status - Bank was successful with customers that were married followed by single folks\n",
        "- On Education, university degree folks said yes to the bank loan product\n",
        "- For Job, bank had the most success with folks in admin role which is very broad, followed by Technician, then blue-collar\n",
        "- Finally, marketing campaign was more successful with folks that used Cellular phones"
      ]
    },
    {
      "cell_type": "code",
      "execution_count": 25,
      "metadata": {
        "id": "dvQ4iloTSTfY"
      },
      "outputs": [],
      "source": []
    },
    {
      "cell_type": "markdown",
      "metadata": {
        "id": "TZr5yEsvSTfY"
      },
      "source": [
        "### Problem 4: Understanding the Task\n",
        "\n",
        "After examining the description and data, your goal now is to clearly state the *Business Objective* of the task.  State the objective below."
      ]
    },
    {
      "cell_type": "code",
      "execution_count": 26,
      "metadata": {
        "scrolled": true,
        "colab": {
          "base_uri": "https://localhost:8080/"
        },
        "id": "3sRg3DdCSTfZ",
        "outputId": "9b4ee35c-26aa-4f20-81ca-384dd7f5b9b9"
      },
      "outputs": [
        {
          "output_type": "stream",
          "name": "stdout",
          "text": [
            "<class 'pandas.core.frame.DataFrame'>\n",
            "RangeIndex: 41188 entries, 0 to 41187\n",
            "Data columns (total 21 columns):\n",
            " #   Column          Non-Null Count  Dtype  \n",
            "---  ------          --------------  -----  \n",
            " 0   age             41188 non-null  int64  \n",
            " 1   job             41188 non-null  object \n",
            " 2   marital         41188 non-null  object \n",
            " 3   education       41188 non-null  object \n",
            " 4   default         41188 non-null  object \n",
            " 5   housing         41188 non-null  object \n",
            " 6   loan            41188 non-null  object \n",
            " 7   contact         41188 non-null  object \n",
            " 8   month           41188 non-null  object \n",
            " 9   day_of_week     41188 non-null  object \n",
            " 10  duration        41188 non-null  int64  \n",
            " 11  campaign        41188 non-null  int64  \n",
            " 12  pdays           41188 non-null  int64  \n",
            " 13  previous        41188 non-null  int64  \n",
            " 14  poutcome        41188 non-null  object \n",
            " 15  emp.var.rate    41188 non-null  float64\n",
            " 16  cons.price.idx  41188 non-null  float64\n",
            " 17  cons.conf.idx   41188 non-null  float64\n",
            " 18  euribor3m       41188 non-null  float64\n",
            " 19  nr.employed     41188 non-null  float64\n",
            " 20  deposit         41188 non-null  object \n",
            "dtypes: float64(5), int64(5), object(11)\n",
            "memory usage: 6.6+ MB\n"
          ]
        }
      ],
      "source": [
        "df.info()"
      ]
    },
    {
      "cell_type": "code",
      "execution_count": 26,
      "metadata": {
        "id": "Tt3suY0TSTft"
      },
      "outputs": [],
      "source": []
    },
    {
      "cell_type": "markdown",
      "metadata": {
        "id": "R7hYgHmaSTft"
      },
      "source": [
        "This dataset was provided for a Portugese banking institution and is a collection of the results of multiple marketing campaigns.  The analysis of the data shows that the marketing campaign was not very successful in getting customers to sign up for the long term deposit product.\n",
        "\n",
        "From a business objective, the task of this Machine Learning project is to determine which factors could lead to a higher success rate, for example,\n",
        "- How does loan products have a positive impact on customer success rate?, for example, do we concentrate on customers with Housing loan?\n",
        "- Are we going to have a better success rate with customers with “university degree”?\n",
        "- How does the contact method (i.e., cellular) affect whether the success rate for long term loan products?"
      ]
    },
    {
      "cell_type": "code",
      "execution_count": 26,
      "metadata": {
        "id": "Kd8xT6TOSTfv"
      },
      "outputs": [],
      "source": []
    },
    {
      "cell_type": "markdown",
      "metadata": {
        "id": "ppyG-LnoSTfv"
      },
      "source": [
        "### Problem 5: Engineering Features\n",
        "\n",
        "Now that you understand your business objective, we will build a basic model to get started.  Before we can do this, we must work to encode the data.  Using just the bank information features (columns 1 - 7), prepare the features and target column for modeling with appropriate encoding and transformations."
      ]
    },
    {
      "cell_type": "code",
      "execution_count": 27,
      "metadata": {
        "colab": {
          "base_uri": "https://localhost:8080/",
          "height": 363
        },
        "id": "B0LSS-SrSTfw",
        "outputId": "f24b4957-8acd-470d-9666-e6af9e530c29"
      },
      "outputs": [
        {
          "output_type": "execute_result",
          "data": {
            "text/plain": [
              "           job  marital            education  default housing loan    contact\n",
              "0    housemaid  married             basic.4y       no      no   no  telephone\n",
              "1     services  married          high.school  unknown      no   no  telephone\n",
              "2     services  married          high.school       no     yes   no  telephone\n",
              "3       admin.  married             basic.6y       no      no   no  telephone\n",
              "4     services  married          high.school       no      no  yes  telephone\n",
              "5     services  married             basic.9y  unknown      no   no  telephone\n",
              "6       admin.  married  professional.course       no      no   no  telephone\n",
              "7  blue-collar  married              unknown  unknown      no   no  telephone\n",
              "8   technician   single  professional.course       no     yes   no  telephone\n",
              "9     services   single          high.school       no     yes   no  telephone"
            ],
            "text/html": [
              "\n",
              "  <div id=\"df-6108de85-9853-434b-b442-dda6f8681b2c\" class=\"colab-df-container\">\n",
              "    <div>\n",
              "<style scoped>\n",
              "    .dataframe tbody tr th:only-of-type {\n",
              "        vertical-align: middle;\n",
              "    }\n",
              "\n",
              "    .dataframe tbody tr th {\n",
              "        vertical-align: top;\n",
              "    }\n",
              "\n",
              "    .dataframe thead th {\n",
              "        text-align: right;\n",
              "    }\n",
              "</style>\n",
              "<table border=\"1\" class=\"dataframe\">\n",
              "  <thead>\n",
              "    <tr style=\"text-align: right;\">\n",
              "      <th></th>\n",
              "      <th>job</th>\n",
              "      <th>marital</th>\n",
              "      <th>education</th>\n",
              "      <th>default</th>\n",
              "      <th>housing</th>\n",
              "      <th>loan</th>\n",
              "      <th>contact</th>\n",
              "    </tr>\n",
              "  </thead>\n",
              "  <tbody>\n",
              "    <tr>\n",
              "      <th>0</th>\n",
              "      <td>housemaid</td>\n",
              "      <td>married</td>\n",
              "      <td>basic.4y</td>\n",
              "      <td>no</td>\n",
              "      <td>no</td>\n",
              "      <td>no</td>\n",
              "      <td>telephone</td>\n",
              "    </tr>\n",
              "    <tr>\n",
              "      <th>1</th>\n",
              "      <td>services</td>\n",
              "      <td>married</td>\n",
              "      <td>high.school</td>\n",
              "      <td>unknown</td>\n",
              "      <td>no</td>\n",
              "      <td>no</td>\n",
              "      <td>telephone</td>\n",
              "    </tr>\n",
              "    <tr>\n",
              "      <th>2</th>\n",
              "      <td>services</td>\n",
              "      <td>married</td>\n",
              "      <td>high.school</td>\n",
              "      <td>no</td>\n",
              "      <td>yes</td>\n",
              "      <td>no</td>\n",
              "      <td>telephone</td>\n",
              "    </tr>\n",
              "    <tr>\n",
              "      <th>3</th>\n",
              "      <td>admin.</td>\n",
              "      <td>married</td>\n",
              "      <td>basic.6y</td>\n",
              "      <td>no</td>\n",
              "      <td>no</td>\n",
              "      <td>no</td>\n",
              "      <td>telephone</td>\n",
              "    </tr>\n",
              "    <tr>\n",
              "      <th>4</th>\n",
              "      <td>services</td>\n",
              "      <td>married</td>\n",
              "      <td>high.school</td>\n",
              "      <td>no</td>\n",
              "      <td>no</td>\n",
              "      <td>yes</td>\n",
              "      <td>telephone</td>\n",
              "    </tr>\n",
              "    <tr>\n",
              "      <th>5</th>\n",
              "      <td>services</td>\n",
              "      <td>married</td>\n",
              "      <td>basic.9y</td>\n",
              "      <td>unknown</td>\n",
              "      <td>no</td>\n",
              "      <td>no</td>\n",
              "      <td>telephone</td>\n",
              "    </tr>\n",
              "    <tr>\n",
              "      <th>6</th>\n",
              "      <td>admin.</td>\n",
              "      <td>married</td>\n",
              "      <td>professional.course</td>\n",
              "      <td>no</td>\n",
              "      <td>no</td>\n",
              "      <td>no</td>\n",
              "      <td>telephone</td>\n",
              "    </tr>\n",
              "    <tr>\n",
              "      <th>7</th>\n",
              "      <td>blue-collar</td>\n",
              "      <td>married</td>\n",
              "      <td>unknown</td>\n",
              "      <td>unknown</td>\n",
              "      <td>no</td>\n",
              "      <td>no</td>\n",
              "      <td>telephone</td>\n",
              "    </tr>\n",
              "    <tr>\n",
              "      <th>8</th>\n",
              "      <td>technician</td>\n",
              "      <td>single</td>\n",
              "      <td>professional.course</td>\n",
              "      <td>no</td>\n",
              "      <td>yes</td>\n",
              "      <td>no</td>\n",
              "      <td>telephone</td>\n",
              "    </tr>\n",
              "    <tr>\n",
              "      <th>9</th>\n",
              "      <td>services</td>\n",
              "      <td>single</td>\n",
              "      <td>high.school</td>\n",
              "      <td>no</td>\n",
              "      <td>yes</td>\n",
              "      <td>no</td>\n",
              "      <td>telephone</td>\n",
              "    </tr>\n",
              "  </tbody>\n",
              "</table>\n",
              "</div>\n",
              "    <div class=\"colab-df-buttons\">\n",
              "\n",
              "  <div class=\"colab-df-container\">\n",
              "    <button class=\"colab-df-convert\" onclick=\"convertToInteractive('df-6108de85-9853-434b-b442-dda6f8681b2c')\"\n",
              "            title=\"Convert this dataframe to an interactive table.\"\n",
              "            style=\"display:none;\">\n",
              "\n",
              "  <svg xmlns=\"http://www.w3.org/2000/svg\" height=\"24px\" viewBox=\"0 -960 960 960\">\n",
              "    <path d=\"M120-120v-720h720v720H120Zm60-500h600v-160H180v160Zm220 220h160v-160H400v160Zm0 220h160v-160H400v160ZM180-400h160v-160H180v160Zm440 0h160v-160H620v160ZM180-180h160v-160H180v160Zm440 0h160v-160H620v160Z\"/>\n",
              "  </svg>\n",
              "    </button>\n",
              "\n",
              "  <style>\n",
              "    .colab-df-container {\n",
              "      display:flex;\n",
              "      gap: 12px;\n",
              "    }\n",
              "\n",
              "    .colab-df-convert {\n",
              "      background-color: #E8F0FE;\n",
              "      border: none;\n",
              "      border-radius: 50%;\n",
              "      cursor: pointer;\n",
              "      display: none;\n",
              "      fill: #1967D2;\n",
              "      height: 32px;\n",
              "      padding: 0 0 0 0;\n",
              "      width: 32px;\n",
              "    }\n",
              "\n",
              "    .colab-df-convert:hover {\n",
              "      background-color: #E2EBFA;\n",
              "      box-shadow: 0px 1px 2px rgba(60, 64, 67, 0.3), 0px 1px 3px 1px rgba(60, 64, 67, 0.15);\n",
              "      fill: #174EA6;\n",
              "    }\n",
              "\n",
              "    .colab-df-buttons div {\n",
              "      margin-bottom: 4px;\n",
              "    }\n",
              "\n",
              "    [theme=dark] .colab-df-convert {\n",
              "      background-color: #3B4455;\n",
              "      fill: #D2E3FC;\n",
              "    }\n",
              "\n",
              "    [theme=dark] .colab-df-convert:hover {\n",
              "      background-color: #434B5C;\n",
              "      box-shadow: 0px 1px 3px 1px rgba(0, 0, 0, 0.15);\n",
              "      filter: drop-shadow(0px 1px 2px rgba(0, 0, 0, 0.3));\n",
              "      fill: #FFFFFF;\n",
              "    }\n",
              "  </style>\n",
              "\n",
              "    <script>\n",
              "      const buttonEl =\n",
              "        document.querySelector('#df-6108de85-9853-434b-b442-dda6f8681b2c button.colab-df-convert');\n",
              "      buttonEl.style.display =\n",
              "        google.colab.kernel.accessAllowed ? 'block' : 'none';\n",
              "\n",
              "      async function convertToInteractive(key) {\n",
              "        const element = document.querySelector('#df-6108de85-9853-434b-b442-dda6f8681b2c');\n",
              "        const dataTable =\n",
              "          await google.colab.kernel.invokeFunction('convertToInteractive',\n",
              "                                                    [key], {});\n",
              "        if (!dataTable) return;\n",
              "\n",
              "        const docLinkHtml = 'Like what you see? Visit the ' +\n",
              "          '<a target=\"_blank\" href=https://colab.research.google.com/notebooks/data_table.ipynb>data table notebook</a>'\n",
              "          + ' to learn more about interactive tables.';\n",
              "        element.innerHTML = '';\n",
              "        dataTable['output_type'] = 'display_data';\n",
              "        await google.colab.output.renderOutput(dataTable, element);\n",
              "        const docLink = document.createElement('div');\n",
              "        docLink.innerHTML = docLinkHtml;\n",
              "        element.appendChild(docLink);\n",
              "      }\n",
              "    </script>\n",
              "  </div>\n",
              "\n",
              "\n",
              "<div id=\"df-ad4af974-19fa-4028-9355-ea091e597f64\">\n",
              "  <button class=\"colab-df-quickchart\" onclick=\"quickchart('df-ad4af974-19fa-4028-9355-ea091e597f64')\"\n",
              "            title=\"Suggest charts\"\n",
              "            style=\"display:none;\">\n",
              "\n",
              "<svg xmlns=\"http://www.w3.org/2000/svg\" height=\"24px\"viewBox=\"0 0 24 24\"\n",
              "     width=\"24px\">\n",
              "    <g>\n",
              "        <path d=\"M19 3H5c-1.1 0-2 .9-2 2v14c0 1.1.9 2 2 2h14c1.1 0 2-.9 2-2V5c0-1.1-.9-2-2-2zM9 17H7v-7h2v7zm4 0h-2V7h2v10zm4 0h-2v-4h2v4z\"/>\n",
              "    </g>\n",
              "</svg>\n",
              "  </button>\n",
              "\n",
              "<style>\n",
              "  .colab-df-quickchart {\n",
              "      --bg-color: #E8F0FE;\n",
              "      --fill-color: #1967D2;\n",
              "      --hover-bg-color: #E2EBFA;\n",
              "      --hover-fill-color: #174EA6;\n",
              "      --disabled-fill-color: #AAA;\n",
              "      --disabled-bg-color: #DDD;\n",
              "  }\n",
              "\n",
              "  [theme=dark] .colab-df-quickchart {\n",
              "      --bg-color: #3B4455;\n",
              "      --fill-color: #D2E3FC;\n",
              "      --hover-bg-color: #434B5C;\n",
              "      --hover-fill-color: #FFFFFF;\n",
              "      --disabled-bg-color: #3B4455;\n",
              "      --disabled-fill-color: #666;\n",
              "  }\n",
              "\n",
              "  .colab-df-quickchart {\n",
              "    background-color: var(--bg-color);\n",
              "    border: none;\n",
              "    border-radius: 50%;\n",
              "    cursor: pointer;\n",
              "    display: none;\n",
              "    fill: var(--fill-color);\n",
              "    height: 32px;\n",
              "    padding: 0;\n",
              "    width: 32px;\n",
              "  }\n",
              "\n",
              "  .colab-df-quickchart:hover {\n",
              "    background-color: var(--hover-bg-color);\n",
              "    box-shadow: 0 1px 2px rgba(60, 64, 67, 0.3), 0 1px 3px 1px rgba(60, 64, 67, 0.15);\n",
              "    fill: var(--button-hover-fill-color);\n",
              "  }\n",
              "\n",
              "  .colab-df-quickchart-complete:disabled,\n",
              "  .colab-df-quickchart-complete:disabled:hover {\n",
              "    background-color: var(--disabled-bg-color);\n",
              "    fill: var(--disabled-fill-color);\n",
              "    box-shadow: none;\n",
              "  }\n",
              "\n",
              "  .colab-df-spinner {\n",
              "    border: 2px solid var(--fill-color);\n",
              "    border-color: transparent;\n",
              "    border-bottom-color: var(--fill-color);\n",
              "    animation:\n",
              "      spin 1s steps(1) infinite;\n",
              "  }\n",
              "\n",
              "  @keyframes spin {\n",
              "    0% {\n",
              "      border-color: transparent;\n",
              "      border-bottom-color: var(--fill-color);\n",
              "      border-left-color: var(--fill-color);\n",
              "    }\n",
              "    20% {\n",
              "      border-color: transparent;\n",
              "      border-left-color: var(--fill-color);\n",
              "      border-top-color: var(--fill-color);\n",
              "    }\n",
              "    30% {\n",
              "      border-color: transparent;\n",
              "      border-left-color: var(--fill-color);\n",
              "      border-top-color: var(--fill-color);\n",
              "      border-right-color: var(--fill-color);\n",
              "    }\n",
              "    40% {\n",
              "      border-color: transparent;\n",
              "      border-right-color: var(--fill-color);\n",
              "      border-top-color: var(--fill-color);\n",
              "    }\n",
              "    60% {\n",
              "      border-color: transparent;\n",
              "      border-right-color: var(--fill-color);\n",
              "    }\n",
              "    80% {\n",
              "      border-color: transparent;\n",
              "      border-right-color: var(--fill-color);\n",
              "      border-bottom-color: var(--fill-color);\n",
              "    }\n",
              "    90% {\n",
              "      border-color: transparent;\n",
              "      border-bottom-color: var(--fill-color);\n",
              "    }\n",
              "  }\n",
              "</style>\n",
              "\n",
              "  <script>\n",
              "    async function quickchart(key) {\n",
              "      const quickchartButtonEl =\n",
              "        document.querySelector('#' + key + ' button');\n",
              "      quickchartButtonEl.disabled = true;  // To prevent multiple clicks.\n",
              "      quickchartButtonEl.classList.add('colab-df-spinner');\n",
              "      try {\n",
              "        const charts = await google.colab.kernel.invokeFunction(\n",
              "            'suggestCharts', [key], {});\n",
              "      } catch (error) {\n",
              "        console.error('Error during call to suggestCharts:', error);\n",
              "      }\n",
              "      quickchartButtonEl.classList.remove('colab-df-spinner');\n",
              "      quickchartButtonEl.classList.add('colab-df-quickchart-complete');\n",
              "    }\n",
              "    (() => {\n",
              "      let quickchartButtonEl =\n",
              "        document.querySelector('#df-ad4af974-19fa-4028-9355-ea091e597f64 button');\n",
              "      quickchartButtonEl.style.display =\n",
              "        google.colab.kernel.accessAllowed ? 'block' : 'none';\n",
              "    })();\n",
              "  </script>\n",
              "</div>\n",
              "\n",
              "    </div>\n",
              "  </div>\n"
            ],
            "application/vnd.google.colaboratory.intrinsic+json": {
              "type": "dataframe",
              "variable_name": "X",
              "summary": "{\n  \"name\": \"X\",\n  \"rows\": 41188,\n  \"fields\": [\n    {\n      \"column\": \"job\",\n      \"properties\": {\n        \"dtype\": \"category\",\n        \"samples\": [\n          \"entrepreneur\",\n          \"unknown\",\n          \"housemaid\"\n        ],\n        \"num_unique_values\": 12,\n        \"semantic_type\": \"\",\n        \"description\": \"\"\n      }\n    },\n    {\n      \"column\": \"marital\",\n      \"properties\": {\n        \"dtype\": \"category\",\n        \"samples\": [\n          \"single\",\n          \"unknown\",\n          \"married\"\n        ],\n        \"num_unique_values\": 4,\n        \"semantic_type\": \"\",\n        \"description\": \"\"\n      }\n    },\n    {\n      \"column\": \"education\",\n      \"properties\": {\n        \"dtype\": \"category\",\n        \"samples\": [\n          \"high.school\",\n          \"unknown\",\n          \"basic.4y\"\n        ],\n        \"num_unique_values\": 8,\n        \"semantic_type\": \"\",\n        \"description\": \"\"\n      }\n    },\n    {\n      \"column\": \"default\",\n      \"properties\": {\n        \"dtype\": \"category\",\n        \"samples\": [\n          \"no\",\n          \"unknown\",\n          \"yes\"\n        ],\n        \"num_unique_values\": 3,\n        \"semantic_type\": \"\",\n        \"description\": \"\"\n      }\n    },\n    {\n      \"column\": \"housing\",\n      \"properties\": {\n        \"dtype\": \"category\",\n        \"samples\": [\n          \"no\",\n          \"yes\",\n          \"unknown\"\n        ],\n        \"num_unique_values\": 3,\n        \"semantic_type\": \"\",\n        \"description\": \"\"\n      }\n    },\n    {\n      \"column\": \"loan\",\n      \"properties\": {\n        \"dtype\": \"category\",\n        \"samples\": [\n          \"no\",\n          \"yes\",\n          \"unknown\"\n        ],\n        \"num_unique_values\": 3,\n        \"semantic_type\": \"\",\n        \"description\": \"\"\n      }\n    },\n    {\n      \"column\": \"contact\",\n      \"properties\": {\n        \"dtype\": \"category\",\n        \"samples\": [\n          \"cellular\",\n          \"telephone\"\n        ],\n        \"num_unique_values\": 2,\n        \"semantic_type\": \"\",\n        \"description\": \"\"\n      }\n    }\n  ]\n}"
            }
          },
          "metadata": {},
          "execution_count": 27
        }
      ],
      "source": [
        "# Create a dataset with columns 1-7 for features and deposit for target column\n",
        "\n",
        "# for the purposes of this re-use, create a list of features 1-7\n",
        "feature_cols = [\n",
        "    'job', 'marital', 'education', 'default', 'housing',\n",
        "    'loan', 'contact'\n",
        "]\n",
        "\n",
        "\n",
        "X = df[feature_cols]\n",
        "y = df['deposit']\n",
        "\n",
        "X.head(10)"
      ]
    },
    {
      "cell_type": "code",
      "execution_count": 28,
      "metadata": {
        "colab": {
          "base_uri": "https://localhost:8080/"
        },
        "id": "tfRykVVrSTfx",
        "outputId": "fed5f86b-8fb7-4daf-9a30-ee601d610e8e"
      },
      "outputs": [
        {
          "output_type": "execute_result",
          "data": {
            "text/plain": [
              "cellular     26144\n",
              "telephone    15044\n",
              "Name: contact, dtype: int64"
            ]
          },
          "metadata": {},
          "execution_count": 28
        }
      ],
      "source": [
        "X['contact'].value_counts()"
      ]
    },
    {
      "cell_type": "markdown",
      "metadata": {
        "id": "036rskANSTfy"
      },
      "source": [
        "Use ColumnTransformer to selectively apply data preparation transforms, it allows you to apply a specific transform or sequence of transforms to just the numerical columns, and a separate sequence of transforms to just the categorical columns."
      ]
    },
    {
      "cell_type": "code",
      "execution_count": 29,
      "metadata": {
        "colab": {
          "base_uri": "https://localhost:8080/",
          "height": 118
        },
        "id": "PELs1mpiSTfz",
        "outputId": "7ac50f69-33cc-4958-de58-c6da27eb652c"
      },
      "outputs": [
        {
          "output_type": "execute_result",
          "data": {
            "text/plain": [
              "ColumnTransformer(remainder='passthrough',\n",
              "                  transformers=[('onehotencoder',\n",
              "                                 OneHotEncoder(handle_unknown='ignore'),\n",
              "                                 ['job', 'marital', 'education', 'default',\n",
              "                                  'contact']),\n",
              "                                ('ordinalencoder', OrdinalEncoder(),\n",
              "                                 ['housing', 'loan'])])"
            ],
            "text/html": [
              "<style>#sk-container-id-1 {color: black;background-color: white;}#sk-container-id-1 pre{padding: 0;}#sk-container-id-1 div.sk-toggleable {background-color: white;}#sk-container-id-1 label.sk-toggleable__label {cursor: pointer;display: block;width: 100%;margin-bottom: 0;padding: 0.3em;box-sizing: border-box;text-align: center;}#sk-container-id-1 label.sk-toggleable__label-arrow:before {content: \"▸\";float: left;margin-right: 0.25em;color: #696969;}#sk-container-id-1 label.sk-toggleable__label-arrow:hover:before {color: black;}#sk-container-id-1 div.sk-estimator:hover label.sk-toggleable__label-arrow:before {color: black;}#sk-container-id-1 div.sk-toggleable__content {max-height: 0;max-width: 0;overflow: hidden;text-align: left;background-color: #f0f8ff;}#sk-container-id-1 div.sk-toggleable__content pre {margin: 0.2em;color: black;border-radius: 0.25em;background-color: #f0f8ff;}#sk-container-id-1 input.sk-toggleable__control:checked~div.sk-toggleable__content {max-height: 200px;max-width: 100%;overflow: auto;}#sk-container-id-1 input.sk-toggleable__control:checked~label.sk-toggleable__label-arrow:before {content: \"▾\";}#sk-container-id-1 div.sk-estimator input.sk-toggleable__control:checked~label.sk-toggleable__label {background-color: #d4ebff;}#sk-container-id-1 div.sk-label input.sk-toggleable__control:checked~label.sk-toggleable__label {background-color: #d4ebff;}#sk-container-id-1 input.sk-hidden--visually {border: 0;clip: rect(1px 1px 1px 1px);clip: rect(1px, 1px, 1px, 1px);height: 1px;margin: -1px;overflow: hidden;padding: 0;position: absolute;width: 1px;}#sk-container-id-1 div.sk-estimator {font-family: monospace;background-color: #f0f8ff;border: 1px dotted black;border-radius: 0.25em;box-sizing: border-box;margin-bottom: 0.5em;}#sk-container-id-1 div.sk-estimator:hover {background-color: #d4ebff;}#sk-container-id-1 div.sk-parallel-item::after {content: \"\";width: 100%;border-bottom: 1px solid gray;flex-grow: 1;}#sk-container-id-1 div.sk-label:hover label.sk-toggleable__label {background-color: #d4ebff;}#sk-container-id-1 div.sk-serial::before {content: \"\";position: absolute;border-left: 1px solid gray;box-sizing: border-box;top: 0;bottom: 0;left: 50%;z-index: 0;}#sk-container-id-1 div.sk-serial {display: flex;flex-direction: column;align-items: center;background-color: white;padding-right: 0.2em;padding-left: 0.2em;position: relative;}#sk-container-id-1 div.sk-item {position: relative;z-index: 1;}#sk-container-id-1 div.sk-parallel {display: flex;align-items: stretch;justify-content: center;background-color: white;position: relative;}#sk-container-id-1 div.sk-item::before, #sk-container-id-1 div.sk-parallel-item::before {content: \"\";position: absolute;border-left: 1px solid gray;box-sizing: border-box;top: 0;bottom: 0;left: 50%;z-index: -1;}#sk-container-id-1 div.sk-parallel-item {display: flex;flex-direction: column;z-index: 1;position: relative;background-color: white;}#sk-container-id-1 div.sk-parallel-item:first-child::after {align-self: flex-end;width: 50%;}#sk-container-id-1 div.sk-parallel-item:last-child::after {align-self: flex-start;width: 50%;}#sk-container-id-1 div.sk-parallel-item:only-child::after {width: 0;}#sk-container-id-1 div.sk-dashed-wrapped {border: 1px dashed gray;margin: 0 0.4em 0.5em 0.4em;box-sizing: border-box;padding-bottom: 0.4em;background-color: white;}#sk-container-id-1 div.sk-label label {font-family: monospace;font-weight: bold;display: inline-block;line-height: 1.2em;}#sk-container-id-1 div.sk-label-container {text-align: center;}#sk-container-id-1 div.sk-container {/* jupyter's `normalize.less` sets `[hidden] { display: none; }` but bootstrap.min.css set `[hidden] { display: none !important; }` so we also need the `!important` here to be able to override the default hidden behavior on the sphinx rendered scikit-learn.org. See: https://github.com/scikit-learn/scikit-learn/issues/21755 */display: inline-block !important;position: relative;}#sk-container-id-1 div.sk-text-repr-fallback {display: none;}</style><div id=\"sk-container-id-1\" class=\"sk-top-container\"><div class=\"sk-text-repr-fallback\"><pre>ColumnTransformer(remainder=&#x27;passthrough&#x27;,\n",
              "                  transformers=[(&#x27;onehotencoder&#x27;,\n",
              "                                 OneHotEncoder(handle_unknown=&#x27;ignore&#x27;),\n",
              "                                 [&#x27;job&#x27;, &#x27;marital&#x27;, &#x27;education&#x27;, &#x27;default&#x27;,\n",
              "                                  &#x27;contact&#x27;]),\n",
              "                                (&#x27;ordinalencoder&#x27;, OrdinalEncoder(),\n",
              "                                 [&#x27;housing&#x27;, &#x27;loan&#x27;])])</pre><b>In a Jupyter environment, please rerun this cell to show the HTML representation or trust the notebook. <br />On GitHub, the HTML representation is unable to render, please try loading this page with nbviewer.org.</b></div><div class=\"sk-container\" hidden><div class=\"sk-item sk-dashed-wrapped\"><div class=\"sk-label-container\"><div class=\"sk-label sk-toggleable\"><input class=\"sk-toggleable__control sk-hidden--visually\" id=\"sk-estimator-id-1\" type=\"checkbox\" ><label for=\"sk-estimator-id-1\" class=\"sk-toggleable__label sk-toggleable__label-arrow\">ColumnTransformer</label><div class=\"sk-toggleable__content\"><pre>ColumnTransformer(remainder=&#x27;passthrough&#x27;,\n",
              "                  transformers=[(&#x27;onehotencoder&#x27;,\n",
              "                                 OneHotEncoder(handle_unknown=&#x27;ignore&#x27;),\n",
              "                                 [&#x27;job&#x27;, &#x27;marital&#x27;, &#x27;education&#x27;, &#x27;default&#x27;,\n",
              "                                  &#x27;contact&#x27;]),\n",
              "                                (&#x27;ordinalencoder&#x27;, OrdinalEncoder(),\n",
              "                                 [&#x27;housing&#x27;, &#x27;loan&#x27;])])</pre></div></div></div><div class=\"sk-parallel\"><div class=\"sk-parallel-item\"><div class=\"sk-item\"><div class=\"sk-label-container\"><div class=\"sk-label sk-toggleable\"><input class=\"sk-toggleable__control sk-hidden--visually\" id=\"sk-estimator-id-2\" type=\"checkbox\" ><label for=\"sk-estimator-id-2\" class=\"sk-toggleable__label sk-toggleable__label-arrow\">onehotencoder</label><div class=\"sk-toggleable__content\"><pre>[&#x27;job&#x27;, &#x27;marital&#x27;, &#x27;education&#x27;, &#x27;default&#x27;, &#x27;contact&#x27;]</pre></div></div></div><div class=\"sk-serial\"><div class=\"sk-item\"><div class=\"sk-estimator sk-toggleable\"><input class=\"sk-toggleable__control sk-hidden--visually\" id=\"sk-estimator-id-3\" type=\"checkbox\" ><label for=\"sk-estimator-id-3\" class=\"sk-toggleable__label sk-toggleable__label-arrow\">OneHotEncoder</label><div class=\"sk-toggleable__content\"><pre>OneHotEncoder(handle_unknown=&#x27;ignore&#x27;)</pre></div></div></div></div></div></div><div class=\"sk-parallel-item\"><div class=\"sk-item\"><div class=\"sk-label-container\"><div class=\"sk-label sk-toggleable\"><input class=\"sk-toggleable__control sk-hidden--visually\" id=\"sk-estimator-id-4\" type=\"checkbox\" ><label for=\"sk-estimator-id-4\" class=\"sk-toggleable__label sk-toggleable__label-arrow\">ordinalencoder</label><div class=\"sk-toggleable__content\"><pre>[&#x27;housing&#x27;, &#x27;loan&#x27;]</pre></div></div></div><div class=\"sk-serial\"><div class=\"sk-item\"><div class=\"sk-estimator sk-toggleable\"><input class=\"sk-toggleable__control sk-hidden--visually\" id=\"sk-estimator-id-5\" type=\"checkbox\" ><label for=\"sk-estimator-id-5\" class=\"sk-toggleable__label sk-toggleable__label-arrow\">OrdinalEncoder</label><div class=\"sk-toggleable__content\"><pre>OrdinalEncoder()</pre></div></div></div></div></div></div><div class=\"sk-parallel-item\"><div class=\"sk-item\"><div class=\"sk-label-container\"><div class=\"sk-label sk-toggleable\"><input class=\"sk-toggleable__control sk-hidden--visually\" id=\"sk-estimator-id-6\" type=\"checkbox\" ><label for=\"sk-estimator-id-6\" class=\"sk-toggleable__label sk-toggleable__label-arrow\">remainder</label><div class=\"sk-toggleable__content\"><pre>[]</pre></div></div></div><div class=\"sk-serial\"><div class=\"sk-item\"><div class=\"sk-estimator sk-toggleable\"><input class=\"sk-toggleable__control sk-hidden--visually\" id=\"sk-estimator-id-7\" type=\"checkbox\" ><label for=\"sk-estimator-id-7\" class=\"sk-toggleable__label sk-toggleable__label-arrow\">passthrough</label><div class=\"sk-toggleable__content\"><pre>passthrough</pre></div></div></div></div></div></div></div></div></div></div>"
            ]
          },
          "metadata": {},
          "execution_count": 29
        }
      ],
      "source": [
        "column_trans = make_column_transformer((OneHotEncoder(handle_unknown='ignore'),\n",
        "                                        ['job', 'marital', 'education','default','contact']),\n",
        "                                      (OrdinalEncoder(), ['housing','loan']),\n",
        "                                      remainder='passthrough')\n",
        "\n",
        "column_trans.fit(X)"
      ]
    },
    {
      "cell_type": "markdown",
      "metadata": {
        "id": "7yq7JxfsSTf0"
      },
      "source": [
        "Use LabelEncoder to encode labels of the target column"
      ]
    },
    {
      "cell_type": "code",
      "execution_count": 30,
      "metadata": {
        "colab": {
          "base_uri": "https://localhost:8080/"
        },
        "id": "KjTj9YJuSTf1",
        "outputId": "c8005e18-232b-4896-b809-72f7b51e42c8"
      },
      "outputs": [
        {
          "output_type": "execute_result",
          "data": {
            "text/plain": [
              "array([0, 0, 0, ..., 0, 1, 0])"
            ]
          },
          "metadata": {},
          "execution_count": 30
        }
      ],
      "source": [
        "le = LabelEncoder()\n",
        "le.fit_transform(y)\n"
      ]
    },
    {
      "cell_type": "code",
      "execution_count": 30,
      "metadata": {
        "id": "hX6bInHiSTf2"
      },
      "outputs": [],
      "source": []
    },
    {
      "cell_type": "markdown",
      "metadata": {
        "id": "Vngr6rE_STf3"
      },
      "source": [
        "### Problem 6: Train/Test Split\n",
        "\n",
        "With your data prepared, split it into a train and test set.\n",
        "Next, we will split the data into a training set and a test set using the train_test_split function. We will use 30% of the data as the test set:"
      ]
    },
    {
      "cell_type": "code",
      "execution_count": 31,
      "metadata": {
        "id": "GPdYkOOUSTf4"
      },
      "outputs": [],
      "source": [
        "X_train, X_test, y_train, y_test = train_test_split(X, y, test_size=0.3, random_state=42)"
      ]
    },
    {
      "cell_type": "markdown",
      "metadata": {
        "id": "VtDGlWbdSTf4"
      },
      "source": [
        "### Problem 7: A Baseline Model\n",
        "\n",
        "Before we build our first model, we want to establish a baseline.  What is the baseline performance that our classifier should aim to beat?"
      ]
    },
    {
      "cell_type": "code",
      "execution_count": 32,
      "metadata": {
        "id": "GKTgdid0STf5"
      },
      "outputs": [],
      "source": [
        "#Building a decision tree baseline model\n",
        "from sklearn.pipeline import Pipeline\n",
        "\n",
        "dtc_pipe = Pipeline ([\n",
        "    ('transformer', column_trans),\n",
        "    ('scale', StandardScaler(with_mean=False)),\n",
        "    ('model', DecisionTreeClassifier(max_depth=5))\n",
        "])"
      ]
    },
    {
      "cell_type": "code",
      "execution_count": 33,
      "metadata": {
        "colab": {
          "base_uri": "https://localhost:8080/"
        },
        "id": "CRKAIQrqSTf6",
        "outputId": "ba32ffc6-fa20-4b25-9e92-7d28558df67d"
      },
      "outputs": [
        {
          "output_type": "stream",
          "name": "stdout",
          "text": [
            "CPU times: user 108 ms, sys: 1.31 ms, total: 109 ms\n",
            "Wall time: 115 ms\n"
          ]
        }
      ],
      "source": [
        "%%time\n",
        "# Train the classifiers\n",
        "dtc = dtc_pipe.fit(X_train, y_train)\n",
        "\n",
        "# use the model to predict the class labels of the test set:\n",
        "dtc_pred = dtc.predict(X_test)\n",
        "\n"
      ]
    },
    {
      "cell_type": "code",
      "execution_count": 34,
      "metadata": {
        "colab": {
          "base_uri": "https://localhost:8080/"
        },
        "id": "vwrcEzK1STf7",
        "outputId": "0e871daa-af2b-4a1e-980c-c80e38462084"
      },
      "outputs": [
        {
          "output_type": "stream",
          "name": "stdout",
          "text": [
            "Accuracy: 0.887432\n",
            "Precision: 0.443788\n",
            "Recall: 0.499909\n",
            "F1-score: 0.470180\n"
          ]
        }
      ],
      "source": [
        "# Evaluate the performance of the model, we will calculate the accuracy, precision, recall, and f1-score:\n",
        "from sklearn.metrics import accuracy_score, precision_score, recall_score, f1_score, confusion_matrix\n",
        "accuracy = accuracy_score(y_test, dtc_pred)\n",
        "precision = precision_score(y_test, dtc_pred, average='macro')\n",
        "recall = recall_score(y_test, dtc_pred, average='macro')\n",
        "f1 = f1_score(y_test, dtc_pred, average='macro')\n",
        "\n",
        "print(\"Accuracy: {:.6f}\".format(accuracy))\n",
        "print(\"Precision: {:.6f}\".format(precision))\n",
        "print(\"Recall: {:.6f}\".format(recall))\n",
        "print(\"F1-score: {:.6f}\".format(f1))"
      ]
    },
    {
      "cell_type": "markdown",
      "metadata": {
        "id": "sD2Pnwe2STf7"
      },
      "source": [
        "To visualize the results, we can use a confusion matrix. A confusion matrix is a table that is used to define the performance of a classification algorithm. Each row of the matrix represents the instances in a predicted class while each column represents the instances in an actual class (or vice versa). The main diagonal of the matrix represents the correct predictions, while the off-diagonal elements represent the incorrect predictions. The overall performance of the model can be calculated by using metrics like accuracy, precision, recall and F1-score by combining the values of TP, FP, TN and FN."
      ]
    },
    {
      "cell_type": "code",
      "execution_count": 35,
      "metadata": {
        "colab": {
          "base_uri": "https://localhost:8080/",
          "height": 707
        },
        "id": "sw6YjbUySTf8",
        "outputId": "f6b7e4cd-51f7-40af-f125-604f40ee1b85"
      },
      "outputs": [
        {
          "output_type": "display_data",
          "data": {
            "text/plain": [
              "<Figure size 1200x700 with 2 Axes>"
            ],
            "image/png": "[encoded data removed]"
          },
          "metadata": {}
        }
      ],
      "source": [
        "import seaborn as sns\n",
        "ax= plt.subplot()\n",
        "conf_matrix = confusion_matrix(y_test, dtc_pred)\n",
        "sns.heatmap(conf_matrix, annot = True, cmap = 'Blues_r', fmt = 'd', ax=ax)\n",
        "\n",
        "# labels, title and ticks\n",
        "ax.set_xlabel('Actual labels');ax.set_ylabel('Predicted labels');\n",
        "ax.set_title('Confusion Matrix of Decision Tree Classifier');\n",
        "ax.xaxis.set_ticklabels(['No', 'Yes']);\n",
        "ax.yaxis.set_ticklabels(['No', 'Yes']);\n",
        "\n",
        "#plt.xlabel('Predicted')\n",
        "#plt.ylabel('Actual')\n",
        "plt.show()"
      ]
    },
    {
      "cell_type": "markdown",
      "metadata": {
        "id": "ZcANJz8lSTf9"
      },
      "source": [
        "A Confusion matrix is an N x N matrix used for evaluating the performance of a classification model, where N is the number of target classes. The matrix compares the actual target values with those predicted by the machine learning model. A good model is one which has high TP and TN rates, while low FP and FN rates.\n",
        "\n",
        "With the confusion matrix above for the DecisionTreeClassifier, it has a high number of TP rates with no TN. This combined with an accuracy rate of 0.89 indicates that the model is good although the recall and precision values are at 0.5 and below 0.5 respectively. Definitions below:\n",
        "- A low recall score (<0.5) means your classifier has a high number of False negatives which can be an outcome of imbalanced class or untuned model hyperparameters\n",
        "- A low precision score (<0.5) means your classifier has a high number of False positives which can be an outcome of imbalanced class or untuned model hyperparameters.\n",
        "\n",
        "Confusion matrix above is slightly counter intuitive because this data set is heavily weighted towards customers that said No to the long term product hence the No as the True Positive above with a value of 10,967."
      ]
    },
    {
      "cell_type": "code",
      "execution_count": 35,
      "metadata": {
        "id": "isIVFgpsSTf9"
      },
      "outputs": [],
      "source": []
    },
    {
      "cell_type": "markdown",
      "metadata": {
        "id": "cN97YXcVSTf-"
      },
      "source": [
        "### Problem 8: A Simple Model\n",
        "\n",
        "Use Logistic Regression to build a basic model on your data.  "
      ]
    },
    {
      "cell_type": "code",
      "execution_count": 36,
      "metadata": {
        "id": "NVM-3UH1STf-"
      },
      "outputs": [],
      "source": [
        "#Building a Logistic Regression simple model\n",
        "\n",
        "logr_pipe = Pipeline ([\n",
        "    ('transformer', column_trans),\n",
        "    ('scale', StandardScaler(with_mean=False)),\n",
        "    ('model', LogisticRegression())\n",
        "])"
      ]
    },
    {
      "cell_type": "code",
      "execution_count": 37,
      "metadata": {
        "colab": {
          "base_uri": "https://localhost:8080/"
        },
        "id": "Vymi62phSTf_",
        "outputId": "87b5e4cb-e856-421b-ae45-31909112b3d0"
      },
      "outputs": [
        {
          "output_type": "stream",
          "name": "stdout",
          "text": [
            "CPU times: user 162 ms, sys: 2.28 ms, total: 164 ms\n",
            "Wall time: 181 ms\n"
          ]
        }
      ],
      "source": [
        "%%time\n",
        "# Train the classifiers\n",
        "logr = logr_pipe.fit(X_train, y_train)\n",
        "\n",
        "# use the model to predict the class labels of the test set:\n",
        "logr_pred = logr.predict(X_test)"
      ]
    },
    {
      "cell_type": "markdown",
      "metadata": {
        "id": "rJU7zIRVSTf_"
      },
      "source": [
        "A couple of metrics can be used to assess how well a logistic regression model fits our dataset, namely:\n",
        "- Sensitivity : the probability that the model predicts a positive outcome for an observation when indeed the outcome is positive. Known as \"True Positive Rate\"\n",
        "- Specificity : tThe probability that the model predicts a positive outcome for an observation when indeed the outcome is positive. Know as \"True Negative Rate\"\n",
        "\n",
        "A way to visualize these metrics is by creating a Receiver Operating Characteristic (ROC) Curve that displays the sensitivity and specificity of a logistic regression model."
      ]
    },
    {
      "cell_type": "code",
      "execution_count": 38,
      "metadata": {
        "colab": {
          "base_uri": "https://localhost:8080/",
          "height": 707
        },
        "id": "xn8rAbjpSTgA",
        "outputId": "73383dae-0b0a-4967-8015-7062216c338f"
      },
      "outputs": [
        {
          "output_type": "display_data",
          "data": {
            "text/plain": [
              "<Figure size 1200x700 with 1 Axes>"
            ],
            "image/png": "[encoded data removed]"
          },
          "metadata": {}
        }
      ],
      "source": [
        "#define metrics\n",
        "from sklearn import metrics\n",
        "y_pred_proba = logr.predict_proba(X_test)\n",
        "yes_probs = y_pred_proba[::,1]\n",
        "\n",
        "# Build confusion metrics for Yes\n",
        "#fpr, tpr, _ = metrics.roc_curve(y_test,  y_pred_proba, pos_label='yes')\n",
        "fpr, tpr, threshold = metrics.roc_curve(y_true=y_test,  y_score=yes_probs, pos_label='yes')\n",
        "fpr1, tpr1, threshold1 = metrics.roc_curve(y_true=y_test,  y_score=yes_probs, pos_label='no')\n",
        "\n",
        "#create ROC curve\n",
        "plt.plot(fpr,tpr, label=\"Yes\")\n",
        "plt.plot(fpr1,tpr1, label=\"No\")\n",
        "plt.legend(loc=\"upper left\")\n",
        "plt.title('Receiver Operating Characteristic Curve', size=18)\n",
        "plt.plot([0, 1], [0, 1], color='green', linestyle=':')\n",
        "plt.ylabel('True Positive Rate')\n",
        "plt.xlabel('False Positive Rate')\n",
        "plt.show()"
      ]
    },
    {
      "cell_type": "code",
      "execution_count": 39,
      "metadata": {
        "colab": {
          "base_uri": "https://localhost:8080/"
        },
        "id": "s7mFWm6hSTgB",
        "outputId": "82ead729-dad9-488b-d77b-24428e633ac1"
      },
      "outputs": [
        {
          "output_type": "stream",
          "name": "stdout",
          "text": [
            "Area under curve is 0.690000\n"
          ]
        }
      ],
      "source": [
        "# Let's see what's the area under the curve auc for our model\n",
        "from sklearn.metrics import roc_auc_score\n",
        "auc = roc_auc_score(y_true=y_test, y_score=yes_probs)\n",
        "print(\"Area under curve is {:.6f}\".format(round(auc, 2)))\n",
        "\n"
      ]
    },
    {
      "cell_type": "markdown",
      "metadata": {
        "id": "d9iqXJLaSTgC"
      },
      "source": [
        "With the ROC plot above, deposit = Yes is closer to top-left corner of the plt that indicates better performance than the Deposit = No. With the ROC AUC score of 0.69 which is over 0.5, this means that the classifer can detect more numbers of True positives and True negatives than False negatives and False positives."
      ]
    },
    {
      "cell_type": "code",
      "execution_count": 39,
      "metadata": {
        "id": "G9vhpgBgSTgC"
      },
      "outputs": [],
      "source": []
    },
    {
      "cell_type": "markdown",
      "metadata": {
        "id": "BXM4C8DCSTgC"
      },
      "source": [
        "### Problem 9: Score the Model\n",
        "\n",
        "What is the accuracy of your model?"
      ]
    },
    {
      "cell_type": "code",
      "execution_count": 40,
      "metadata": {
        "colab": {
          "base_uri": "https://localhost:8080/"
        },
        "id": "BXGOJppsSTgD",
        "outputId": "bd43a94f-aa22-4882-f6ed-810cb1e73c39"
      },
      "outputs": [
        {
          "output_type": "stream",
          "name": "stdout",
          "text": [
            "Accuracy: 0.887594\n",
            "Precision: 0.443797\n",
            "Recall: 0.500000\n",
            "F1-score: 0.470225\n"
          ]
        },
        {
          "output_type": "stream",
          "name": "stderr",
          "text": [
            "/usr/local/lib/python3.10/dist-packages/sklearn/metrics/_classification.py:1344: UndefinedMetricWarning: Precision is ill-defined and being set to 0.0 in labels with no predicted samples. Use `zero_division` parameter to control this behavior.\n",
            "  _warn_prf(average, modifier, msg_start, len(result))\n"
          ]
        }
      ],
      "source": [
        "# Evaluate the performance of the model, we will calculate the accuracy, precision, recall, and f1-score:\n",
        "accuracy = accuracy_score(y_test, logr_pred)\n",
        "precision = precision_score(y_test, logr_pred, average='macro')\n",
        "recall = recall_score(y_test, logr_pred, average='macro')\n",
        "f1 = f1_score(y_test, logr_pred, average='macro')\n",
        "\n",
        "print(\"Accuracy: {:.6f}\".format(accuracy))\n",
        "print(\"Precision: {:.6f}\".format(precision))\n",
        "print(\"Recall: {:.6f}\".format(recall))\n",
        "print(\"F1-score: {:.6f}\".format(f1))"
      ]
    },
    {
      "cell_type": "markdown",
      "metadata": {
        "id": "8z5Hai2CSTgE"
      },
      "source": [
        "Printing the results from the two models above:"
      ]
    },
    {
      "cell_type": "code",
      "execution_count": 41,
      "metadata": {
        "colab": {
          "base_uri": "https://localhost:8080/",
          "height": 112
        },
        "id": "RbVkuDMrSTgE",
        "outputId": "c0eb4c88-73f0-4c9c-8164-12953ae45ae7"
      },
      "outputs": [
        {
          "output_type": "execute_result",
          "data": {
            "text/plain": [
              "                 Model  Accuracy Precision    Recall  F1_Score Fit_Time (ms)\n",
              "0        Decision Tree  0.887513  0.443792  0.499954  0.470202           128\n",
              "1  Logistic Regression  0.887594  0.443797  0.500000  0.470225           193"
            ],
            "text/html": [
              "\n",
              "  <div id=\"df-4e3a7cab-90fe-49b1-8bb0-29d7e9f9a925\" class=\"colab-df-container\">\n",
              "    <div>\n",
              "<style scoped>\n",
              "    .dataframe tbody tr th:only-of-type {\n",
              "        vertical-align: middle;\n",
              "    }\n",
              "\n",
              "    .dataframe tbody tr th {\n",
              "        vertical-align: top;\n",
              "    }\n",
              "\n",
              "    .dataframe thead th {\n",
              "        text-align: right;\n",
              "    }\n",
              "</style>\n",
              "<table border=\"1\" class=\"dataframe\">\n",
              "  <thead>\n",
              "    <tr style=\"text-align: right;\">\n",
              "      <th></th>\n",
              "      <th>Model</th>\n",
              "      <th>Accuracy</th>\n",
              "      <th>Precision</th>\n",
              "      <th>Recall</th>\n",
              "      <th>F1_Score</th>\n",
              "      <th>Fit_Time (ms)</th>\n",
              "    </tr>\n",
              "  </thead>\n",
              "  <tbody>\n",
              "    <tr>\n",
              "      <th>0</th>\n",
              "      <td>Decision Tree</td>\n",
              "      <td>0.887513</td>\n",
              "      <td>0.443792</td>\n",
              "      <td>0.499954</td>\n",
              "      <td>0.470202</td>\n",
              "      <td>128</td>\n",
              "    </tr>\n",
              "    <tr>\n",
              "      <th>1</th>\n",
              "      <td>Logistic Regression</td>\n",
              "      <td>0.887594</td>\n",
              "      <td>0.443797</td>\n",
              "      <td>0.500000</td>\n",
              "      <td>0.470225</td>\n",
              "      <td>193</td>\n",
              "    </tr>\n",
              "  </tbody>\n",
              "</table>\n",
              "</div>\n",
              "    <div class=\"colab-df-buttons\">\n",
              "\n",
              "  <div class=\"colab-df-container\">\n",
              "    <button class=\"colab-df-convert\" onclick=\"convertToInteractive('df-4e3a7cab-90fe-49b1-8bb0-29d7e9f9a925')\"\n",
              "            title=\"Convert this dataframe to an interactive table.\"\n",
              "            style=\"display:none;\">\n",
              "\n",
              "  <svg xmlns=\"http://www.w3.org/2000/svg\" height=\"24px\" viewBox=\"0 -960 960 960\">\n",
              "    <path d=\"M120-120v-720h720v720H120Zm60-500h600v-160H180v160Zm220 220h160v-160H400v160Zm0 220h160v-160H400v160ZM180-400h160v-160H180v160Zm440 0h160v-160H620v160ZM180-180h160v-160H180v160Zm440 0h160v-160H620v160Z\"/>\n",
              "  </svg>\n",
              "    </button>\n",
              "\n",
              "  <style>\n",
              "    .colab-df-container {\n",
              "      display:flex;\n",
              "      gap: 12px;\n",
              "    }\n",
              "\n",
              "    .colab-df-convert {\n",
              "      background-color: #E8F0FE;\n",
              "      border: none;\n",
              "      border-radius: 50%;\n",
              "      cursor: pointer;\n",
              "      display: none;\n",
              "      fill: #1967D2;\n",
              "      height: 32px;\n",
              "      padding: 0 0 0 0;\n",
              "      width: 32px;\n",
              "    }\n",
              "\n",
              "    .colab-df-convert:hover {\n",
              "      background-color: #E2EBFA;\n",
              "      box-shadow: 0px 1px 2px rgba(60, 64, 67, 0.3), 0px 1px 3px 1px rgba(60, 64, 67, 0.15);\n",
              "      fill: #174EA6;\n",
              "    }\n",
              "\n",
              "    .colab-df-buttons div {\n",
              "      margin-bottom: 4px;\n",
              "    }\n",
              "\n",
              "    [theme=dark] .colab-df-convert {\n",
              "      background-color: #3B4455;\n",
              "      fill: #D2E3FC;\n",
              "    }\n",
              "\n",
              "    [theme=dark] .colab-df-convert:hover {\n",
              "      background-color: #434B5C;\n",
              "      box-shadow: 0px 1px 3px 1px rgba(0, 0, 0, 0.15);\n",
              "      filter: drop-shadow(0px 1px 2px rgba(0, 0, 0, 0.3));\n",
              "      fill: #FFFFFF;\n",
              "    }\n",
              "  </style>\n",
              "\n",
              "    <script>\n",
              "      const buttonEl =\n",
              "        document.querySelector('#df-4e3a7cab-90fe-49b1-8bb0-29d7e9f9a925 button.colab-df-convert');\n",
              "      buttonEl.style.display =\n",
              "        google.colab.kernel.accessAllowed ? 'block' : 'none';\n",
              "\n",
              "      async function convertToInteractive(key) {\n",
              "        const element = document.querySelector('#df-4e3a7cab-90fe-49b1-8bb0-29d7e9f9a925');\n",
              "        const dataTable =\n",
              "          await google.colab.kernel.invokeFunction('convertToInteractive',\n",
              "                                                    [key], {});\n",
              "        if (!dataTable) return;\n",
              "\n",
              "        const docLinkHtml = 'Like what you see? Visit the ' +\n",
              "          '<a target=\"_blank\" href=https://colab.research.google.com/notebooks/data_table.ipynb>data table notebook</a>'\n",
              "          + ' to learn more about interactive tables.';\n",
              "        element.innerHTML = '';\n",
              "        dataTable['output_type'] = 'display_data';\n",
              "        await google.colab.output.renderOutput(dataTable, element);\n",
              "        const docLink = document.createElement('div');\n",
              "        docLink.innerHTML = docLinkHtml;\n",
              "        element.appendChild(docLink);\n",
              "      }\n",
              "    </script>\n",
              "  </div>\n",
              "\n",
              "\n",
              "<div id=\"df-7ba88e04-91e0-4099-a344-11f12a3f2738\">\n",
              "  <button class=\"colab-df-quickchart\" onclick=\"quickchart('df-7ba88e04-91e0-4099-a344-11f12a3f2738')\"\n",
              "            title=\"Suggest charts\"\n",
              "            style=\"display:none;\">\n",
              "\n",
              "<svg xmlns=\"http://www.w3.org/2000/svg\" height=\"24px\"viewBox=\"0 0 24 24\"\n",
              "     width=\"24px\">\n",
              "    <g>\n",
              "        <path d=\"M19 3H5c-1.1 0-2 .9-2 2v14c0 1.1.9 2 2 2h14c1.1 0 2-.9 2-2V5c0-1.1-.9-2-2-2zM9 17H7v-7h2v7zm4 0h-2V7h2v10zm4 0h-2v-4h2v4z\"/>\n",
              "    </g>\n",
              "</svg>\n",
              "  </button>\n",
              "\n",
              "<style>\n",
              "  .colab-df-quickchart {\n",
              "      --bg-color: #E8F0FE;\n",
              "      --fill-color: #1967D2;\n",
              "      --hover-bg-color: #E2EBFA;\n",
              "      --hover-fill-color: #174EA6;\n",
              "      --disabled-fill-color: #AAA;\n",
              "      --disabled-bg-color: #DDD;\n",
              "  }\n",
              "\n",
              "  [theme=dark] .colab-df-quickchart {\n",
              "      --bg-color: #3B4455;\n",
              "      --fill-color: #D2E3FC;\n",
              "      --hover-bg-color: #434B5C;\n",
              "      --hover-fill-color: #FFFFFF;\n",
              "      --disabled-bg-color: #3B4455;\n",
              "      --disabled-fill-color: #666;\n",
              "  }\n",
              "\n",
              "  .colab-df-quickchart {\n",
              "    background-color: var(--bg-color);\n",
              "    border: none;\n",
              "    border-radius: 50%;\n",
              "    cursor: pointer;\n",
              "    display: none;\n",
              "    fill: var(--fill-color);\n",
              "    height: 32px;\n",
              "    padding: 0;\n",
              "    width: 32px;\n",
              "  }\n",
              "\n",
              "  .colab-df-quickchart:hover {\n",
              "    background-color: var(--hover-bg-color);\n",
              "    box-shadow: 0 1px 2px rgba(60, 64, 67, 0.3), 0 1px 3px 1px rgba(60, 64, 67, 0.15);\n",
              "    fill: var(--button-hover-fill-color);\n",
              "  }\n",
              "\n",
              "  .colab-df-quickchart-complete:disabled,\n",
              "  .colab-df-quickchart-complete:disabled:hover {\n",
              "    background-color: var(--disabled-bg-color);\n",
              "    fill: var(--disabled-fill-color);\n",
              "    box-shadow: none;\n",
              "  }\n",
              "\n",
              "  .colab-df-spinner {\n",
              "    border: 2px solid var(--fill-color);\n",
              "    border-color: transparent;\n",
              "    border-bottom-color: var(--fill-color);\n",
              "    animation:\n",
              "      spin 1s steps(1) infinite;\n",
              "  }\n",
              "\n",
              "  @keyframes spin {\n",
              "    0% {\n",
              "      border-color: transparent;\n",
              "      border-bottom-color: var(--fill-color);\n",
              "      border-left-color: var(--fill-color);\n",
              "    }\n",
              "    20% {\n",
              "      border-color: transparent;\n",
              "      border-left-color: var(--fill-color);\n",
              "      border-top-color: var(--fill-color);\n",
              "    }\n",
              "    30% {\n",
              "      border-color: transparent;\n",
              "      border-left-color: var(--fill-color);\n",
              "      border-top-color: var(--fill-color);\n",
              "      border-right-color: var(--fill-color);\n",
              "    }\n",
              "    40% {\n",
              "      border-color: transparent;\n",
              "      border-right-color: var(--fill-color);\n",
              "      border-top-color: var(--fill-color);\n",
              "    }\n",
              "    60% {\n",
              "      border-color: transparent;\n",
              "      border-right-color: var(--fill-color);\n",
              "    }\n",
              "    80% {\n",
              "      border-color: transparent;\n",
              "      border-right-color: var(--fill-color);\n",
              "      border-bottom-color: var(--fill-color);\n",
              "    }\n",
              "    90% {\n",
              "      border-color: transparent;\n",
              "      border-bottom-color: var(--fill-color);\n",
              "    }\n",
              "  }\n",
              "</style>\n",
              "\n",
              "  <script>\n",
              "    async function quickchart(key) {\n",
              "      const quickchartButtonEl =\n",
              "        document.querySelector('#' + key + ' button');\n",
              "      quickchartButtonEl.disabled = true;  // To prevent multiple clicks.\n",
              "      quickchartButtonEl.classList.add('colab-df-spinner');\n",
              "      try {\n",
              "        const charts = await google.colab.kernel.invokeFunction(\n",
              "            'suggestCharts', [key], {});\n",
              "      } catch (error) {\n",
              "        console.error('Error during call to suggestCharts:', error);\n",
              "      }\n",
              "      quickchartButtonEl.classList.remove('colab-df-spinner');\n",
              "      quickchartButtonEl.classList.add('colab-df-quickchart-complete');\n",
              "    }\n",
              "    (() => {\n",
              "      let quickchartButtonEl =\n",
              "        document.querySelector('#df-7ba88e04-91e0-4099-a344-11f12a3f2738 button');\n",
              "      quickchartButtonEl.style.display =\n",
              "        google.colab.kernel.accessAllowed ? 'block' : 'none';\n",
              "    })();\n",
              "  </script>\n",
              "</div>\n",
              "\n",
              "    </div>\n",
              "  </div>\n"
            ],
            "application/vnd.google.colaboratory.intrinsic+json": {
              "type": "dataframe",
              "summary": "{\n  \"name\": \"             'Fit_Time (ms)': ['128', '193']})\",\n  \"rows\": 2,\n  \"fields\": [\n    {\n      \"column\": \"Model\",\n      \"properties\": {\n        \"dtype\": \"string\",\n        \"samples\": [\n          \"Logistic Regression\",\n          \"Decision Tree\"\n        ],\n        \"num_unique_values\": 2,\n        \"semantic_type\": \"\",\n        \"description\": \"\"\n      }\n    },\n    {\n      \"column\": \"Accuracy\",\n      \"properties\": {\n        \"dtype\": \"string\",\n        \"samples\": [\n          \"0.887594\",\n          \"0.887513\"\n        ],\n        \"num_unique_values\": 2,\n        \"semantic_type\": \"\",\n        \"description\": \"\"\n      }\n    },\n    {\n      \"column\": \"Precision\",\n      \"properties\": {\n        \"dtype\": \"string\",\n        \"samples\": [\n          \"0.443797\",\n          \"0.443792\"\n        ],\n        \"num_unique_values\": 2,\n        \"semantic_type\": \"\",\n        \"description\": \"\"\n      }\n    },\n    {\n      \"column\": \"Recall\",\n      \"properties\": {\n        \"dtype\": \"string\",\n        \"samples\": [\n          \"0.500000\",\n          \"0.499954\"\n        ],\n        \"num_unique_values\": 2,\n        \"semantic_type\": \"\",\n        \"description\": \"\"\n      }\n    },\n    {\n      \"column\": \"F1_Score\",\n      \"properties\": {\n        \"dtype\": \"string\",\n        \"samples\": [\n          \"0.470225\",\n          \"0.470202\"\n        ],\n        \"num_unique_values\": 2,\n        \"semantic_type\": \"\",\n        \"description\": \"\"\n      }\n    },\n    {\n      \"column\": \"Fit_Time (ms)\",\n      \"properties\": {\n        \"dtype\": \"string\",\n        \"samples\": [\n          \"193\",\n          \"128\"\n        ],\n        \"num_unique_values\": 2,\n        \"semantic_type\": \"\",\n        \"description\": \"\"\n      }\n    }\n  ]\n}"
            }
          },
          "metadata": {},
          "execution_count": 41
        }
      ],
      "source": [
        "pd.DataFrame({'Model': ['Decision Tree', 'Logistic Regression'],\n",
        "             'Accuracy': ['0.887513', '0.887594'],\n",
        "             'Precision': ['0.443792', '0.443797'],\n",
        "             'Recall': ['0.499954', '0.500000'],\n",
        "             'F1_Score': ['0.470202', '0.470225'],\n",
        "             'Fit_Time (ms)': ['128', '193']})"
      ]
    },
    {
      "cell_type": "markdown",
      "metadata": {
        "id": "QWj3-HX2STgF"
      },
      "source": [
        "Quick review of this results show that accuracy scores were very close with numbers over 85%, however the recall, precision and F1_Score were below 50%.\n",
        "\n",
        "This means the classifier has a high number of False negatives which can be an outcome of imbalanced class or untuned model hyperparameters. More likely because of the imbalanced dataset with a higher number of Deposit = No records."
      ]
    },
    {
      "cell_type": "code",
      "execution_count": 41,
      "metadata": {
        "id": "Zy2xeo0bSTgF"
      },
      "outputs": [],
      "source": []
    },
    {
      "cell_type": "markdown",
      "metadata": {
        "id": "ec_OA2uwSTgG"
      },
      "source": [
        "### Problem 10: Model Comparisons\n",
        "\n",
        "Now, we aim to compare the performance of the Logistic Regression model to our KNN algorithm, Decision Tree, and SVM models.  Using the default settings for each of the models, fit and score each.  Also, be sure to compare the fit time of each of the models.  Present your findings in a `DataFrame` similar to that below:\n",
        "\n",
        "| Model | Train Time | Train Accuracy | Test Accuracy |\n",
        "| ----- | ---------- | -------------  | -----------   |\n",
        "|     |    |.     |.     |"
      ]
    },
    {
      "cell_type": "code",
      "execution_count": 42,
      "metadata": {
        "colab": {
          "base_uri": "https://localhost:8080/"
        },
        "id": "YryPBNbzSTgG",
        "outputId": "cdecd737-a612-4fa5-a3e9-060df562fdaf"
      },
      "outputs": [
        {
          "output_type": "stream",
          "name": "stdout",
          "text": [
            "Training Accuracy Score 0.8872047448926502\n",
            "Test Accuracy Score 0.8875940762320952\n",
            "CPU times: user 287 ms, sys: 3.19 ms, total: 290 ms\n",
            "Wall time: 289 ms\n"
          ]
        }
      ],
      "source": [
        "%%time\n",
        "#Building a Logistic Regression  model\n",
        "\n",
        "lgr1_pipe = Pipeline ([\n",
        "    ('transformer', column_trans),\n",
        "    ('scale', StandardScaler(with_mean=False)),\n",
        "    ('model', LogisticRegression())\n",
        "])\n",
        "\n",
        "# Train the classifiers\n",
        "lgr1 = lgr1_pipe.fit(X_train, y_train)\n",
        "\n",
        "# use the model to predict the class labels of the test set:\n",
        "lgr1_pred = lgr1.predict(X_test)\n",
        "\n",
        "# Evaluate Training and Test Scores\n",
        "\n",
        "lgr1_train_score = lgr1.score(X_train, y_train)\n",
        "print(\"Training Accuracy Score\", lgr1_train_score)\n",
        "\n",
        "lgr1_test_score = lgr1.score(X_test, y_test)\n",
        "print(\"Test Accuracy Score\", lgr1_test_score)\n"
      ]
    },
    {
      "cell_type": "code",
      "execution_count": 43,
      "metadata": {
        "colab": {
          "base_uri": "https://localhost:8080/"
        },
        "id": "H99ihZe9STgI",
        "outputId": "512138ee-8b41-4968-fd68-8e086ed244b8"
      },
      "outputs": [
        {
          "output_type": "stream",
          "name": "stdout",
          "text": [
            "Training Accuracy Score 0.8858173493808748\n",
            "Test Accuracy Score 0.8829813061422676\n",
            "CPU times: user 1min 58s, sys: 253 ms, total: 1min 58s\n",
            "Wall time: 1min 5s\n"
          ]
        }
      ],
      "source": [
        "%%time\n",
        "\n",
        "#Building a KNN  model\n",
        "\n",
        "knn_pipe = Pipeline ([\n",
        "    ('transformer', column_trans),\n",
        "    ('scale', StandardScaler(with_mean=False)),\n",
        "    ('model', KNeighborsClassifier())\n",
        "])\n",
        "\n",
        "# Train the classifiers\n",
        "knn = knn_pipe.fit(X_train, y_train)\n",
        "\n",
        "# use the model to predict the class labels of the test set:\n",
        "knn_pred = knn.predict(X_test)\n",
        "\n",
        "# Evaluate Training and Test Scores\n",
        "\n",
        "knn_train_score = knn.score(X_train, y_train)\n",
        "print(\"Training Accuracy Score\", knn_train_score)\n",
        "\n",
        "knn_test_score = knn.score(X_test, y_test)\n",
        "print(\"Test Accuracy Score\", knn_test_score)\n",
        "\n"
      ]
    },
    {
      "cell_type": "code",
      "execution_count": 44,
      "metadata": {
        "colab": {
          "base_uri": "https://localhost:8080/"
        },
        "id": "FuiSwRfPSTgJ",
        "outputId": "58343e07-c35a-480e-8a76-897eb34ffa51"
      },
      "outputs": [
        {
          "output_type": "stream",
          "name": "stdout",
          "text": [
            "Training Accuracy Score 0.8911935069890049\n",
            "Test Accuracy Score 0.8846807477543093\n",
            "CPU times: user 368 ms, sys: 2.03 ms, total: 370 ms\n",
            "Wall time: 371 ms\n"
          ]
        }
      ],
      "source": [
        "%%time\n",
        "#Building a Decision Tree  model\n",
        "\n",
        "dtc1_pipe = Pipeline ([\n",
        "    ('transformer', column_trans),\n",
        "    ('scale', StandardScaler(with_mean=False)),\n",
        "    ('model', DecisionTreeClassifier())\n",
        "])\n",
        "\n",
        "# Train the classifiers\n",
        "dtc1 = dtc1_pipe.fit(X_train, y_train)\n",
        "\n",
        "# use the model to predict the class labels of the test set:\n",
        "dtc1_pred = dtc1.predict(X_test)\n",
        "\n",
        "# Evaluate Training and Test Scores\n",
        "\n",
        "dtc1_train_score = dtc1.score(X_train, y_train)\n",
        "print(\"Training Accuracy Score\", dtc1_train_score)\n",
        "\n",
        "dtc1_test_score = dtc1.score(X_test, y_test)\n",
        "print(\"Test Accuracy Score\", dtc1_test_score)\n"
      ]
    },
    {
      "cell_type": "code",
      "execution_count": 45,
      "metadata": {
        "colab": {
          "base_uri": "https://localhost:8080/"
        },
        "id": "dNvd_QTCSTgK",
        "outputId": "06ea129a-e8f3-432a-f1cb-6327f159bdfd"
      },
      "outputs": [
        {
          "output_type": "stream",
          "name": "stdout",
          "text": [
            "Training Accuracy Score 0.8873087995560335\n",
            "Test Accuracy Score 0.8875131504410455\n",
            "CPU times: user 24.8 s, sys: 127 ms, total: 24.9 s\n",
            "Wall time: 24.9 s\n"
          ]
        }
      ],
      "source": [
        "%%time\n",
        "\n",
        "#Building a SVC model\n",
        "\n",
        "svm_pipe = Pipeline ([\n",
        "    ('transformer', column_trans),\n",
        "    ('scale', StandardScaler(with_mean=False)),\n",
        "    ('model', SVC())\n",
        "])\n",
        "\n",
        "# Train the classifiers\n",
        "svm = svm_pipe.fit(X_train, y_train)\n",
        "\n",
        "# use the model to predict the class labels of the test set:\n",
        "svm_pred = svm.predict(X_test)\n",
        "\n",
        "# Evaluate Training and Test Scores\n",
        "\n",
        "svm_train_score = svm.score(X_train, y_train)\n",
        "print(\"Training Accuracy Score\", svm_train_score)\n",
        "\n",
        "svm_test_score = svm.score(X_test, y_test)\n",
        "print(\"Test Accuracy Score\", svm_test_score)\n"
      ]
    },
    {
      "cell_type": "markdown",
      "metadata": {
        "id": "qFwsUmTfSTgL"
      },
      "source": [
        "### Results from Models"
      ]
    },
    {
      "cell_type": "code",
      "execution_count": 56,
      "metadata": {
        "colab": {
          "base_uri": "https://localhost:8080/",
          "height": 175
        },
        "id": "ca9qpj_mSTgL",
        "outputId": "e86523d2-283c-423a-c8c7-7fb7d2eed61f"
      },
      "outputs": [
        {
          "output_type": "execute_result",
          "data": {
            "text/plain": [
              "           Model Train Time (s)      Train Accuracy       Test Accuracy\n",
              "0       Logistic           2.89  0.8872047448926502  0.8875940762320952\n",
              "1            KNN             65  0.8846033783080711  0.8807963097839281\n",
              "2  Decision Tree           3.71  0.8911935069890049   0.884761673545359\n",
              "3            SVM           24.9  0.8873087995560335  0.8875131504410455"
            ],
            "text/html": [
              "\n",
              "  <div id=\"df-c4596be6-f70b-446e-8153-a15db5e80fef\" class=\"colab-df-container\">\n",
              "    <div>\n",
              "<style scoped>\n",
              "    .dataframe tbody tr th:only-of-type {\n",
              "        vertical-align: middle;\n",
              "    }\n",
              "\n",
              "    .dataframe tbody tr th {\n",
              "        vertical-align: top;\n",
              "    }\n",
              "\n",
              "    .dataframe thead th {\n",
              "        text-align: right;\n",
              "    }\n",
              "</style>\n",
              "<table border=\"1\" class=\"dataframe\">\n",
              "  <thead>\n",
              "    <tr style=\"text-align: right;\">\n",
              "      <th></th>\n",
              "      <th>Model</th>\n",
              "      <th>Train Time (s)</th>\n",
              "      <th>Train Accuracy</th>\n",
              "      <th>Test Accuracy</th>\n",
              "    </tr>\n",
              "  </thead>\n",
              "  <tbody>\n",
              "    <tr>\n",
              "      <th>0</th>\n",
              "      <td>Logistic</td>\n",
              "      <td>2.89</td>\n",
              "      <td>0.8872047448926502</td>\n",
              "      <td>0.8875940762320952</td>\n",
              "    </tr>\n",
              "    <tr>\n",
              "      <th>1</th>\n",
              "      <td>KNN</td>\n",
              "      <td>65</td>\n",
              "      <td>0.8846033783080711</td>\n",
              "      <td>0.8807963097839281</td>\n",
              "    </tr>\n",
              "    <tr>\n",
              "      <th>2</th>\n",
              "      <td>Decision Tree</td>\n",
              "      <td>3.71</td>\n",
              "      <td>0.8911935069890049</td>\n",
              "      <td>0.884761673545359</td>\n",
              "    </tr>\n",
              "    <tr>\n",
              "      <th>3</th>\n",
              "      <td>SVM</td>\n",
              "      <td>24.9</td>\n",
              "      <td>0.8873087995560335</td>\n",
              "      <td>0.8875131504410455</td>\n",
              "    </tr>\n",
              "  </tbody>\n",
              "</table>\n",
              "</div>\n",
              "    <div class=\"colab-df-buttons\">\n",
              "\n",
              "  <div class=\"colab-df-container\">\n",
              "    <button class=\"colab-df-convert\" onclick=\"convertToInteractive('df-c4596be6-f70b-446e-8153-a15db5e80fef')\"\n",
              "            title=\"Convert this dataframe to an interactive table.\"\n",
              "            style=\"display:none;\">\n",
              "\n",
              "  <svg xmlns=\"http://www.w3.org/2000/svg\" height=\"24px\" viewBox=\"0 -960 960 960\">\n",
              "    <path d=\"M120-120v-720h720v720H120Zm60-500h600v-160H180v160Zm220 220h160v-160H400v160Zm0 220h160v-160H400v160ZM180-400h160v-160H180v160Zm440 0h160v-160H620v160ZM180-180h160v-160H180v160Zm440 0h160v-160H620v160Z\"/>\n",
              "  </svg>\n",
              "    </button>\n",
              "\n",
              "  <style>\n",
              "    .colab-df-container {\n",
              "      display:flex;\n",
              "      gap: 12px;\n",
              "    }\n",
              "\n",
              "    .colab-df-convert {\n",
              "      background-color: #E8F0FE;\n",
              "      border: none;\n",
              "      border-radius: 50%;\n",
              "      cursor: pointer;\n",
              "      display: none;\n",
              "      fill: #1967D2;\n",
              "      height: 32px;\n",
              "      padding: 0 0 0 0;\n",
              "      width: 32px;\n",
              "    }\n",
              "\n",
              "    .colab-df-convert:hover {\n",
              "      background-color: #E2EBFA;\n",
              "      box-shadow: 0px 1px 2px rgba(60, 64, 67, 0.3), 0px 1px 3px 1px rgba(60, 64, 67, 0.15);\n",
              "      fill: #174EA6;\n",
              "    }\n",
              "\n",
              "    .colab-df-buttons div {\n",
              "      margin-bottom: 4px;\n",
              "    }\n",
              "\n",
              "    [theme=dark] .colab-df-convert {\n",
              "      background-color: #3B4455;\n",
              "      fill: #D2E3FC;\n",
              "    }\n",
              "\n",
              "    [theme=dark] .colab-df-convert:hover {\n",
              "      background-color: #434B5C;\n",
              "      box-shadow: 0px 1px 3px 1px rgba(0, 0, 0, 0.15);\n",
              "      filter: drop-shadow(0px 1px 2px rgba(0, 0, 0, 0.3));\n",
              "      fill: #FFFFFF;\n",
              "    }\n",
              "  </style>\n",
              "\n",
              "    <script>\n",
              "      const buttonEl =\n",
              "        document.querySelector('#df-c4596be6-f70b-446e-8153-a15db5e80fef button.colab-df-convert');\n",
              "      buttonEl.style.display =\n",
              "        google.colab.kernel.accessAllowed ? 'block' : 'none';\n",
              "\n",
              "      async function convertToInteractive(key) {\n",
              "        const element = document.querySelector('#df-c4596be6-f70b-446e-8153-a15db5e80fef');\n",
              "        const dataTable =\n",
              "          await google.colab.kernel.invokeFunction('convertToInteractive',\n",
              "                                                    [key], {});\n",
              "        if (!dataTable) return;\n",
              "\n",
              "        const docLinkHtml = 'Like what you see? Visit the ' +\n",
              "          '<a target=\"_blank\" href=https://colab.research.google.com/notebooks/data_table.ipynb>data table notebook</a>'\n",
              "          + ' to learn more about interactive tables.';\n",
              "        element.innerHTML = '';\n",
              "        dataTable['output_type'] = 'display_data';\n",
              "        await google.colab.output.renderOutput(dataTable, element);\n",
              "        const docLink = document.createElement('div');\n",
              "        docLink.innerHTML = docLinkHtml;\n",
              "        element.appendChild(docLink);\n",
              "      }\n",
              "    </script>\n",
              "  </div>\n",
              "\n",
              "\n",
              "<div id=\"df-f0abef36-58fa-4ac5-bb8b-04dac90ac28e\">\n",
              "  <button class=\"colab-df-quickchart\" onclick=\"quickchart('df-f0abef36-58fa-4ac5-bb8b-04dac90ac28e')\"\n",
              "            title=\"Suggest charts\"\n",
              "            style=\"display:none;\">\n",
              "\n",
              "<svg xmlns=\"http://www.w3.org/2000/svg\" height=\"24px\"viewBox=\"0 0 24 24\"\n",
              "     width=\"24px\">\n",
              "    <g>\n",
              "        <path d=\"M19 3H5c-1.1 0-2 .9-2 2v14c0 1.1.9 2 2 2h14c1.1 0 2-.9 2-2V5c0-1.1-.9-2-2-2zM9 17H7v-7h2v7zm4 0h-2V7h2v10zm4 0h-2v-4h2v4z\"/>\n",
              "    </g>\n",
              "</svg>\n",
              "  </button>\n",
              "\n",
              "<style>\n",
              "  .colab-df-quickchart {\n",
              "      --bg-color: #E8F0FE;\n",
              "      --fill-color: #1967D2;\n",
              "      --hover-bg-color: #E2EBFA;\n",
              "      --hover-fill-color: #174EA6;\n",
              "      --disabled-fill-color: #AAA;\n",
              "      --disabled-bg-color: #DDD;\n",
              "  }\n",
              "\n",
              "  [theme=dark] .colab-df-quickchart {\n",
              "      --bg-color: #3B4455;\n",
              "      --fill-color: #D2E3FC;\n",
              "      --hover-bg-color: #434B5C;\n",
              "      --hover-fill-color: #FFFFFF;\n",
              "      --disabled-bg-color: #3B4455;\n",
              "      --disabled-fill-color: #666;\n",
              "  }\n",
              "\n",
              "  .colab-df-quickchart {\n",
              "    background-color: var(--bg-color);\n",
              "    border: none;\n",
              "    border-radius: 50%;\n",
              "    cursor: pointer;\n",
              "    display: none;\n",
              "    fill: var(--fill-color);\n",
              "    height: 32px;\n",
              "    padding: 0;\n",
              "    width: 32px;\n",
              "  }\n",
              "\n",
              "  .colab-df-quickchart:hover {\n",
              "    background-color: var(--hover-bg-color);\n",
              "    box-shadow: 0 1px 2px rgba(60, 64, 67, 0.3), 0 1px 3px 1px rgba(60, 64, 67, 0.15);\n",
              "    fill: var(--button-hover-fill-color);\n",
              "  }\n",
              "\n",
              "  .colab-df-quickchart-complete:disabled,\n",
              "  .colab-df-quickchart-complete:disabled:hover {\n",
              "    background-color: var(--disabled-bg-color);\n",
              "    fill: var(--disabled-fill-color);\n",
              "    box-shadow: none;\n",
              "  }\n",
              "\n",
              "  .colab-df-spinner {\n",
              "    border: 2px solid var(--fill-color);\n",
              "    border-color: transparent;\n",
              "    border-bottom-color: var(--fill-color);\n",
              "    animation:\n",
              "      spin 1s steps(1) infinite;\n",
              "  }\n",
              "\n",
              "  @keyframes spin {\n",
              "    0% {\n",
              "      border-color: transparent;\n",
              "      border-bottom-color: var(--fill-color);\n",
              "      border-left-color: var(--fill-color);\n",
              "    }\n",
              "    20% {\n",
              "      border-color: transparent;\n",
              "      border-left-color: var(--fill-color);\n",
              "      border-top-color: var(--fill-color);\n",
              "    }\n",
              "    30% {\n",
              "      border-color: transparent;\n",
              "      border-left-color: var(--fill-color);\n",
              "      border-top-color: var(--fill-color);\n",
              "      border-right-color: var(--fill-color);\n",
              "    }\n",
              "    40% {\n",
              "      border-color: transparent;\n",
              "      border-right-color: var(--fill-color);\n",
              "      border-top-color: var(--fill-color);\n",
              "    }\n",
              "    60% {\n",
              "      border-color: transparent;\n",
              "      border-right-color: var(--fill-color);\n",
              "    }\n",
              "    80% {\n",
              "      border-color: transparent;\n",
              "      border-right-color: var(--fill-color);\n",
              "      border-bottom-color: var(--fill-color);\n",
              "    }\n",
              "    90% {\n",
              "      border-color: transparent;\n",
              "      border-bottom-color: var(--fill-color);\n",
              "    }\n",
              "  }\n",
              "</style>\n",
              "\n",
              "  <script>\n",
              "    async function quickchart(key) {\n",
              "      const quickchartButtonEl =\n",
              "        document.querySelector('#' + key + ' button');\n",
              "      quickchartButtonEl.disabled = true;  // To prevent multiple clicks.\n",
              "      quickchartButtonEl.classList.add('colab-df-spinner');\n",
              "      try {\n",
              "        const charts = await google.colab.kernel.invokeFunction(\n",
              "            'suggestCharts', [key], {});\n",
              "      } catch (error) {\n",
              "        console.error('Error during call to suggestCharts:', error);\n",
              "      }\n",
              "      quickchartButtonEl.classList.remove('colab-df-spinner');\n",
              "      quickchartButtonEl.classList.add('colab-df-quickchart-complete');\n",
              "    }\n",
              "    (() => {\n",
              "      let quickchartButtonEl =\n",
              "        document.querySelector('#df-f0abef36-58fa-4ac5-bb8b-04dac90ac28e button');\n",
              "      quickchartButtonEl.style.display =\n",
              "        google.colab.kernel.accessAllowed ? 'block' : 'none';\n",
              "    })();\n",
              "  </script>\n",
              "</div>\n",
              "\n",
              "    </div>\n",
              "  </div>\n"
            ],
            "application/vnd.google.colaboratory.intrinsic+json": {
              "type": "dataframe",
              "summary": "{\n  \"name\": \"             'Test Accuracy': ['0\",\n  \"rows\": 4,\n  \"fields\": [\n    {\n      \"column\": \"Model\",\n      \"properties\": {\n        \"dtype\": \"string\",\n        \"samples\": [\n          \"KNN\",\n          \"SVM\",\n          \"Logistic\"\n        ],\n        \"num_unique_values\": 4,\n        \"semantic_type\": \"\",\n        \"description\": \"\"\n      }\n    },\n    {\n      \"column\": \"Train Time (s)\",\n      \"properties\": {\n        \"dtype\": \"string\",\n        \"samples\": [\n          \"65\",\n          \"24.9\",\n          \"2.89\"\n        ],\n        \"num_unique_values\": 4,\n        \"semantic_type\": \"\",\n        \"description\": \"\"\n      }\n    },\n    {\n      \"column\": \"Train Accuracy\",\n      \"properties\": {\n        \"dtype\": \"string\",\n        \"samples\": [\n          \"0.8846033783080711\",\n          \"0.8873087995560335\",\n          \"0.8872047448926502\"\n        ],\n        \"num_unique_values\": 4,\n        \"semantic_type\": \"\",\n        \"description\": \"\"\n      }\n    },\n    {\n      \"column\": \"Test Accuracy\",\n      \"properties\": {\n        \"dtype\": \"string\",\n        \"samples\": [\n          \"0.8807963097839281\",\n          \"0.8875131504410455\",\n          \"0.8875940762320952\"\n        ],\n        \"num_unique_values\": 4,\n        \"semantic_type\": \"\",\n        \"description\": \"\"\n      }\n    }\n  ]\n}"
            }
          },
          "metadata": {},
          "execution_count": 56
        }
      ],
      "source": [
        "# Display results in a Dataframe\n",
        "pd.DataFrame({'Model': ['Logistic', 'KNN','Decision Tree', 'SVM'],\n",
        "             'Train Time (s)': ['2.89', '65', '3.71','24.9'],\n",
        "             'Train Accuracy': ['0.8872047448926502', '0.8846033783080711', '0.8911935069890049','0.8873087995560335'],\n",
        "             'Test Accuracy': ['0.8875940762320952', '0.8807963097839281', '0.884761673545359','0.8875131504410455']})"
      ]
    },
    {
      "cell_type": "markdown",
      "metadata": {
        "id": "xWRjd6umSTgM"
      },
      "source": [
        "Looking at the results from the model comparison, Logistic Regression had the best numbers across the three metrics with lowest train time in seconds, highest training and testing accuracy scores."
      ]
    },
    {
      "cell_type": "code",
      "execution_count": 46,
      "metadata": {
        "id": "LsWmn4FlSTgM"
      },
      "outputs": [],
      "source": []
    },
    {
      "cell_type": "markdown",
      "metadata": {
        "id": "fjeAr88KSTgM"
      },
      "source": [
        "### Problem 11: Improving the Model\n",
        "\n",
        "Now that we have some basic models on the board, we want to try to improve these.  Below, we list a few things to explore in this pursuit.\n",
        "\n",
        "- More feature engineering and exploration.  For example, should we keep the gender feature?  Why or why not?\n",
        "- Hyperparameter tuning and grid search.  All of our models have additional hyperparameters to tune and explore.  For example the number of neighbors in KNN or the maximum depth of a Decision Tree.  \n",
        "- Adjust your performance metric"
      ]
    },
    {
      "cell_type": "markdown",
      "metadata": {
        "id": "JlFxUXiwSTgN"
      },
      "source": [
        "Looking at the features and exploration statement above, it mentions if we should keep the gender feature. Not sure if this is a trick question because when you review the list of features above, the only closely aligned gender feature is marital status and to be honest it's a stretch.\n",
        "\n",
        "This dataset is so imbalanced when you look at the Exploratory section of this Notebook, using the features to see if we can get a higher percentage of successful sign up for long term product did not provide a positive result with the exception of customer that have housing loan with a number of 52.4%"
      ]
    },
    {
      "cell_type": "markdown",
      "metadata": {
        "id": "9aRPS1Z5STgN"
      },
      "source": [
        "Using Grid Search to create models with the different parameters and evaluate the performance metrics"
      ]
    },
    {
      "cell_type": "code",
      "execution_count": 47,
      "metadata": {
        "colab": {
          "base_uri": "https://localhost:8080/"
        },
        "id": "nrIwkvXjSTgN",
        "outputId": "d30efcb6-9553-4942-fb38-1e9c7bb39e42"
      },
      "outputs": [
        {
          "output_type": "execute_result",
          "data": {
            "text/plain": [
              "dict_keys(['memory', 'steps', 'verbose', 'transformer', 'scale', 'model', 'transformer__n_jobs', 'transformer__remainder', 'transformer__sparse_threshold', 'transformer__transformer_weights', 'transformer__transformers', 'transformer__verbose', 'transformer__verbose_feature_names_out', 'transformer__onehotencoder', 'transformer__ordinalencoder', 'transformer__onehotencoder__categories', 'transformer__onehotencoder__drop', 'transformer__onehotencoder__dtype', 'transformer__onehotencoder__handle_unknown', 'transformer__onehotencoder__max_categories', 'transformer__onehotencoder__min_frequency', 'transformer__onehotencoder__sparse', 'transformer__onehotencoder__sparse_output', 'transformer__ordinalencoder__categories', 'transformer__ordinalencoder__dtype', 'transformer__ordinalencoder__encoded_missing_value', 'transformer__ordinalencoder__handle_unknown', 'transformer__ordinalencoder__unknown_value', 'scale__copy', 'scale__with_mean', 'scale__with_std', 'model__C', 'model__class_weight', 'model__dual', 'model__fit_intercept', 'model__intercept_scaling', 'model__l1_ratio', 'model__max_iter', 'model__multi_class', 'model__n_jobs', 'model__penalty', 'model__random_state', 'model__solver', 'model__tol', 'model__verbose', 'model__warm_start'])"
            ]
          },
          "metadata": {},
          "execution_count": 47
        }
      ],
      "source": [
        "#Looking up parameters that can be passed to the pipeline\n",
        "lgr1_pipe.get_params().keys()"
      ]
    },
    {
      "cell_type": "code",
      "execution_count": 48,
      "metadata": {
        "colab": {
          "base_uri": "https://localhost:8080/"
        },
        "id": "4Md1T0_RSTgO",
        "outputId": "cd09a6a0-4325-4d41-fe85-5fdb36f7b9c0"
      },
      "outputs": [
        {
          "output_type": "stream",
          "name": "stdout",
          "text": [
            "\n",
            " Logistic Regression - Grid Search best score -\n",
            "0.8872394393842521\n",
            "\n",
            "Grid Search best parameters -\n",
            "{'model__C': 0.001, 'model__penalty': 'l1', 'model__solver': 'liblinear'}\n",
            "\\Grid Search CV Results -\n",
            "{'mean_fit_time': array([0.03911486, 0.04040921, 0.12201672, 0.17704303, 0.10085001,\n",
            "       0.08309588, 0.03916619, 0.03895431, 0.14952219, 0.18679557,\n",
            "       0.11616614, 0.1156806 , 0.0389446 , 0.03858709, 0.98456857,\n",
            "       0.44626226, 0.2369266 , 0.17397909, 0.07815294, 0.08724203,\n",
            "       1.72931702, 0.32263229, 0.27855742, 0.14122031, 0.04060149,\n",
            "       0.03847575, 0.11684151, 0.20937164, 0.1038214 , 0.09303904,\n",
            "       0.03937895, 0.03845823, 0.07948954, 0.2726011 , 0.1024791 ,\n",
            "       0.09225397, 0.03958838, 0.04766912, 0.12514641, 0.30869665,\n",
            "       0.11578724, 0.11462755]), 'std_fit_time': array([1.58638118e-03, 1.81282209e-03, 2.16621290e-02, 4.17107035e-03,\n",
            "       2.42422673e-03, 3.23675087e-03, 2.10548494e-03, 1.74342296e-03,\n",
            "       1.03254967e-02, 1.20188330e-02, 3.54434118e-03, 1.87130842e-02,\n",
            "       2.01771057e-03, 1.97537384e-03, 4.74998625e-01, 8.00302922e-02,\n",
            "       2.84955836e-02, 4.94271472e-02, 1.67649545e-02, 3.80328776e-02,\n",
            "       2.11857633e+00, 1.93234077e-02, 9.01047191e-02, 5.07824418e-02,\n",
            "       3.70132468e-03, 2.44042368e-03, 1.02006467e-01, 1.08876590e-02,\n",
            "       4.19986537e-03, 3.39700683e-03, 1.23626129e-03, 1.03393977e-03,\n",
            "       2.60298418e-03, 5.28058062e-02, 2.94122091e-03, 2.91668249e-03,\n",
            "       1.64772308e-03, 1.61160762e-02, 2.36742927e-02, 6.10594415e-02,\n",
            "       2.31833912e-02, 2.21602584e-02]), 'mean_score_time': array([0.        , 0.        , 0.01536345, 0.01090314, 0.01113031,\n",
            "       0.01110315, 0.        , 0.        , 0.01196744, 0.01084363,\n",
            "       0.0113241 , 0.01631467, 0.        , 0.        , 0.01807575,\n",
            "       0.02991982, 0.02566214, 0.02359357, 0.        , 0.        ,\n",
            "       0.01663725, 0.01768427, 0.02514987, 0.01598721, 0.        ,\n",
            "       0.        , 0.01091835, 0.01067383, 0.010972  , 0.01086514,\n",
            "       0.        , 0.        , 0.01088116, 0.01230874, 0.01131945,\n",
            "       0.01141329, 0.        , 0.        , 0.01740022, 0.01348939,\n",
            "       0.01259861, 0.01366136]), 'std_score_time': array([0.        , 0.        , 0.00309642, 0.00059627, 0.00070486,\n",
            "       0.00039742, 0.        , 0.        , 0.00187423, 0.00077176,\n",
            "       0.00081858, 0.00304385, 0.        , 0.        , 0.01021793,\n",
            "       0.01086703, 0.0138918 , 0.00642535, 0.        , 0.        ,\n",
            "       0.00188989, 0.00121441, 0.011513  , 0.00451989, 0.        ,\n",
            "       0.        , 0.0004088 , 0.00034394, 0.00036458, 0.00021546,\n",
            "       0.        , 0.        , 0.00045505, 0.00247675, 0.00110825,\n",
            "       0.00170774, 0.        , 0.        , 0.00453645, 0.00313224,\n",
            "       0.00239256, 0.00281656]), 'param_model__C': masked_array(data=[0.001, 0.001, 0.001, 0.001, 0.001, 0.001, 0.01, 0.01,\n",
            "                   0.01, 0.01, 0.01, 0.01, 0.1, 0.1, 0.1, 0.1, 0.1, 0.1,\n",
            "                   1.0, 1.0, 1.0, 1.0, 1.0, 1.0, 10.0, 10.0, 10.0, 10.0,\n",
            "                   10.0, 10.0, 100.0, 100.0, 100.0, 100.0, 100.0, 100.0,\n",
            "                   1000.0, 1000.0, 1000.0, 1000.0, 1000.0, 1000.0],\n",
            "             mask=[False, False, False, False, False, False, False, False,\n",
            "                   False, False, False, False, False, False, False, False,\n",
            "                   False, False, False, False, False, False, False, False,\n",
            "                   False, False, False, False, False, False, False, False,\n",
            "                   False, False, False, False, False, False, False, False,\n",
            "                   False, False],\n",
            "       fill_value='?',\n",
            "            dtype=object), 'param_model__penalty': masked_array(data=['l1', 'l1', 'l1', 'l2', 'l2', 'l2', 'l1', 'l1', 'l1',\n",
            "                   'l2', 'l2', 'l2', 'l1', 'l1', 'l1', 'l2', 'l2', 'l2',\n",
            "                   'l1', 'l1', 'l1', 'l2', 'l2', 'l2', 'l1', 'l1', 'l1',\n",
            "                   'l2', 'l2', 'l2', 'l1', 'l1', 'l1', 'l2', 'l2', 'l2',\n",
            "                   'l1', 'l1', 'l1', 'l2', 'l2', 'l2'],\n",
            "             mask=[False, False, False, False, False, False, False, False,\n",
            "                   False, False, False, False, False, False, False, False,\n",
            "                   False, False, False, False, False, False, False, False,\n",
            "                   False, False, False, False, False, False, False, False,\n",
            "                   False, False, False, False, False, False, False, False,\n",
            "                   False, False],\n",
            "       fill_value='?',\n",
            "            dtype=object), 'param_model__solver': masked_array(data=['newton-cg', 'lbfgs', 'liblinear', 'newton-cg',\n",
            "                   'lbfgs', 'liblinear', 'newton-cg', 'lbfgs',\n",
            "                   'liblinear', 'newton-cg', 'lbfgs', 'liblinear',\n",
            "                   'newton-cg', 'lbfgs', 'liblinear', 'newton-cg',\n",
            "                   'lbfgs', 'liblinear', 'newton-cg', 'lbfgs',\n",
            "                   'liblinear', 'newton-cg', 'lbfgs', 'liblinear',\n",
            "                   'newton-cg', 'lbfgs', 'liblinear', 'newton-cg',\n",
            "                   'lbfgs', 'liblinear', 'newton-cg', 'lbfgs',\n",
            "                   'liblinear', 'newton-cg', 'lbfgs', 'liblinear',\n",
            "                   'newton-cg', 'lbfgs', 'liblinear', 'newton-cg',\n",
            "                   'lbfgs', 'liblinear'],\n",
            "             mask=[False, False, False, False, False, False, False, False,\n",
            "                   False, False, False, False, False, False, False, False,\n",
            "                   False, False, False, False, False, False, False, False,\n",
            "                   False, False, False, False, False, False, False, False,\n",
            "                   False, False, False, False, False, False, False, False,\n",
            "                   False, False],\n",
            "       fill_value='?',\n",
            "            dtype=object), 'params': [{'model__C': 0.001, 'model__penalty': 'l1', 'model__solver': 'newton-cg'}, {'model__C': 0.001, 'model__penalty': 'l1', 'model__solver': 'lbfgs'}, {'model__C': 0.001, 'model__penalty': 'l1', 'model__solver': 'liblinear'}, {'model__C': 0.001, 'model__penalty': 'l2', 'model__solver': 'newton-cg'}, {'model__C': 0.001, 'model__penalty': 'l2', 'model__solver': 'lbfgs'}, {'model__C': 0.001, 'model__penalty': 'l2', 'model__solver': 'liblinear'}, {'model__C': 0.01, 'model__penalty': 'l1', 'model__solver': 'newton-cg'}, {'model__C': 0.01, 'model__penalty': 'l1', 'model__solver': 'lbfgs'}, {'model__C': 0.01, 'model__penalty': 'l1', 'model__solver': 'liblinear'}, {'model__C': 0.01, 'model__penalty': 'l2', 'model__solver': 'newton-cg'}, {'model__C': 0.01, 'model__penalty': 'l2', 'model__solver': 'lbfgs'}, {'model__C': 0.01, 'model__penalty': 'l2', 'model__solver': 'liblinear'}, {'model__C': 0.1, 'model__penalty': 'l1', 'model__solver': 'newton-cg'}, {'model__C': 0.1, 'model__penalty': 'l1', 'model__solver': 'lbfgs'}, {'model__C': 0.1, 'model__penalty': 'l1', 'model__solver': 'liblinear'}, {'model__C': 0.1, 'model__penalty': 'l2', 'model__solver': 'newton-cg'}, {'model__C': 0.1, 'model__penalty': 'l2', 'model__solver': 'lbfgs'}, {'model__C': 0.1, 'model__penalty': 'l2', 'model__solver': 'liblinear'}, {'model__C': 1.0, 'model__penalty': 'l1', 'model__solver': 'newton-cg'}, {'model__C': 1.0, 'model__penalty': 'l1', 'model__solver': 'lbfgs'}, {'model__C': 1.0, 'model__penalty': 'l1', 'model__solver': 'liblinear'}, {'model__C': 1.0, 'model__penalty': 'l2', 'model__solver': 'newton-cg'}, {'model__C': 1.0, 'model__penalty': 'l2', 'model__solver': 'lbfgs'}, {'model__C': 1.0, 'model__penalty': 'l2', 'model__solver': 'liblinear'}, {'model__C': 10.0, 'model__penalty': 'l1', 'model__solver': 'newton-cg'}, {'model__C': 10.0, 'model__penalty': 'l1', 'model__solver': 'lbfgs'}, {'model__C': 10.0, 'model__penalty': 'l1', 'model__solver': 'liblinear'}, {'model__C': 10.0, 'model__penalty': 'l2', 'model__solver': 'newton-cg'}, {'model__C': 10.0, 'model__penalty': 'l2', 'model__solver': 'lbfgs'}, {'model__C': 10.0, 'model__penalty': 'l2', 'model__solver': 'liblinear'}, {'model__C': 100.0, 'model__penalty': 'l1', 'model__solver': 'newton-cg'}, {'model__C': 100.0, 'model__penalty': 'l1', 'model__solver': 'lbfgs'}, {'model__C': 100.0, 'model__penalty': 'l1', 'model__solver': 'liblinear'}, {'model__C': 100.0, 'model__penalty': 'l2', 'model__solver': 'newton-cg'}, {'model__C': 100.0, 'model__penalty': 'l2', 'model__solver': 'lbfgs'}, {'model__C': 100.0, 'model__penalty': 'l2', 'model__solver': 'liblinear'}, {'model__C': 1000.0, 'model__penalty': 'l1', 'model__solver': 'newton-cg'}, {'model__C': 1000.0, 'model__penalty': 'l1', 'model__solver': 'lbfgs'}, {'model__C': 1000.0, 'model__penalty': 'l1', 'model__solver': 'liblinear'}, {'model__C': 1000.0, 'model__penalty': 'l2', 'model__solver': 'newton-cg'}, {'model__C': 1000.0, 'model__penalty': 'l2', 'model__solver': 'lbfgs'}, {'model__C': 1000.0, 'model__penalty': 'l2', 'model__solver': 'liblinear'}], 'split0_test_score': array([       nan,        nan, 0.88696255, 0.88696255, 0.88696255,\n",
            "       0.88696255,        nan,        nan, 0.88696255, 0.88696255,\n",
            "       0.88696255, 0.88696255,        nan,        nan, 0.88696255,\n",
            "       0.88696255, 0.88696255, 0.88696255,        nan,        nan,\n",
            "       0.88696255, 0.88696255, 0.88696255, 0.88696255,        nan,\n",
            "              nan, 0.88696255, 0.88696255, 0.88696255, 0.88696255,\n",
            "              nan,        nan, 0.88696255, 0.88696255, 0.88696255,\n",
            "       0.88696255,        nan,        nan, 0.88696255, 0.88696255,\n",
            "       0.88696255, 0.88696255]), 'split1_test_score': array([      nan,       nan, 0.8872702, 0.8872702, 0.8872702, 0.8872702,\n",
            "             nan,       nan, 0.8872702, 0.8872702, 0.8872702, 0.8872702,\n",
            "             nan,       nan, 0.8872702, 0.8872702, 0.8872702, 0.8872702,\n",
            "             nan,       nan, 0.8872702, 0.8872702, 0.8872702, 0.8872702,\n",
            "             nan,       nan, 0.8872702, 0.8872702, 0.8872702, 0.8872702,\n",
            "             nan,       nan, 0.8872702, 0.8872702, 0.8872702, 0.8872702,\n",
            "             nan,       nan, 0.8872702, 0.8872702, 0.8872702, 0.8872702]), 'split2_test_score': array([      nan,       nan, 0.8872702, 0.8872702, 0.8872702, 0.8872702,\n",
            "             nan,       nan, 0.8872702, 0.8872702, 0.8872702, 0.8872702,\n",
            "             nan,       nan, 0.8872702, 0.8872702, 0.8872702, 0.8872702,\n",
            "             nan,       nan, 0.8872702, 0.8872702, 0.8872702, 0.8872702,\n",
            "             nan,       nan, 0.8872702, 0.8872702, 0.8872702, 0.8872702,\n",
            "             nan,       nan, 0.8872702, 0.8872702, 0.8872702, 0.8872702,\n",
            "             nan,       nan, 0.8872702, 0.8872702, 0.8872702, 0.8872702]), 'split3_test_score': array([      nan,       nan, 0.8872702, 0.8872702, 0.8872702, 0.8872702,\n",
            "             nan,       nan, 0.8872702, 0.8872702, 0.8872702, 0.8872702,\n",
            "             nan,       nan, 0.8872702, 0.8872702, 0.8872702, 0.8872702,\n",
            "             nan,       nan, 0.8872702, 0.8872702, 0.8872702, 0.8872702,\n",
            "             nan,       nan, 0.8872702, 0.8872702, 0.8872702, 0.8872702,\n",
            "             nan,       nan, 0.8872702, 0.8872702, 0.8872702, 0.8872702,\n",
            "             nan,       nan, 0.8872702, 0.8872702, 0.8872702, 0.8872702]), 'split4_test_score': array([      nan,       nan, 0.8872702, 0.8872702, 0.8872702, 0.8872702,\n",
            "             nan,       nan, 0.8872702, 0.8872702, 0.8872702, 0.8872702,\n",
            "             nan,       nan, 0.8872702, 0.8872702, 0.8872702, 0.8872702,\n",
            "             nan,       nan, 0.8872702, 0.8872702, 0.8872702, 0.8872702,\n",
            "             nan,       nan, 0.8872702, 0.8872702, 0.8872702, 0.8872702,\n",
            "             nan,       nan, 0.8872702, 0.8872702, 0.8872702, 0.8872702,\n",
            "             nan,       nan, 0.8872702, 0.8872702, 0.8872702, 0.8872702]), 'split5_test_score': array([      nan,       nan, 0.8872702, 0.8872702, 0.8872702, 0.8872702,\n",
            "             nan,       nan, 0.8872702, 0.8872702, 0.8872702, 0.8872702,\n",
            "             nan,       nan, 0.8872702, 0.8872702, 0.8872702, 0.8872702,\n",
            "             nan,       nan, 0.8872702, 0.8872702, 0.8872702, 0.8872702,\n",
            "             nan,       nan, 0.8872702, 0.8872702, 0.8872702, 0.8872702,\n",
            "             nan,       nan, 0.8872702, 0.8872702, 0.8872702, 0.8872702,\n",
            "             nan,       nan, 0.8872702, 0.8872702, 0.8872702, 0.8872702]), 'split6_test_score': array([      nan,       nan, 0.8872702, 0.8872702, 0.8872702, 0.8872702,\n",
            "             nan,       nan, 0.8872702, 0.8872702, 0.8872702, 0.8872702,\n",
            "             nan,       nan, 0.8872702, 0.8872702, 0.8872702, 0.8872702,\n",
            "             nan,       nan, 0.8872702, 0.8872702, 0.8872702, 0.8872702,\n",
            "             nan,       nan, 0.8872702, 0.8872702, 0.8872702, 0.8872702,\n",
            "             nan,       nan, 0.8872702, 0.8872702, 0.8872702, 0.8872702,\n",
            "             nan,       nan, 0.8872702, 0.8872702, 0.8872702, 0.8872702]), 'split7_test_score': array([      nan,       nan, 0.8872702, 0.8872702, 0.8872702, 0.8872702,\n",
            "             nan,       nan, 0.8872702, 0.8872702, 0.8872702, 0.8872702,\n",
            "             nan,       nan, 0.8872702, 0.8872702, 0.8872702, 0.8872702,\n",
            "             nan,       nan, 0.8872702, 0.8872702, 0.8872702, 0.8872702,\n",
            "             nan,       nan, 0.8872702, 0.8872702, 0.8872702, 0.8872702,\n",
            "             nan,       nan, 0.8872702, 0.8872702, 0.8872702, 0.8872702,\n",
            "             nan,       nan, 0.8872702, 0.8872702, 0.8872702, 0.8872702]), 'split8_test_score': array([      nan,       nan, 0.8872702, 0.8872702, 0.8872702, 0.8872702,\n",
            "             nan,       nan, 0.8872702, 0.8872702, 0.8872702, 0.8872702,\n",
            "             nan,       nan, 0.8872702, 0.8872702, 0.8872702, 0.8872702,\n",
            "             nan,       nan, 0.8872702, 0.8872702, 0.8872702, 0.8872702,\n",
            "             nan,       nan, 0.8872702, 0.8872702, 0.8872702, 0.8872702,\n",
            "             nan,       nan, 0.8872702, 0.8872702, 0.8872702, 0.8872702,\n",
            "             nan,       nan, 0.8872702, 0.8872702, 0.8872702, 0.8872702]), 'split9_test_score': array([       nan,        nan, 0.8872702 , 0.88692334, 0.88692334,\n",
            "       0.88692334,        nan,        nan, 0.8872702 , 0.88692334,\n",
            "       0.88692334, 0.88692334,        nan,        nan, 0.88692334,\n",
            "       0.88692334, 0.88692334, 0.88692334,        nan,        nan,\n",
            "       0.88692334, 0.88692334, 0.88692334, 0.88692334,        nan,\n",
            "              nan, 0.88692334, 0.88692334, 0.88692334, 0.88692334,\n",
            "              nan,        nan, 0.88692334, 0.88692334, 0.88692334,\n",
            "       0.88692334,        nan,        nan, 0.88692334, 0.88692334,\n",
            "       0.88692334, 0.88692334]), 'mean_test_score': array([       nan,        nan, 0.88723944, 0.88720475, 0.88720475,\n",
            "       0.88720475,        nan,        nan, 0.88723944, 0.88720475,\n",
            "       0.88720475, 0.88720475,        nan,        nan, 0.88720475,\n",
            "       0.88720475, 0.88720475, 0.88720475,        nan,        nan,\n",
            "       0.88720475, 0.88720475, 0.88720475, 0.88720475,        nan,\n",
            "              nan, 0.88720475, 0.88720475, 0.88720475, 0.88720475,\n",
            "              nan,        nan, 0.88720475, 0.88720475, 0.88720475,\n",
            "       0.88720475,        nan,        nan, 0.88720475, 0.88720475,\n",
            "       0.88720475, 0.88720475]), 'std_test_score': array([           nan,            nan, 9.22957911e-05, 1.31195974e-04,\n",
            "       1.31195974e-04, 1.31195974e-04,            nan,            nan,\n",
            "       9.22957911e-05, 1.31195974e-04, 1.31195974e-04, 1.31195974e-04,\n",
            "                  nan,            nan, 1.31195974e-04, 1.31195974e-04,\n",
            "       1.31195974e-04, 1.31195974e-04,            nan,            nan,\n",
            "       1.31195974e-04, 1.31195974e-04, 1.31195974e-04, 1.31195974e-04,\n",
            "                  nan,            nan, 1.31195974e-04, 1.31195974e-04,\n",
            "       1.31195974e-04, 1.31195974e-04,            nan,            nan,\n",
            "       1.31195974e-04, 1.31195974e-04, 1.31195974e-04, 1.31195974e-04,\n",
            "                  nan,            nan, 1.31195974e-04, 1.31195974e-04,\n",
            "       1.31195974e-04, 1.31195974e-04]), 'rank_test_score': array([29, 29,  1,  3,  3,  3, 29, 29,  1,  3,  3,  3, 29, 29,  3,  3,  3,\n",
            "        3, 29, 29,  3,  3,  3,  3, 29, 29,  3,  3,  3,  3, 29, 29,  3,  3,\n",
            "        3,  3, 29, 29,  3,  3,  3,  3], dtype=int32)}\n",
            "Best parameters set:\n",
            "[('transformer', ColumnTransformer(remainder='passthrough',\n",
            "                  transformers=[('onehotencoder',\n",
            "                                 OneHotEncoder(handle_unknown='ignore'),\n",
            "                                 ['job', 'marital', 'education', 'default',\n",
            "                                  'contact']),\n",
            "                                ('ordinalencoder', OrdinalEncoder(),\n",
            "                                 ['housing', 'loan'])])), ('scale', StandardScaler(with_mean=False)), ('model', LogisticRegression(C=0.001, penalty='l1', solver='liblinear'))]\n",
            "Test accuracy: 0.888\n",
            "Best cross-validation score: 0.8872394393842521\n",
            "Test Score : 0.8875940762320952\n",
            "CPU times: user 1min 10s, sys: 270 ms, total: 1min 10s\n",
            "Wall time: 1min 22s\n"
          ]
        },
        {
          "output_type": "stream",
          "name": "stderr",
          "text": [
            "/usr/local/lib/python3.10/dist-packages/sklearn/model_selection/_validation.py:378: FitFailedWarning: \n",
            "140 fits failed out of a total of 420.\n",
            "The score on these train-test partitions for these parameters will be set to nan.\n",
            "If these failures are not expected, you can try to debug them by setting error_score='raise'.\n",
            "\n",
            "Below are more details about the failures:\n",
            "--------------------------------------------------------------------------------\n",
            "70 fits failed with the following error:\n",
            "Traceback (most recent call last):\n",
            "  File \"/usr/local/lib/python3.10/dist-packages/sklearn/model_selection/_validation.py\", line 686, in _fit_and_score\n",
            "    estimator.fit(X_train, y_train, **fit_params)\n",
            "  File \"/usr/local/lib/python3.10/dist-packages/sklearn/pipeline.py\", line 405, in fit\n",
            "    self._final_estimator.fit(Xt, y, **fit_params_last_step)\n",
            "  File \"/usr/local/lib/python3.10/dist-packages/sklearn/linear_model/_logistic.py\", line 1162, in fit\n",
            "    solver = _check_solver(self.solver, self.penalty, self.dual)\n",
            "  File \"/usr/local/lib/python3.10/dist-packages/sklearn/linear_model/_logistic.py\", line 54, in _check_solver\n",
            "    raise ValueError(\n",
            "ValueError: Solver newton-cg supports only 'l2' or 'none' penalties, got l1 penalty.\n",
            "\n",
            "--------------------------------------------------------------------------------\n",
            "70 fits failed with the following error:\n",
            "Traceback (most recent call last):\n",
            "  File \"/usr/local/lib/python3.10/dist-packages/sklearn/model_selection/_validation.py\", line 686, in _fit_and_score\n",
            "    estimator.fit(X_train, y_train, **fit_params)\n",
            "  File \"/usr/local/lib/python3.10/dist-packages/sklearn/pipeline.py\", line 405, in fit\n",
            "    self._final_estimator.fit(Xt, y, **fit_params_last_step)\n",
            "  File \"/usr/local/lib/python3.10/dist-packages/sklearn/linear_model/_logistic.py\", line 1162, in fit\n",
            "    solver = _check_solver(self.solver, self.penalty, self.dual)\n",
            "  File \"/usr/local/lib/python3.10/dist-packages/sklearn/linear_model/_logistic.py\", line 54, in _check_solver\n",
            "    raise ValueError(\n",
            "ValueError: Solver lbfgs supports only 'l2' or 'none' penalties, got l1 penalty.\n",
            "\n",
            "  warnings.warn(some_fits_failed_message, FitFailedWarning)\n",
            "/usr/local/lib/python3.10/dist-packages/sklearn/model_selection/_search.py:952: UserWarning: One or more of the test scores are non-finite: [       nan        nan 0.88723944 0.88720475 0.88720475 0.88720475\n",
            "        nan        nan 0.88723944 0.88720475 0.88720475 0.88720475\n",
            "        nan        nan 0.88720475 0.88720475 0.88720475 0.88720475\n",
            "        nan        nan 0.88720475 0.88720475 0.88720475 0.88720475\n",
            "        nan        nan 0.88720475 0.88720475 0.88720475 0.88720475\n",
            "        nan        nan 0.88720475 0.88720475 0.88720475 0.88720475\n",
            "        nan        nan 0.88720475 0.88720475 0.88720475 0.88720475]\n",
            "  warnings.warn(\n"
          ]
        }
      ],
      "source": [
        "%%time\n",
        "#Building a Logistic Regression  model\n",
        "\n",
        "# parameter grid\n",
        "parameters = {\n",
        "    'model__penalty' : ['l1','l2'],\n",
        "    'model__C'       : np.logspace(-3,3,7),\n",
        "    'model__solver'  : ['newton-cg', 'lbfgs', 'liblinear'],\n",
        "}\n",
        "\n",
        "#\n",
        "# Create an instance of GridSearch Cross-validation estimator\n",
        "#\n",
        "gsLR = GridSearchCV(estimator=lgr1_pipe,\n",
        "            param_grid=parameters,\n",
        "            scoring='accuracy',\n",
        "            cv=10)\n",
        "\n",
        "# Train the LogisticRegression Classifier\n",
        "#\n",
        "gsLR = gsLR.fit(X_train, y_train)\n",
        "gsLR_predicted = gsLR.predict(X_test)\n",
        "\n",
        "#\n",
        "# Print the training score of the best model\n",
        "#\n",
        "print('\\n Logistic Regression - Grid Search best score -')\n",
        "print(gsLR.best_score_)\n",
        "\n",
        "#\n",
        "# Print the model parameters of the best model\n",
        "#\n",
        "print('\\nGrid Search best parameters -')\n",
        "print(gsLR.best_params_)\n",
        "\n",
        "print('\\Grid Search CV Results -')\n",
        "print(gsLR.cv_results_)\n",
        "\n",
        "print(\"Best parameters set:\")\n",
        "print(gsLR.best_estimator_.steps)\n",
        "\n",
        "#\n",
        "# Print the test score of the best model\n",
        "#\n",
        "clfLR = gsLR.best_estimator_\n",
        "print('Test accuracy: %.3f' % clfLR.score(X_test, y_test))\n",
        "\n",
        "print(\"Best cross-validation score:\", gsLR.best_score_)\n",
        "\n",
        "score = gsLR.score(X_test, y_test)\n",
        "print(\"Test Score :\", score)"
      ]
    },
    {
      "cell_type": "code",
      "execution_count": 49,
      "metadata": {
        "colab": {
          "base_uri": "https://localhost:8080/"
        },
        "id": "0o7taOaPSTgO",
        "outputId": "706860cb-85d7-493e-86a1-7e060cf9de10"
      },
      "outputs": [
        {
          "output_type": "execute_result",
          "data": {
            "text/plain": [
              "dict_keys(['memory', 'steps', 'verbose', 'transformer', 'scale', 'model', 'transformer__n_jobs', 'transformer__remainder', 'transformer__sparse_threshold', 'transformer__transformer_weights', 'transformer__transformers', 'transformer__verbose', 'transformer__verbose_feature_names_out', 'transformer__onehotencoder', 'transformer__ordinalencoder', 'transformer__onehotencoder__categories', 'transformer__onehotencoder__drop', 'transformer__onehotencoder__dtype', 'transformer__onehotencoder__handle_unknown', 'transformer__onehotencoder__max_categories', 'transformer__onehotencoder__min_frequency', 'transformer__onehotencoder__sparse', 'transformer__onehotencoder__sparse_output', 'transformer__ordinalencoder__categories', 'transformer__ordinalencoder__dtype', 'transformer__ordinalencoder__encoded_missing_value', 'transformer__ordinalencoder__handle_unknown', 'transformer__ordinalencoder__unknown_value', 'scale__copy', 'scale__with_mean', 'scale__with_std', 'model__algorithm', 'model__leaf_size', 'model__metric', 'model__metric_params', 'model__n_jobs', 'model__n_neighbors', 'model__p', 'model__weights'])"
            ]
          },
          "metadata": {},
          "execution_count": 49
        }
      ],
      "source": [
        "#Looking up parameters that can be passed to the pipeline\n",
        "knn_pipe.get_params().keys()"
      ]
    },
    {
      "cell_type": "code",
      "execution_count": 50,
      "metadata": {
        "colab": {
          "base_uri": "https://localhost:8080/"
        },
        "id": "0wzVWHMfSTgP",
        "outputId": "c1a6b0c3-9363-4868-d8b0-4dd803b26d4f"
      },
      "outputs": [
        {
          "output_type": "stream",
          "name": "stdout",
          "text": [
            "\n",
            "K Nearest Neighbor - Grid Search best score -\n",
            "0.8857825754590856\n",
            "\n",
            "Grid Search best parameters -\n",
            "{'model__n_neighbors': 15}\n",
            "\\Grid Search CV Results -\n",
            "{'mean_fit_time': array([0.06329947, 0.06548369, 0.06121361, 0.06367352, 0.07704132,\n",
            "       0.06377037, 0.06051791, 0.06478391, 0.06341708]), 'std_fit_time': array([0.00757879, 0.01175024, 0.00319608, 0.01180044, 0.04100765,\n",
            "       0.0101567 , 0.00220329, 0.01149127, 0.01048679]), 'mean_score_time': array([3.07238605, 3.11468945, 3.09114044, 3.07583189, 3.04051838,\n",
            "       3.1134269 , 3.07686529, 3.12642221, 3.05108337]), 'std_score_time': array([0.19968987, 0.24447711, 0.24075528, 0.26944631, 0.20846681,\n",
            "       0.21980002, 0.24996405, 0.23395867, 0.16981158]), 'param_model__n_neighbors': masked_array(data=[1, 3, 5, 7, 9, 11, 13, 15, 17],\n",
            "             mask=[False, False, False, False, False, False, False, False,\n",
            "                   False],\n",
            "       fill_value='?',\n",
            "            dtype=object), 'params': [{'model__n_neighbors': 1}, {'model__n_neighbors': 3}, {'model__n_neighbors': 5}, {'model__n_neighbors': 7}, {'model__n_neighbors': 9}, {'model__n_neighbors': 11}, {'model__n_neighbors': 13}, {'model__n_neighbors': 15}, {'model__n_neighbors': 17}], 'split0_test_score': array([0.80409154, 0.86893204, 0.88384189, 0.87760055, 0.8779473 ,\n",
            "       0.88696255, 0.88661581, 0.88834951, 0.88834951]), 'split1_test_score': array([0.82830385, 0.87166146, 0.87721124, 0.88102671, 0.88206729,\n",
            "       0.88276101, 0.88414846, 0.88414846, 0.88449532]), 'split2_test_score': array([0.83558793, 0.86853972, 0.87651752, 0.87894554, 0.87998613,\n",
            "       0.8792924 , 0.88206729, 0.88276101, 0.88310787]), 'split3_test_score': array([0.83593479, 0.86923344, 0.88172043, 0.88310787, 0.88622962,\n",
            "       0.8872702 , 0.8872702 , 0.88831079, 0.88900451]), 'split4_test_score': array([0.84079084, 0.87582379, 0.88588276, 0.88449532, 0.88518904,\n",
            "       0.88588276, 0.88692334, 0.88761707, 0.8872702 ]), 'split5_test_score': array([0.83975026, 0.87235519, 0.88345473, 0.88276101, 0.88345473,\n",
            "       0.88310787, 0.88449532, 0.88588276, 0.8855359 ]), 'split6_test_score': array([0.82934443, 0.86819285, 0.88172043, 0.88172043, 0.88206729,\n",
            "       0.88137357, 0.88449532, 0.88276101, 0.88206729]), 'split7_test_score': array([0.84009712, 0.87651752, 0.88137357, 0.88622962, 0.88900451,\n",
            "       0.88692334, 0.88622962, 0.88622962, 0.8855359 ]), 'split8_test_score': array([0.83628165, 0.87478321, 0.88206729, 0.88345473, 0.88518904,\n",
            "       0.88345473, 0.88692334, 0.88657648, 0.88622962]), 'split9_test_score': array([0.83281304, 0.86888658, 0.87894554, 0.88172043, 0.87859868,\n",
            "       0.88206729, 0.88484218, 0.88518904, 0.88588276]), 'mean_test_score': array([0.83229955, 0.87149258, 0.88127354, 0.88210622, 0.88297336,\n",
            "       0.88390957, 0.88540109, 0.88578258, 0.88574789]), 'std_test_score': array([0.01024186, 0.00306054, 0.00279607, 0.00240239, 0.00334653,\n",
            "       0.00258656, 0.00157882, 0.00196135, 0.00205224]), 'rank_test_score': array([9, 8, 7, 6, 5, 4, 3, 1, 2], dtype=int32)}\n",
            "Best parameters set:\n",
            "[('transformer', ColumnTransformer(remainder='passthrough',\n",
            "                  transformers=[('onehotencoder',\n",
            "                                 OneHotEncoder(handle_unknown='ignore'),\n",
            "                                 ['job', 'marital', 'education', 'default',\n",
            "                                  'contact']),\n",
            "                                ('ordinalencoder', OrdinalEncoder(),\n",
            "                                 ['housing', 'loan'])])), ('scale', StandardScaler(with_mean=False)), ('model', KNeighborsClassifier(n_neighbors=15))]\n",
            "Test accuracy: 0.887\n",
            "Best cross-validation score: 0.8857825754590856\n",
            "Test Score : 0.8867038925305495\n",
            "CPU times: user 9min 41s, sys: 653 ms, total: 9min 42s\n",
            "Wall time: 5min 28s\n"
          ]
        }
      ],
      "source": [
        "%%time\n",
        "#Building a KNN Grid Search\n",
        "\n",
        "# parameter grid\n",
        "param_grid = {\"model__n_neighbors\": range(1, 18, 2)}\n",
        "\n",
        "# Perform grid search with cross-validation\n",
        "gsknn = GridSearchCV(knn_pipe, param_grid, cv=10, scoring='accuracy')\n",
        "gsknn.fit(X_train, y_train)\n",
        "\n",
        "gsknn_predicted = gsknn.predict(X_test)\n",
        "\n",
        "#\n",
        "# Print the training score of the best model\n",
        "#\n",
        "print('\\nK Nearest Neighbor - Grid Search best score -')\n",
        "print(gsknn.best_score_)\n",
        "\n",
        "#\n",
        "# Print the model parameters of the best model\n",
        "#\n",
        "print('\\nGrid Search best parameters -')\n",
        "print(gsknn.best_params_)\n",
        "\n",
        "print('\\Grid Search CV Results -')\n",
        "print(gsknn.cv_results_)\n",
        "\n",
        "print(\"Best parameters set:\")\n",
        "print(gsknn.best_estimator_.steps)\n",
        "\n",
        "#\n",
        "# Print the test score of the best model\n",
        "#\n",
        "clfknn = gsknn.best_estimator_\n",
        "print('Test accuracy: %.3f' % clfknn.score(X_test, y_test))\n",
        "\n",
        "print(\"Best cross-validation score:\", gsknn.best_score_)\n",
        "\n",
        "scoreknn = gsknn.score(X_test, y_test)\n",
        "print(\"Test Score :\", scoreknn)\n"
      ]
    },
    {
      "cell_type": "code",
      "execution_count": 51,
      "metadata": {
        "colab": {
          "base_uri": "https://localhost:8080/"
        },
        "id": "emWIaTp9STgQ",
        "outputId": "63fe6266-e56a-4c0a-cf91-c86b5ddb0f84"
      },
      "outputs": [
        {
          "output_type": "execute_result",
          "data": {
            "text/plain": [
              "dict_keys(['memory', 'steps', 'verbose', 'transformer', 'scale', 'model', 'transformer__n_jobs', 'transformer__remainder', 'transformer__sparse_threshold', 'transformer__transformer_weights', 'transformer__transformers', 'transformer__verbose', 'transformer__verbose_feature_names_out', 'transformer__onehotencoder', 'transformer__ordinalencoder', 'transformer__onehotencoder__categories', 'transformer__onehotencoder__drop', 'transformer__onehotencoder__dtype', 'transformer__onehotencoder__handle_unknown', 'transformer__onehotencoder__max_categories', 'transformer__onehotencoder__min_frequency', 'transformer__onehotencoder__sparse', 'transformer__onehotencoder__sparse_output', 'transformer__ordinalencoder__categories', 'transformer__ordinalencoder__dtype', 'transformer__ordinalencoder__encoded_missing_value', 'transformer__ordinalencoder__handle_unknown', 'transformer__ordinalencoder__unknown_value', 'scale__copy', 'scale__with_mean', 'scale__with_std', 'model__ccp_alpha', 'model__class_weight', 'model__criterion', 'model__max_depth', 'model__max_features', 'model__max_leaf_nodes', 'model__min_impurity_decrease', 'model__min_samples_leaf', 'model__min_samples_split', 'model__min_weight_fraction_leaf', 'model__random_state', 'model__splitter'])"
            ]
          },
          "metadata": {},
          "execution_count": 51
        }
      ],
      "source": [
        "#Looking up parameters that can be passed to the pipeline\n",
        "dtc1_pipe.get_params().keys()"
      ]
    },
    {
      "cell_type": "code",
      "execution_count": 52,
      "metadata": {
        "colab": {
          "base_uri": "https://localhost:8080/"
        },
        "id": "a625rOLoSTgQ",
        "outputId": "2ae5a969-98c7-4668-c818-c8f5356670b8"
      },
      "outputs": [
        {
          "output_type": "stream",
          "name": "stdout",
          "text": [
            "Fitting 10 folds for each of 18 candidates, totalling 180 fits\n",
            "[CV] END model__criterion=entropy, model__max_depth=1, model__min_samples_leaf=1; total time=   0.1s\n",
            "[CV] END model__criterion=entropy, model__max_depth=1, model__min_samples_leaf=1; total time=   0.1s\n",
            "[CV] END model__criterion=entropy, model__max_depth=1, model__min_samples_leaf=1; total time=   0.1s\n",
            "[CV] END model__criterion=entropy, model__max_depth=1, model__min_samples_leaf=1; total time=   0.1s\n",
            "[CV] END model__criterion=entropy, model__max_depth=1, model__min_samples_leaf=1; total time=   0.1s\n",
            "[CV] END model__criterion=entropy, model__max_depth=1, model__min_samples_leaf=1; total time=   0.1s\n",
            "[CV] END model__criterion=entropy, model__max_depth=1, model__min_samples_leaf=1; total time=   0.1s\n",
            "[CV] END model__criterion=entropy, model__max_depth=1, model__min_samples_leaf=1; total time=   0.1s\n",
            "[CV] END model__criterion=entropy, model__max_depth=1, model__min_samples_leaf=1; total time=   0.1s\n",
            "[CV] END model__criterion=entropy, model__max_depth=1, model__min_samples_leaf=1; total time=   0.1s\n",
            "[CV] END model__criterion=entropy, model__max_depth=1, model__min_samples_leaf=2; total time=   0.1s\n",
            "[CV] END model__criterion=entropy, model__max_depth=1, model__min_samples_leaf=2; total time=   0.1s\n",
            "[CV] END model__criterion=entropy, model__max_depth=1, model__min_samples_leaf=2; total time=   0.1s\n",
            "[CV] END model__criterion=entropy, model__max_depth=1, model__min_samples_leaf=2; total time=   0.1s\n",
            "[CV] END model__criterion=entropy, model__max_depth=1, model__min_samples_leaf=2; total time=   0.1s\n",
            "[CV] END model__criterion=entropy, model__max_depth=1, model__min_samples_leaf=2; total time=   0.1s\n",
            "[CV] END model__criterion=entropy, model__max_depth=1, model__min_samples_leaf=2; total time=   0.1s\n",
            "[CV] END model__criterion=entropy, model__max_depth=1, model__min_samples_leaf=2; total time=   0.1s\n",
            "[CV] END model__criterion=entropy, model__max_depth=1, model__min_samples_leaf=2; total time=   0.1s\n",
            "[CV] END model__criterion=entropy, model__max_depth=1, model__min_samples_leaf=2; total time=   0.1s\n",
            "[CV] END model__criterion=entropy, model__max_depth=1, model__min_samples_leaf=3; total time=   0.1s\n",
            "[CV] END model__criterion=entropy, model__max_depth=1, model__min_samples_leaf=3; total time=   0.1s\n",
            "[CV] END model__criterion=entropy, model__max_depth=1, model__min_samples_leaf=3; total time=   0.1s\n",
            "[CV] END model__criterion=entropy, model__max_depth=1, model__min_samples_leaf=3; total time=   0.1s\n",
            "[CV] END model__criterion=entropy, model__max_depth=1, model__min_samples_leaf=3; total time=   0.1s\n",
            "[CV] END model__criterion=entropy, model__max_depth=1, model__min_samples_leaf=3; total time=   0.1s\n",
            "[CV] END model__criterion=entropy, model__max_depth=1, model__min_samples_leaf=3; total time=   0.1s\n",
            "[CV] END model__criterion=entropy, model__max_depth=1, model__min_samples_leaf=3; total time=   0.1s\n",
            "[CV] END model__criterion=entropy, model__max_depth=1, model__min_samples_leaf=3; total time=   0.1s\n",
            "[CV] END model__criterion=entropy, model__max_depth=1, model__min_samples_leaf=3; total time=   0.1s\n",
            "[CV] END model__criterion=entropy, model__max_depth=2, model__min_samples_leaf=1; total time=   0.1s\n",
            "[CV] END model__criterion=entropy, model__max_depth=2, model__min_samples_leaf=1; total time=   0.1s\n",
            "[CV] END model__criterion=entropy, model__max_depth=2, model__min_samples_leaf=1; total time=   0.1s\n",
            "[CV] END model__criterion=entropy, model__max_depth=2, model__min_samples_leaf=1; total time=   0.1s\n",
            "[CV] END model__criterion=entropy, model__max_depth=2, model__min_samples_leaf=1; total time=   0.1s\n",
            "[CV] END model__criterion=entropy, model__max_depth=2, model__min_samples_leaf=1; total time=   0.1s\n",
            "[CV] END model__criterion=entropy, model__max_depth=2, model__min_samples_leaf=1; total time=   0.1s\n",
            "[CV] END model__criterion=entropy, model__max_depth=2, model__min_samples_leaf=1; total time=   0.1s\n",
            "[CV] END model__criterion=entropy, model__max_depth=2, model__min_samples_leaf=1; total time=   0.1s\n",
            "[CV] END model__criterion=entropy, model__max_depth=2, model__min_samples_leaf=1; total time=   0.1s\n",
            "[CV] END model__criterion=entropy, model__max_depth=2, model__min_samples_leaf=2; total time=   0.1s\n",
            "[CV] END model__criterion=entropy, model__max_depth=2, model__min_samples_leaf=2; total time=   0.1s\n",
            "[CV] END model__criterion=entropy, model__max_depth=2, model__min_samples_leaf=2; total time=   0.1s\n",
            "[CV] END model__criterion=entropy, model__max_depth=2, model__min_samples_leaf=2; total time=   0.1s\n",
            "[CV] END model__criterion=entropy, model__max_depth=2, model__min_samples_leaf=2; total time=   0.1s\n",
            "[CV] END model__criterion=entropy, model__max_depth=2, model__min_samples_leaf=2; total time=   0.1s\n",
            "[CV] END model__criterion=entropy, model__max_depth=2, model__min_samples_leaf=2; total time=   0.1s\n",
            "[CV] END model__criterion=entropy, model__max_depth=2, model__min_samples_leaf=2; total time=   0.1s\n",
            "[CV] END model__criterion=entropy, model__max_depth=2, model__min_samples_leaf=2; total time=   0.1s\n",
            "[CV] END model__criterion=entropy, model__max_depth=2, model__min_samples_leaf=2; total time=   0.1s\n",
            "[CV] END model__criterion=entropy, model__max_depth=2, model__min_samples_leaf=3; total time=   0.1s\n",
            "[CV] END model__criterion=entropy, model__max_depth=2, model__min_samples_leaf=3; total time=   0.1s\n",
            "[CV] END model__criterion=entropy, model__max_depth=2, model__min_samples_leaf=3; total time=   0.1s\n",
            "[CV] END model__criterion=entropy, model__max_depth=2, model__min_samples_leaf=3; total time=   0.1s\n",
            "[CV] END model__criterion=entropy, model__max_depth=2, model__min_samples_leaf=3; total time=   0.1s\n",
            "[CV] END model__criterion=entropy, model__max_depth=2, model__min_samples_leaf=3; total time=   0.1s\n",
            "[CV] END model__criterion=entropy, model__max_depth=2, model__min_samples_leaf=3; total time=   0.1s\n",
            "[CV] END model__criterion=entropy, model__max_depth=2, model__min_samples_leaf=3; total time=   0.1s\n",
            "[CV] END model__criterion=entropy, model__max_depth=2, model__min_samples_leaf=3; total time=   0.1s\n",
            "[CV] END model__criterion=entropy, model__max_depth=2, model__min_samples_leaf=3; total time=   0.1s\n",
            "[CV] END model__criterion=entropy, model__max_depth=3, model__min_samples_leaf=1; total time=   0.1s\n",
            "[CV] END model__criterion=entropy, model__max_depth=3, model__min_samples_leaf=1; total time=   0.1s\n",
            "[CV] END model__criterion=entropy, model__max_depth=3, model__min_samples_leaf=1; total time=   0.1s\n",
            "[CV] END model__criterion=entropy, model__max_depth=3, model__min_samples_leaf=1; total time=   0.1s\n",
            "[CV] END model__criterion=entropy, model__max_depth=3, model__min_samples_leaf=1; total time=   0.1s\n",
            "[CV] END model__criterion=entropy, model__max_depth=3, model__min_samples_leaf=1; total time=   0.1s\n",
            "[CV] END model__criterion=entropy, model__max_depth=3, model__min_samples_leaf=1; total time=   0.1s\n",
            "[CV] END model__criterion=entropy, model__max_depth=3, model__min_samples_leaf=1; total time=   0.1s\n",
            "[CV] END model__criterion=entropy, model__max_depth=3, model__min_samples_leaf=1; total time=   0.1s\n",
            "[CV] END model__criterion=entropy, model__max_depth=3, model__min_samples_leaf=1; total time=   0.1s\n",
            "[CV] END model__criterion=entropy, model__max_depth=3, model__min_samples_leaf=2; total time=   0.1s\n",
            "[CV] END model__criterion=entropy, model__max_depth=3, model__min_samples_leaf=2; total time=   0.1s\n",
            "[CV] END model__criterion=entropy, model__max_depth=3, model__min_samples_leaf=2; total time=   0.1s\n",
            "[CV] END model__criterion=entropy, model__max_depth=3, model__min_samples_leaf=2; total time=   0.1s\n",
            "[CV] END model__criterion=entropy, model__max_depth=3, model__min_samples_leaf=2; total time=   0.1s\n",
            "[CV] END model__criterion=entropy, model__max_depth=3, model__min_samples_leaf=2; total time=   0.1s\n",
            "[CV] END model__criterion=entropy, model__max_depth=3, model__min_samples_leaf=2; total time=   0.1s\n",
            "[CV] END model__criterion=entropy, model__max_depth=3, model__min_samples_leaf=2; total time=   0.1s\n",
            "[CV] END model__criterion=entropy, model__max_depth=3, model__min_samples_leaf=2; total time=   0.1s\n",
            "[CV] END model__criterion=entropy, model__max_depth=3, model__min_samples_leaf=2; total time=   0.1s\n",
            "[CV] END model__criterion=entropy, model__max_depth=3, model__min_samples_leaf=3; total time=   0.1s\n",
            "[CV] END model__criterion=entropy, model__max_depth=3, model__min_samples_leaf=3; total time=   0.1s\n",
            "[CV] END model__criterion=entropy, model__max_depth=3, model__min_samples_leaf=3; total time=   0.1s\n",
            "[CV] END model__criterion=entropy, model__max_depth=3, model__min_samples_leaf=3; total time=   0.1s\n",
            "[CV] END model__criterion=entropy, model__max_depth=3, model__min_samples_leaf=3; total time=   0.1s\n",
            "[CV] END model__criterion=entropy, model__max_depth=3, model__min_samples_leaf=3; total time=   0.1s\n",
            "[CV] END model__criterion=entropy, model__max_depth=3, model__min_samples_leaf=3; total time=   0.1s\n",
            "[CV] END model__criterion=entropy, model__max_depth=3, model__min_samples_leaf=3; total time=   0.1s\n",
            "[CV] END model__criterion=entropy, model__max_depth=3, model__min_samples_leaf=3; total time=   0.1s\n",
            "[CV] END model__criterion=entropy, model__max_depth=3, model__min_samples_leaf=3; total time=   0.1s\n",
            "[CV] END model__criterion=gini, model__max_depth=1, model__min_samples_leaf=1; total time=   0.1s\n",
            "[CV] END model__criterion=gini, model__max_depth=1, model__min_samples_leaf=1; total time=   0.1s\n",
            "[CV] END model__criterion=gini, model__max_depth=1, model__min_samples_leaf=1; total time=   0.1s\n",
            "[CV] END model__criterion=gini, model__max_depth=1, model__min_samples_leaf=1; total time=   0.1s\n",
            "[CV] END model__criterion=gini, model__max_depth=1, model__min_samples_leaf=1; total time=   0.1s\n",
            "[CV] END model__criterion=gini, model__max_depth=1, model__min_samples_leaf=1; total time=   0.1s\n",
            "[CV] END model__criterion=gini, model__max_depth=1, model__min_samples_leaf=1; total time=   0.1s\n",
            "[CV] END model__criterion=gini, model__max_depth=1, model__min_samples_leaf=1; total time=   0.1s\n",
            "[CV] END model__criterion=gini, model__max_depth=1, model__min_samples_leaf=1; total time=   0.1s\n",
            "[CV] END model__criterion=gini, model__max_depth=1, model__min_samples_leaf=1; total time=   0.1s\n",
            "[CV] END model__criterion=gini, model__max_depth=1, model__min_samples_leaf=2; total time=   0.1s\n",
            "[CV] END model__criterion=gini, model__max_depth=1, model__min_samples_leaf=2; total time=   0.1s\n",
            "[CV] END model__criterion=gini, model__max_depth=1, model__min_samples_leaf=2; total time=   0.1s\n",
            "[CV] END model__criterion=gini, model__max_depth=1, model__min_samples_leaf=2; total time=   0.1s\n",
            "[CV] END model__criterion=gini, model__max_depth=1, model__min_samples_leaf=2; total time=   0.1s\n",
            "[CV] END model__criterion=gini, model__max_depth=1, model__min_samples_leaf=2; total time=   0.1s\n",
            "[CV] END model__criterion=gini, model__max_depth=1, model__min_samples_leaf=2; total time=   0.1s\n",
            "[CV] END model__criterion=gini, model__max_depth=1, model__min_samples_leaf=2; total time=   0.1s\n",
            "[CV] END model__criterion=gini, model__max_depth=1, model__min_samples_leaf=2; total time=   0.1s\n",
            "[CV] END model__criterion=gini, model__max_depth=1, model__min_samples_leaf=2; total time=   0.1s\n",
            "[CV] END model__criterion=gini, model__max_depth=1, model__min_samples_leaf=3; total time=   0.1s\n",
            "[CV] END model__criterion=gini, model__max_depth=1, model__min_samples_leaf=3; total time=   0.1s\n",
            "[CV] END model__criterion=gini, model__max_depth=1, model__min_samples_leaf=3; total time=   0.1s\n",
            "[CV] END model__criterion=gini, model__max_depth=1, model__min_samples_leaf=3; total time=   0.1s\n",
            "[CV] END model__criterion=gini, model__max_depth=1, model__min_samples_leaf=3; total time=   0.1s\n",
            "[CV] END model__criterion=gini, model__max_depth=1, model__min_samples_leaf=3; total time=   0.1s\n",
            "[CV] END model__criterion=gini, model__max_depth=1, model__min_samples_leaf=3; total time=   0.1s\n",
            "[CV] END model__criterion=gini, model__max_depth=1, model__min_samples_leaf=3; total time=   0.1s\n",
            "[CV] END model__criterion=gini, model__max_depth=1, model__min_samples_leaf=3; total time=   0.1s\n",
            "[CV] END model__criterion=gini, model__max_depth=1, model__min_samples_leaf=3; total time=   0.1s\n",
            "[CV] END model__criterion=gini, model__max_depth=2, model__min_samples_leaf=1; total time=   0.1s\n",
            "[CV] END model__criterion=gini, model__max_depth=2, model__min_samples_leaf=1; total time=   0.1s\n",
            "[CV] END model__criterion=gini, model__max_depth=2, model__min_samples_leaf=1; total time=   0.1s\n",
            "[CV] END model__criterion=gini, model__max_depth=2, model__min_samples_leaf=1; total time=   0.1s\n",
            "[CV] END model__criterion=gini, model__max_depth=2, model__min_samples_leaf=1; total time=   0.1s\n",
            "[CV] END model__criterion=gini, model__max_depth=2, model__min_samples_leaf=1; total time=   0.1s\n",
            "[CV] END model__criterion=gini, model__max_depth=2, model__min_samples_leaf=1; total time=   0.1s\n",
            "[CV] END model__criterion=gini, model__max_depth=2, model__min_samples_leaf=1; total time=   0.1s\n",
            "[CV] END model__criterion=gini, model__max_depth=2, model__min_samples_leaf=1; total time=   0.1s\n",
            "[CV] END model__criterion=gini, model__max_depth=2, model__min_samples_leaf=1; total time=   0.1s\n",
            "[CV] END model__criterion=gini, model__max_depth=2, model__min_samples_leaf=2; total time=   0.1s\n",
            "[CV] END model__criterion=gini, model__max_depth=2, model__min_samples_leaf=2; total time=   0.1s\n",
            "[CV] END model__criterion=gini, model__max_depth=2, model__min_samples_leaf=2; total time=   0.1s\n",
            "[CV] END model__criterion=gini, model__max_depth=2, model__min_samples_leaf=2; total time=   0.1s\n",
            "[CV] END model__criterion=gini, model__max_depth=2, model__min_samples_leaf=2; total time=   0.1s\n",
            "[CV] END model__criterion=gini, model__max_depth=2, model__min_samples_leaf=2; total time=   0.1s\n",
            "[CV] END model__criterion=gini, model__max_depth=2, model__min_samples_leaf=2; total time=   0.1s\n",
            "[CV] END model__criterion=gini, model__max_depth=2, model__min_samples_leaf=2; total time=   0.1s\n",
            "[CV] END model__criterion=gini, model__max_depth=2, model__min_samples_leaf=2; total time=   0.1s\n",
            "[CV] END model__criterion=gini, model__max_depth=2, model__min_samples_leaf=2; total time=   0.1s\n",
            "[CV] END model__criterion=gini, model__max_depth=2, model__min_samples_leaf=3; total time=   0.1s\n",
            "[CV] END model__criterion=gini, model__max_depth=2, model__min_samples_leaf=3; total time=   0.1s\n",
            "[CV] END model__criterion=gini, model__max_depth=2, model__min_samples_leaf=3; total time=   0.1s\n",
            "[CV] END model__criterion=gini, model__max_depth=2, model__min_samples_leaf=3; total time=   0.1s\n",
            "[CV] END model__criterion=gini, model__max_depth=2, model__min_samples_leaf=3; total time=   0.1s\n",
            "[CV] END model__criterion=gini, model__max_depth=2, model__min_samples_leaf=3; total time=   0.1s\n",
            "[CV] END model__criterion=gini, model__max_depth=2, model__min_samples_leaf=3; total time=   0.1s\n",
            "[CV] END model__criterion=gini, model__max_depth=2, model__min_samples_leaf=3; total time=   0.1s\n",
            "[CV] END model__criterion=gini, model__max_depth=2, model__min_samples_leaf=3; total time=   0.1s\n",
            "[CV] END model__criterion=gini, model__max_depth=2, model__min_samples_leaf=3; total time=   0.1s\n",
            "[CV] END model__criterion=gini, model__max_depth=3, model__min_samples_leaf=1; total time=   0.1s\n",
            "[CV] END model__criterion=gini, model__max_depth=3, model__min_samples_leaf=1; total time=   0.1s\n",
            "[CV] END model__criterion=gini, model__max_depth=3, model__min_samples_leaf=1; total time=   0.1s\n",
            "[CV] END model__criterion=gini, model__max_depth=3, model__min_samples_leaf=1; total time=   0.1s\n",
            "[CV] END model__criterion=gini, model__max_depth=3, model__min_samples_leaf=1; total time=   0.1s\n",
            "[CV] END model__criterion=gini, model__max_depth=3, model__min_samples_leaf=1; total time=   0.1s\n",
            "[CV] END model__criterion=gini, model__max_depth=3, model__min_samples_leaf=1; total time=   0.1s\n",
            "[CV] END model__criterion=gini, model__max_depth=3, model__min_samples_leaf=1; total time=   0.1s\n",
            "[CV] END model__criterion=gini, model__max_depth=3, model__min_samples_leaf=1; total time=   0.1s\n",
            "[CV] END model__criterion=gini, model__max_depth=3, model__min_samples_leaf=1; total time=   0.1s\n",
            "[CV] END model__criterion=gini, model__max_depth=3, model__min_samples_leaf=2; total time=   0.1s\n",
            "[CV] END model__criterion=gini, model__max_depth=3, model__min_samples_leaf=2; total time=   0.1s\n",
            "[CV] END model__criterion=gini, model__max_depth=3, model__min_samples_leaf=2; total time=   0.1s\n",
            "[CV] END model__criterion=gini, model__max_depth=3, model__min_samples_leaf=2; total time=   0.1s\n",
            "[CV] END model__criterion=gini, model__max_depth=3, model__min_samples_leaf=2; total time=   0.1s\n",
            "[CV] END model__criterion=gini, model__max_depth=3, model__min_samples_leaf=2; total time=   0.1s\n",
            "[CV] END model__criterion=gini, model__max_depth=3, model__min_samples_leaf=2; total time=   0.1s\n",
            "[CV] END model__criterion=gini, model__max_depth=3, model__min_samples_leaf=2; total time=   0.1s\n",
            "[CV] END model__criterion=gini, model__max_depth=3, model__min_samples_leaf=2; total time=   0.1s\n",
            "[CV] END model__criterion=gini, model__max_depth=3, model__min_samples_leaf=2; total time=   0.1s\n",
            "[CV] END model__criterion=gini, model__max_depth=3, model__min_samples_leaf=3; total time=   0.1s\n",
            "[CV] END model__criterion=gini, model__max_depth=3, model__min_samples_leaf=3; total time=   0.1s\n",
            "[CV] END model__criterion=gini, model__max_depth=3, model__min_samples_leaf=3; total time=   0.1s\n",
            "[CV] END model__criterion=gini, model__max_depth=3, model__min_samples_leaf=3; total time=   0.1s\n",
            "[CV] END model__criterion=gini, model__max_depth=3, model__min_samples_leaf=3; total time=   0.1s\n",
            "[CV] END model__criterion=gini, model__max_depth=3, model__min_samples_leaf=3; total time=   0.1s\n",
            "[CV] END model__criterion=gini, model__max_depth=3, model__min_samples_leaf=3; total time=   0.1s\n",
            "[CV] END model__criterion=gini, model__max_depth=3, model__min_samples_leaf=3; total time=   0.1s\n",
            "[CV] END model__criterion=gini, model__max_depth=3, model__min_samples_leaf=3; total time=   0.1s\n",
            "[CV] END model__criterion=gini, model__max_depth=3, model__min_samples_leaf=3; total time=   0.1s\n",
            "\n",
            "Decision Tree Classifier - Grid Search best score -\n",
            "0.8872394393842521\n",
            "\n",
            "Grid Search best parameters -\n",
            "{'model__criterion': 'entropy', 'model__max_depth': 1, 'model__min_samples_leaf': 1}\n",
            "\\Grid Search CV Results -\n",
            "{'mean_fit_time': array([0.06616099, 0.06617105, 0.09800277, 0.06906431, 0.07001278,\n",
            "       0.06787574, 0.07203598, 0.07239606, 0.07255683, 0.06569796,\n",
            "       0.06659694, 0.06517136, 0.06960998, 0.06933498, 0.06954303,\n",
            "       0.10179145, 0.07535348, 0.07287383]), 'std_fit_time': array([0.00148881, 0.00295734, 0.00763409, 0.0033989 , 0.00299484,\n",
            "       0.00212915, 0.00304784, 0.00424221, 0.00302494, 0.00280048,\n",
            "       0.00178971, 0.00213127, 0.00330015, 0.00325232, 0.00282505,\n",
            "       0.01664262, 0.01050419, 0.00442942]), 'mean_score_time': array([0.01194167, 0.01125193, 0.01592636, 0.01182334, 0.01136003,\n",
            "       0.01096406, 0.01080356, 0.01127057, 0.01142645, 0.01082029,\n",
            "       0.01158111, 0.01139243, 0.01128151, 0.0117449 , 0.01159363,\n",
            "       0.01628897, 0.01170077, 0.01151321]), 'std_score_time': array([0.00125019, 0.00081547, 0.00187968, 0.00104064, 0.00093702,\n",
            "       0.0002746 , 0.00022955, 0.00053944, 0.00092557, 0.00031709,\n",
            "       0.00096892, 0.00175265, 0.00041866, 0.00174836, 0.00092786,\n",
            "       0.00225009, 0.00100148, 0.00090634]), 'param_model__criterion': masked_array(data=['entropy', 'entropy', 'entropy', 'entropy', 'entropy',\n",
            "                   'entropy', 'entropy', 'entropy', 'entropy', 'gini',\n",
            "                   'gini', 'gini', 'gini', 'gini', 'gini', 'gini', 'gini',\n",
            "                   'gini'],\n",
            "             mask=[False, False, False, False, False, False, False, False,\n",
            "                   False, False, False, False, False, False, False, False,\n",
            "                   False, False],\n",
            "       fill_value='?',\n",
            "            dtype=object), 'param_model__max_depth': masked_array(data=[1, 1, 1, 2, 2, 2, 3, 3, 3, 1, 1, 1, 2, 2, 2, 3, 3, 3],\n",
            "             mask=[False, False, False, False, False, False, False, False,\n",
            "                   False, False, False, False, False, False, False, False,\n",
            "                   False, False],\n",
            "       fill_value='?',\n",
            "            dtype=object), 'param_model__min_samples_leaf': masked_array(data=[1, 2, 3, 1, 2, 3, 1, 2, 3, 1, 2, 3, 1, 2, 3, 1, 2, 3],\n",
            "             mask=[False, False, False, False, False, False, False, False,\n",
            "                   False, False, False, False, False, False, False, False,\n",
            "                   False, False],\n",
            "       fill_value='?',\n",
            "            dtype=object), 'params': [{'model__criterion': 'entropy', 'model__max_depth': 1, 'model__min_samples_leaf': 1}, {'model__criterion': 'entropy', 'model__max_depth': 1, 'model__min_samples_leaf': 2}, {'model__criterion': 'entropy', 'model__max_depth': 1, 'model__min_samples_leaf': 3}, {'model__criterion': 'entropy', 'model__max_depth': 2, 'model__min_samples_leaf': 1}, {'model__criterion': 'entropy', 'model__max_depth': 2, 'model__min_samples_leaf': 2}, {'model__criterion': 'entropy', 'model__max_depth': 2, 'model__min_samples_leaf': 3}, {'model__criterion': 'entropy', 'model__max_depth': 3, 'model__min_samples_leaf': 1}, {'model__criterion': 'entropy', 'model__max_depth': 3, 'model__min_samples_leaf': 2}, {'model__criterion': 'entropy', 'model__max_depth': 3, 'model__min_samples_leaf': 3}, {'model__criterion': 'gini', 'model__max_depth': 1, 'model__min_samples_leaf': 1}, {'model__criterion': 'gini', 'model__max_depth': 1, 'model__min_samples_leaf': 2}, {'model__criterion': 'gini', 'model__max_depth': 1, 'model__min_samples_leaf': 3}, {'model__criterion': 'gini', 'model__max_depth': 2, 'model__min_samples_leaf': 1}, {'model__criterion': 'gini', 'model__max_depth': 2, 'model__min_samples_leaf': 2}, {'model__criterion': 'gini', 'model__max_depth': 2, 'model__min_samples_leaf': 3}, {'model__criterion': 'gini', 'model__max_depth': 3, 'model__min_samples_leaf': 1}, {'model__criterion': 'gini', 'model__max_depth': 3, 'model__min_samples_leaf': 2}, {'model__criterion': 'gini', 'model__max_depth': 3, 'model__min_samples_leaf': 3}], 'split0_test_score': array([0.88696255, 0.88696255, 0.88696255, 0.88696255, 0.88696255,\n",
            "       0.88696255, 0.88696255, 0.88696255, 0.88696255, 0.88696255,\n",
            "       0.88696255, 0.88696255, 0.88696255, 0.88696255, 0.88696255,\n",
            "       0.88696255, 0.88696255, 0.88696255]), 'split1_test_score': array([0.8872702, 0.8872702, 0.8872702, 0.8872702, 0.8872702, 0.8872702,\n",
            "       0.8872702, 0.8872702, 0.8872702, 0.8872702, 0.8872702, 0.8872702,\n",
            "       0.8872702, 0.8872702, 0.8872702, 0.8872702, 0.8872702, 0.8872702]), 'split2_test_score': array([0.8872702, 0.8872702, 0.8872702, 0.8872702, 0.8872702, 0.8872702,\n",
            "       0.8872702, 0.8872702, 0.8872702, 0.8872702, 0.8872702, 0.8872702,\n",
            "       0.8872702, 0.8872702, 0.8872702, 0.8872702, 0.8872702, 0.8872702]), 'split3_test_score': array([0.8872702, 0.8872702, 0.8872702, 0.8872702, 0.8872702, 0.8872702,\n",
            "       0.8872702, 0.8872702, 0.8872702, 0.8872702, 0.8872702, 0.8872702,\n",
            "       0.8872702, 0.8872702, 0.8872702, 0.8872702, 0.8872702, 0.8872702]), 'split4_test_score': array([0.8872702, 0.8872702, 0.8872702, 0.8872702, 0.8872702, 0.8872702,\n",
            "       0.8872702, 0.8872702, 0.8872702, 0.8872702, 0.8872702, 0.8872702,\n",
            "       0.8872702, 0.8872702, 0.8872702, 0.8872702, 0.8872702, 0.8872702]), 'split5_test_score': array([0.8872702, 0.8872702, 0.8872702, 0.8872702, 0.8872702, 0.8872702,\n",
            "       0.8872702, 0.8872702, 0.8872702, 0.8872702, 0.8872702, 0.8872702,\n",
            "       0.8872702, 0.8872702, 0.8872702, 0.8872702, 0.8872702, 0.8872702]), 'split6_test_score': array([0.8872702, 0.8872702, 0.8872702, 0.8872702, 0.8872702, 0.8872702,\n",
            "       0.8872702, 0.8872702, 0.8872702, 0.8872702, 0.8872702, 0.8872702,\n",
            "       0.8872702, 0.8872702, 0.8872702, 0.8872702, 0.8872702, 0.8872702]), 'split7_test_score': array([0.8872702, 0.8872702, 0.8872702, 0.8872702, 0.8872702, 0.8872702,\n",
            "       0.8872702, 0.8872702, 0.8872702, 0.8872702, 0.8872702, 0.8872702,\n",
            "       0.8872702, 0.8872702, 0.8872702, 0.8872702, 0.8872702, 0.8872702]), 'split8_test_score': array([0.8872702, 0.8872702, 0.8872702, 0.8872702, 0.8872702, 0.8872702,\n",
            "       0.8872702, 0.8872702, 0.8872702, 0.8872702, 0.8872702, 0.8872702,\n",
            "       0.8872702, 0.8872702, 0.8872702, 0.8872702, 0.8872702, 0.8872702]), 'split9_test_score': array([0.8872702, 0.8872702, 0.8872702, 0.8872702, 0.8872702, 0.8872702,\n",
            "       0.8872702, 0.8872702, 0.8872702, 0.8872702, 0.8872702, 0.8872702,\n",
            "       0.8872702, 0.8872702, 0.8872702, 0.8872702, 0.8872702, 0.8872702]), 'mean_test_score': array([0.88723944, 0.88723944, 0.88723944, 0.88723944, 0.88723944,\n",
            "       0.88723944, 0.88723944, 0.88723944, 0.88723944, 0.88723944,\n",
            "       0.88723944, 0.88723944, 0.88723944, 0.88723944, 0.88723944,\n",
            "       0.88723944, 0.88723944, 0.88723944]), 'std_test_score': array([9.22957911e-05, 9.22957911e-05, 9.22957911e-05, 9.22957911e-05,\n",
            "       9.22957911e-05, 9.22957911e-05, 9.22957911e-05, 9.22957911e-05,\n",
            "       9.22957911e-05, 9.22957911e-05, 9.22957911e-05, 9.22957911e-05,\n",
            "       9.22957911e-05, 9.22957911e-05, 9.22957911e-05, 9.22957911e-05,\n",
            "       9.22957911e-05, 9.22957911e-05]), 'rank_test_score': array([1, 1, 1, 1, 1, 1, 1, 1, 1, 1, 1, 1, 1, 1, 1, 1, 1, 1], dtype=int32)}\n",
            "Best parameters set:\n",
            "[('transformer', ColumnTransformer(remainder='passthrough',\n",
            "                  transformers=[('onehotencoder',\n",
            "                                 OneHotEncoder(handle_unknown='ignore'),\n",
            "                                 ['job', 'marital', 'education', 'default',\n",
            "                                  'contact']),\n",
            "                                ('ordinalencoder', OrdinalEncoder(),\n",
            "                                 ['housing', 'loan'])])), ('scale', StandardScaler(with_mean=False)), ('model', DecisionTreeClassifier(criterion='entropy', max_depth=1))]\n",
            "Test accuracy: 0.888\n",
            "Best cross-validation score: 0.8872394393842521\n",
            "Test Score : 0.8875940762320952\n",
            "CPU times: user 15.5 s, sys: 84.8 ms, total: 15.6 s\n",
            "Wall time: 15.7 s\n"
          ]
        }
      ],
      "source": [
        "%%time\n",
        "#Building a Decision Tree Grid Search\n",
        "\n",
        "# parameter grid\n",
        "\n",
        "#\n",
        "# Create grid parameters for hyperparameter tuning\n",
        "#\n",
        "params =  {\n",
        "    'model__min_samples_leaf': [1, 2, 3],\n",
        "    'model__max_depth': [1, 2, 3],\n",
        "    'model__criterion': ['entropy','gini']\n",
        "}\n",
        "\n",
        "# Create an instance of GridSearch Cross-validation estimator\n",
        "#\n",
        "gsDTC = GridSearchCV(estimator=dtc1_pipe,\n",
        "                     param_grid = params,\n",
        "                     cv=10,\n",
        "                     verbose=2,\n",
        "                     n_jobs=1)\n",
        "\n",
        "# Train the DecisionTreeClassifier Classifier\n",
        "#\n",
        "gsDTC = gsDTC.fit(X_train, y_train)\n",
        "gsDTC_predicted = gsDTC.predict(X_test)\n",
        "#\n",
        "# Print the training score of the best model\n",
        "#\n",
        "print('\\nDecision Tree Classifier - Grid Search best score -')\n",
        "print(gsDTC.best_score_)\n",
        "\n",
        "#\n",
        "# Print the model parameters of the best model\n",
        "#\n",
        "print('\\nGrid Search best parameters -')\n",
        "print(gsDTC.best_params_)\n",
        "\n",
        "print('\\Grid Search CV Results -')\n",
        "print(gsDTC.cv_results_)\n",
        "\n",
        "print(\"Best parameters set:\")\n",
        "print(gsDTC.best_estimator_.steps)\n",
        "\n",
        "#\n",
        "# Print the test score of the best model\n",
        "#\n",
        "clfDTC = gsDTC.best_estimator_\n",
        "print('Test accuracy: %.3f' % clfDTC.score(X_test, y_test))\n",
        "\n",
        "print(\"Best cross-validation score:\", gsDTC.best_score_)\n",
        "\n",
        "score = gsDTC.score(X_test, y_test)\n",
        "print(\"Test Score :\", score)\n",
        "\n"
      ]
    },
    {
      "cell_type": "code",
      "execution_count": 53,
      "metadata": {
        "colab": {
          "base_uri": "https://localhost:8080/"
        },
        "id": "rl2URjKXSTgR",
        "outputId": "29c17692-2ef0-44bd-9a3f-b5d82b98807b"
      },
      "outputs": [
        {
          "output_type": "execute_result",
          "data": {
            "text/plain": [
              "dict_keys(['memory', 'steps', 'verbose', 'transformer', 'scale', 'model', 'transformer__n_jobs', 'transformer__remainder', 'transformer__sparse_threshold', 'transformer__transformer_weights', 'transformer__transformers', 'transformer__verbose', 'transformer__verbose_feature_names_out', 'transformer__onehotencoder', 'transformer__ordinalencoder', 'transformer__onehotencoder__categories', 'transformer__onehotencoder__drop', 'transformer__onehotencoder__dtype', 'transformer__onehotencoder__handle_unknown', 'transformer__onehotencoder__max_categories', 'transformer__onehotencoder__min_frequency', 'transformer__onehotencoder__sparse', 'transformer__onehotencoder__sparse_output', 'transformer__ordinalencoder__categories', 'transformer__ordinalencoder__dtype', 'transformer__ordinalencoder__encoded_missing_value', 'transformer__ordinalencoder__handle_unknown', 'transformer__ordinalencoder__unknown_value', 'scale__copy', 'scale__with_mean', 'scale__with_std', 'model__C', 'model__break_ties', 'model__cache_size', 'model__class_weight', 'model__coef0', 'model__decision_function_shape', 'model__degree', 'model__gamma', 'model__kernel', 'model__max_iter', 'model__probability', 'model__random_state', 'model__shrinking', 'model__tol', 'model__verbose'])"
            ]
          },
          "metadata": {},
          "execution_count": 53
        }
      ],
      "source": [
        "#Looking up parameters that can be passed to the pipeline\n",
        "svm_pipe.get_params().keys()"
      ]
    },
    {
      "cell_type": "code",
      "execution_count": 54,
      "metadata": {
        "colab": {
          "base_uri": "https://localhost:8080/"
        },
        "id": "StyYW_XHSTgS",
        "outputId": "a13fe539-3389-41f7-f978-4758fa421a87"
      },
      "outputs": [
        {
          "output_type": "stream",
          "name": "stdout",
          "text": [
            "\n",
            "Support Vector Machine - Grid Search best score -\n",
            "0.8872394393842521\n",
            "\n",
            "Grid Search best parameters -\n",
            "{'model__C': 0.1, 'model__kernel': 'rbf'}\n",
            "\\Grid Search CV Results -\n",
            "{'mean_fit_time': array([7.21389165, 5.03735871, 8.12897205, 5.46902938, 8.61229241,\n",
            "       6.7794817 ]), 'std_fit_time': array([0.11700936, 0.1478759 , 0.12615713, 0.17398786, 0.13018599,\n",
            "       2.04541225]), 'mean_score_time': array([0.66348655, 0.47236238, 0.6825917 , 0.51961105, 0.72219081,\n",
            "       0.53744869]), 'std_score_time': array([0.04394257, 0.00326516, 0.02885367, 0.04084477, 0.08419952,\n",
            "       0.07398634]), 'param_model__C': masked_array(data=[0.1, 0.1, 0.5, 0.5, 1.0, 1.0],\n",
            "             mask=[False, False, False, False, False, False],\n",
            "       fill_value='?',\n",
            "            dtype=object), 'param_model__kernel': masked_array(data=['rbf', 'linear', 'rbf', 'linear', 'rbf', 'linear'],\n",
            "             mask=[False, False, False, False, False, False],\n",
            "       fill_value='?',\n",
            "            dtype=object), 'params': [{'model__C': 0.1, 'model__kernel': 'rbf'}, {'model__C': 0.1, 'model__kernel': 'linear'}, {'model__C': 0.5, 'model__kernel': 'rbf'}, {'model__C': 0.5, 'model__kernel': 'linear'}, {'model__C': 1.0, 'model__kernel': 'rbf'}, {'model__C': 1.0, 'model__kernel': 'linear'}], 'split0_test_score': array([0.88696255, 0.88696255, 0.88696255, 0.88696255, 0.88696255,\n",
            "       0.88696255]), 'split1_test_score': array([0.8872702, 0.8872702, 0.8872702, 0.8872702, 0.8872702, 0.8872702]), 'split2_test_score': array([0.8872702, 0.8872702, 0.8872702, 0.8872702, 0.8872702, 0.8872702]), 'split3_test_score': array([0.8872702, 0.8872702, 0.8872702, 0.8872702, 0.8872702, 0.8872702]), 'split4_test_score': array([0.8872702, 0.8872702, 0.8872702, 0.8872702, 0.8872702, 0.8872702]), 'split5_test_score': array([0.8872702, 0.8872702, 0.8872702, 0.8872702, 0.8872702, 0.8872702]), 'split6_test_score': array([0.8872702, 0.8872702, 0.8872702, 0.8872702, 0.8872702, 0.8872702]), 'split7_test_score': array([0.8872702, 0.8872702, 0.8872702, 0.8872702, 0.8872702, 0.8872702]), 'split8_test_score': array([0.8872702, 0.8872702, 0.8872702, 0.8872702, 0.8872702, 0.8872702]), 'split9_test_score': array([0.8872702, 0.8872702, 0.8872702, 0.8872702, 0.8872702, 0.8872702]), 'mean_test_score': array([0.88723944, 0.88723944, 0.88723944, 0.88723944, 0.88723944,\n",
            "       0.88723944]), 'std_test_score': array([9.22957911e-05, 9.22957911e-05, 9.22957911e-05, 9.22957911e-05,\n",
            "       9.22957911e-05, 9.22957911e-05]), 'rank_test_score': array([1, 1, 1, 1, 1, 1], dtype=int32)}\n",
            "Best parameters set:\n",
            "[('transformer', ColumnTransformer(remainder='passthrough',\n",
            "                  transformers=[('onehotencoder',\n",
            "                                 OneHotEncoder(handle_unknown='ignore'),\n",
            "                                 ['job', 'marital', 'education', 'default',\n",
            "                                  'contact']),\n",
            "                                ('ordinalencoder', OrdinalEncoder(),\n",
            "                                 ['housing', 'loan'])])), ('scale', StandardScaler(with_mean=False)), ('model', SVC(C=0.1))]\n",
            "Test accuracy: 0.888\n",
            "Best cross-validation score: 0.8872394393842521\n",
            "Test Score : 0.8875940762320952\n",
            "CPU times: user 7min 43s, sys: 1.39 s, total: 7min 44s\n",
            "Wall time: 7min 46s\n"
          ]
        }
      ],
      "source": [
        "%%time\n",
        "#Building a Support Vector Machine Grid Search\n",
        "\n",
        "#Redfined the Pipeline\n",
        "svm_pipegs = Pipeline ([\n",
        "    ('transformer', column_trans),\n",
        "    ('scale', StandardScaler(with_mean=False)),\n",
        "    ('model', SVC(probability=False))\n",
        "])\n",
        "\n",
        "# parameter grid\n",
        "\n",
        "param_grid = {'model__C': [0.1,1, 10, 100], 'model__gamma': [1,0.1,0.01,0.001],'model__kernel': ['rbf', 'poly', 'sigmoid']}\n",
        "\n",
        "param_grid_svc = [{\n",
        "                    'model__C': [ 0.1, 0.5, 1.0 ],\n",
        "                    'model__kernel': ['linear']\n",
        "                  },\n",
        "                 {\n",
        "                    'model__C': [ 0.1, 0.5, 1.0 ],\n",
        "                    'model__gamma': [0.1, 0.5, 1.0 ],\n",
        "                    'model__kernel': ['rbf', 'poly', 'sigmoid']\n",
        "                 }]\n",
        "\n",
        "param_grid_svc1 = {\n",
        "                    'model__C': [ 0.1, 0.5, 1.0 ],\n",
        "                    'model__gamma': [0.1, 0.5, 1.0 ],\n",
        "                    'model__kernel': ['rbf', 'poly', 'sigmoid']\n",
        "                 }\n",
        "\n",
        "param_grid_svc2 = {\n",
        "                    'model__C': [ 0.1, 0.5, 1.0 ],\n",
        "                    'model__kernel': ['rbf','linear']\n",
        "                 }\n",
        "#\n",
        "\n",
        "#\n",
        "\n",
        "#\n",
        "# Create an instance of GridSearch Cross-validation estimator\n",
        "#\n",
        "gsSVC = GridSearchCV(estimator=svm_pipegs,\n",
        "                     param_grid = param_grid_svc2,\n",
        "                     scoring='accuracy',\n",
        "                     cv=10,\n",
        "                     refit=True,\n",
        "                     n_jobs=1)\n",
        "#\n",
        "# Train the SVM classifier\n",
        "#\n",
        "gsSVC.fit(X_train, y_train)\n",
        "gsSVC_predicted = gsSVC.predict(X_test)\n",
        "\n",
        "#\n",
        "# Print the training score of the best model\n",
        "#\n",
        "print('\\nSupport Vector Machine - Grid Search best score -')\n",
        "print(gsSVC.best_score_)\n",
        "\n",
        "#\n",
        "# Print the model parameters of the best model\n",
        "#\n",
        "print('\\nGrid Search best parameters -')\n",
        "print(gsSVC.best_params_)\n",
        "\n",
        "print('\\Grid Search CV Results -')\n",
        "print(gsSVC.cv_results_)\n",
        "\n",
        "print(\"Best parameters set:\")\n",
        "print(gsSVC.best_estimator_.steps)\n",
        "\n",
        "#\n",
        "# Print the test score of the best model\n",
        "#\n",
        "clfSVC = gsSVC.best_estimator_\n",
        "print('Test accuracy: %.3f' % clfSVC.score(X_test, y_test))\n",
        "\n",
        "print(\"Best cross-validation score:\", gsSVC.best_score_)\n",
        "\n",
        "scoreSVC = gsSVC.score(X_test, y_test)\n",
        "print(\"Test Score :\", scoreSVC)\n"
      ]
    },
    {
      "cell_type": "markdown",
      "metadata": {
        "id": "hDw5_W5CSTgT"
      },
      "source": [
        "For SVM, I tried a number of paramaters which took a long time (i.e., some running over 2 hours etc) and did not finish because I had to abort the processing. Finally got the following parameter to work which took over 8 minutes as shown above.\n",
        "\n",
        "param_grid_svc2 = {\n",
        "                    'model__C': [ 0.1, 0.5, 1.0 ],\n",
        "                    'model__kernel': ['rbf','linear']\n",
        "                 }"
      ]
    },
    {
      "cell_type": "markdown",
      "metadata": {
        "id": "sin7DyhWSTgT"
      },
      "source": [
        "### Results from Models"
      ]
    },
    {
      "cell_type": "code",
      "execution_count": 57,
      "metadata": {
        "colab": {
          "base_uri": "https://localhost:8080/",
          "height": 175
        },
        "id": "X_l6fPLLSTgT",
        "outputId": "524b40ba-4435-42a2-82e3-1412dbea1c6f"
      },
      "outputs": [
        {
          "output_type": "execute_result",
          "data": {
            "text/plain": [
              "           Model Train Time  \\\n",
              "0       Logistic   1min 22s   \n",
              "1            KNN   5min 28s   \n",
              "2  Decision Tree     15.7 s   \n",
              "3            SVM   7min 46s   \n",
              "\n",
              "                                                    Best Params  \\\n",
              "0                        C:0.001, penalty:l2, solver: liblinear   \n",
              "1                                               n_neighbors: 17   \n",
              "2  criterion: entropy, max_depth: 1, model__min_samples_leaf: 1   \n",
              "3                                           C: 0.1, kernel: rbf   \n",
              "\n",
              "           Best Score  \n",
              "0  0.8872394393842521  \n",
              "1  0.8855397848500199  \n",
              "2  0.8872394393842521  \n",
              "3  0.8872394393842521  "
            ],
            "text/html": [
              "\n",
              "  <div id=\"df-2993699d-5d2a-498d-8338-e3f6527eeaf6\" class=\"colab-df-container\">\n",
              "    <div>\n",
              "<style scoped>\n",
              "    .dataframe tbody tr th:only-of-type {\n",
              "        vertical-align: middle;\n",
              "    }\n",
              "\n",
              "    .dataframe tbody tr th {\n",
              "        vertical-align: top;\n",
              "    }\n",
              "\n",
              "    .dataframe thead th {\n",
              "        text-align: right;\n",
              "    }\n",
              "</style>\n",
              "<table border=\"1\" class=\"dataframe\">\n",
              "  <thead>\n",
              "    <tr style=\"text-align: right;\">\n",
              "      <th></th>\n",
              "      <th>Model</th>\n",
              "      <th>Train Time</th>\n",
              "      <th>Best Params</th>\n",
              "      <th>Best Score</th>\n",
              "    </tr>\n",
              "  </thead>\n",
              "  <tbody>\n",
              "    <tr>\n",
              "      <th>0</th>\n",
              "      <td>Logistic</td>\n",
              "      <td>1min 22s</td>\n",
              "      <td>C:0.001, penalty:l2, solver: liblinear</td>\n",
              "      <td>0.8872394393842521</td>\n",
              "    </tr>\n",
              "    <tr>\n",
              "      <th>1</th>\n",
              "      <td>KNN</td>\n",
              "      <td>5min 28s</td>\n",
              "      <td>n_neighbors: 17</td>\n",
              "      <td>0.8855397848500199</td>\n",
              "    </tr>\n",
              "    <tr>\n",
              "      <th>2</th>\n",
              "      <td>Decision Tree</td>\n",
              "      <td>15.7 s</td>\n",
              "      <td>criterion: entropy, max_depth: 1, model__min_samples_leaf: 1</td>\n",
              "      <td>0.8872394393842521</td>\n",
              "    </tr>\n",
              "    <tr>\n",
              "      <th>3</th>\n",
              "      <td>SVM</td>\n",
              "      <td>7min 46s</td>\n",
              "      <td>C: 0.1, kernel: rbf</td>\n",
              "      <td>0.8872394393842521</td>\n",
              "    </tr>\n",
              "  </tbody>\n",
              "</table>\n",
              "</div>\n",
              "    <div class=\"colab-df-buttons\">\n",
              "\n",
              "  <div class=\"colab-df-container\">\n",
              "    <button class=\"colab-df-convert\" onclick=\"convertToInteractive('df-2993699d-5d2a-498d-8338-e3f6527eeaf6')\"\n",
              "            title=\"Convert this dataframe to an interactive table.\"\n",
              "            style=\"display:none;\">\n",
              "\n",
              "  <svg xmlns=\"http://www.w3.org/2000/svg\" height=\"24px\" viewBox=\"0 -960 960 960\">\n",
              "    <path d=\"M120-120v-720h720v720H120Zm60-500h600v-160H180v160Zm220 220h160v-160H400v160Zm0 220h160v-160H400v160ZM180-400h160v-160H180v160Zm440 0h160v-160H620v160ZM180-180h160v-160H180v160Zm440 0h160v-160H620v160Z\"/>\n",
              "  </svg>\n",
              "    </button>\n",
              "\n",
              "  <style>\n",
              "    .colab-df-container {\n",
              "      display:flex;\n",
              "      gap: 12px;\n",
              "    }\n",
              "\n",
              "    .colab-df-convert {\n",
              "      background-color: #E8F0FE;\n",
              "      border: none;\n",
              "      border-radius: 50%;\n",
              "      cursor: pointer;\n",
              "      display: none;\n",
              "      fill: #1967D2;\n",
              "      height: 32px;\n",
              "      padding: 0 0 0 0;\n",
              "      width: 32px;\n",
              "    }\n",
              "\n",
              "    .colab-df-convert:hover {\n",
              "      background-color: #E2EBFA;\n",
              "      box-shadow: 0px 1px 2px rgba(60, 64, 67, 0.3), 0px 1px 3px 1px rgba(60, 64, 67, 0.15);\n",
              "      fill: #174EA6;\n",
              "    }\n",
              "\n",
              "    .colab-df-buttons div {\n",
              "      margin-bottom: 4px;\n",
              "    }\n",
              "\n",
              "    [theme=dark] .colab-df-convert {\n",
              "      background-color: #3B4455;\n",
              "      fill: #D2E3FC;\n",
              "    }\n",
              "\n",
              "    [theme=dark] .colab-df-convert:hover {\n",
              "      background-color: #434B5C;\n",
              "      box-shadow: 0px 1px 3px 1px rgba(0, 0, 0, 0.15);\n",
              "      filter: drop-shadow(0px 1px 2px rgba(0, 0, 0, 0.3));\n",
              "      fill: #FFFFFF;\n",
              "    }\n",
              "  </style>\n",
              "\n",
              "    <script>\n",
              "      const buttonEl =\n",
              "        document.querySelector('#df-2993699d-5d2a-498d-8338-e3f6527eeaf6 button.colab-df-convert');\n",
              "      buttonEl.style.display =\n",
              "        google.colab.kernel.accessAllowed ? 'block' : 'none';\n",
              "\n",
              "      async function convertToInteractive(key) {\n",
              "        const element = document.querySelector('#df-2993699d-5d2a-498d-8338-e3f6527eeaf6');\n",
              "        const dataTable =\n",
              "          await google.colab.kernel.invokeFunction('convertToInteractive',\n",
              "                                                    [key], {});\n",
              "        if (!dataTable) return;\n",
              "\n",
              "        const docLinkHtml = 'Like what you see? Visit the ' +\n",
              "          '<a target=\"_blank\" href=https://colab.research.google.com/notebooks/data_table.ipynb>data table notebook</a>'\n",
              "          + ' to learn more about interactive tables.';\n",
              "        element.innerHTML = '';\n",
              "        dataTable['output_type'] = 'display_data';\n",
              "        await google.colab.output.renderOutput(dataTable, element);\n",
              "        const docLink = document.createElement('div');\n",
              "        docLink.innerHTML = docLinkHtml;\n",
              "        element.appendChild(docLink);\n",
              "      }\n",
              "    </script>\n",
              "  </div>\n",
              "\n",
              "\n",
              "<div id=\"df-89b1e525-99e6-4fa4-98c0-b61048d31f92\">\n",
              "  <button class=\"colab-df-quickchart\" onclick=\"quickchart('df-89b1e525-99e6-4fa4-98c0-b61048d31f92')\"\n",
              "            title=\"Suggest charts\"\n",
              "            style=\"display:none;\">\n",
              "\n",
              "<svg xmlns=\"http://www.w3.org/2000/svg\" height=\"24px\"viewBox=\"0 0 24 24\"\n",
              "     width=\"24px\">\n",
              "    <g>\n",
              "        <path d=\"M19 3H5c-1.1 0-2 .9-2 2v14c0 1.1.9 2 2 2h14c1.1 0 2-.9 2-2V5c0-1.1-.9-2-2-2zM9 17H7v-7h2v7zm4 0h-2V7h2v10zm4 0h-2v-4h2v4z\"/>\n",
              "    </g>\n",
              "</svg>\n",
              "  </button>\n",
              "\n",
              "<style>\n",
              "  .colab-df-quickchart {\n",
              "      --bg-color: #E8F0FE;\n",
              "      --fill-color: #1967D2;\n",
              "      --hover-bg-color: #E2EBFA;\n",
              "      --hover-fill-color: #174EA6;\n",
              "      --disabled-fill-color: #AAA;\n",
              "      --disabled-bg-color: #DDD;\n",
              "  }\n",
              "\n",
              "  [theme=dark] .colab-df-quickchart {\n",
              "      --bg-color: #3B4455;\n",
              "      --fill-color: #D2E3FC;\n",
              "      --hover-bg-color: #434B5C;\n",
              "      --hover-fill-color: #FFFFFF;\n",
              "      --disabled-bg-color: #3B4455;\n",
              "      --disabled-fill-color: #666;\n",
              "  }\n",
              "\n",
              "  .colab-df-quickchart {\n",
              "    background-color: var(--bg-color);\n",
              "    border: none;\n",
              "    border-radius: 50%;\n",
              "    cursor: pointer;\n",
              "    display: none;\n",
              "    fill: var(--fill-color);\n",
              "    height: 32px;\n",
              "    padding: 0;\n",
              "    width: 32px;\n",
              "  }\n",
              "\n",
              "  .colab-df-quickchart:hover {\n",
              "    background-color: var(--hover-bg-color);\n",
              "    box-shadow: 0 1px 2px rgba(60, 64, 67, 0.3), 0 1px 3px 1px rgba(60, 64, 67, 0.15);\n",
              "    fill: var(--button-hover-fill-color);\n",
              "  }\n",
              "\n",
              "  .colab-df-quickchart-complete:disabled,\n",
              "  .colab-df-quickchart-complete:disabled:hover {\n",
              "    background-color: var(--disabled-bg-color);\n",
              "    fill: var(--disabled-fill-color);\n",
              "    box-shadow: none;\n",
              "  }\n",
              "\n",
              "  .colab-df-spinner {\n",
              "    border: 2px solid var(--fill-color);\n",
              "    border-color: transparent;\n",
              "    border-bottom-color: var(--fill-color);\n",
              "    animation:\n",
              "      spin 1s steps(1) infinite;\n",
              "  }\n",
              "\n",
              "  @keyframes spin {\n",
              "    0% {\n",
              "      border-color: transparent;\n",
              "      border-bottom-color: var(--fill-color);\n",
              "      border-left-color: var(--fill-color);\n",
              "    }\n",
              "    20% {\n",
              "      border-color: transparent;\n",
              "      border-left-color: var(--fill-color);\n",
              "      border-top-color: var(--fill-color);\n",
              "    }\n",
              "    30% {\n",
              "      border-color: transparent;\n",
              "      border-left-color: var(--fill-color);\n",
              "      border-top-color: var(--fill-color);\n",
              "      border-right-color: var(--fill-color);\n",
              "    }\n",
              "    40% {\n",
              "      border-color: transparent;\n",
              "      border-right-color: var(--fill-color);\n",
              "      border-top-color: var(--fill-color);\n",
              "    }\n",
              "    60% {\n",
              "      border-color: transparent;\n",
              "      border-right-color: var(--fill-color);\n",
              "    }\n",
              "    80% {\n",
              "      border-color: transparent;\n",
              "      border-right-color: var(--fill-color);\n",
              "      border-bottom-color: var(--fill-color);\n",
              "    }\n",
              "    90% {\n",
              "      border-color: transparent;\n",
              "      border-bottom-color: var(--fill-color);\n",
              "    }\n",
              "  }\n",
              "</style>\n",
              "\n",
              "  <script>\n",
              "    async function quickchart(key) {\n",
              "      const quickchartButtonEl =\n",
              "        document.querySelector('#' + key + ' button');\n",
              "      quickchartButtonEl.disabled = true;  // To prevent multiple clicks.\n",
              "      quickchartButtonEl.classList.add('colab-df-spinner');\n",
              "      try {\n",
              "        const charts = await google.colab.kernel.invokeFunction(\n",
              "            'suggestCharts', [key], {});\n",
              "      } catch (error) {\n",
              "        console.error('Error during call to suggestCharts:', error);\n",
              "      }\n",
              "      quickchartButtonEl.classList.remove('colab-df-spinner');\n",
              "      quickchartButtonEl.classList.add('colab-df-quickchart-complete');\n",
              "    }\n",
              "    (() => {\n",
              "      let quickchartButtonEl =\n",
              "        document.querySelector('#df-89b1e525-99e6-4fa4-98c0-b61048d31f92 button');\n",
              "      quickchartButtonEl.style.display =\n",
              "        google.colab.kernel.accessAllowed ? 'block' : 'none';\n",
              "    })();\n",
              "  </script>\n",
              "</div>\n",
              "\n",
              "    </div>\n",
              "  </div>\n"
            ],
            "application/vnd.google.colaboratory.intrinsic+json": {
              "type": "dataframe",
              "summary": "{\n  \"name\": \"             'Best Score': ['0\",\n  \"rows\": 4,\n  \"fields\": [\n    {\n      \"column\": \"Model\",\n      \"properties\": {\n        \"dtype\": \"string\",\n        \"samples\": [\n          \"KNN\",\n          \"SVM\",\n          \"Logistic\"\n        ],\n        \"num_unique_values\": 4,\n        \"semantic_type\": \"\",\n        \"description\": \"\"\n      }\n    },\n    {\n      \"column\": \"Train Time\",\n      \"properties\": {\n        \"dtype\": \"string\",\n        \"samples\": [\n          \"5min 28s\",\n          \"7min 46s\",\n          \"1min 22s\"\n        ],\n        \"num_unique_values\": 4,\n        \"semantic_type\": \"\",\n        \"description\": \"\"\n      }\n    },\n    {\n      \"column\": \"Best Params\",\n      \"properties\": {\n        \"dtype\": \"string\",\n        \"samples\": [\n          \"n_neighbors: 17\",\n          \"C: 0.1, kernel: rbf\",\n          \"C:0.001, penalty:l2, solver: liblinear\"\n        ],\n        \"num_unique_values\": 4,\n        \"semantic_type\": \"\",\n        \"description\": \"\"\n      }\n    },\n    {\n      \"column\": \"Best Score\",\n      \"properties\": {\n        \"dtype\": \"string\",\n        \"samples\": [\n          \"0.8855397848500199\",\n          \"0.8872394393842521\"\n        ],\n        \"num_unique_values\": 2,\n        \"semantic_type\": \"\",\n        \"description\": \"\"\n      }\n    }\n  ]\n}"
            }
          },
          "metadata": {},
          "execution_count": 57
        }
      ],
      "source": [
        "pd.DataFrame({'Model': ['Logistic', 'KNN','Decision Tree', 'SVM'],\n",
        "             'Train Time': ['1min 22s', '5min 28s', '15.7 s','7min 46s'],\n",
        "             'Best Params': ['C:0.001, penalty:l2, solver: liblinear', 'n_neighbors: 17', 'criterion: entropy, max_depth: 1, model__min_samples_leaf: 1','C: 0.1, kernel: rbf'],\n",
        "             'Best Score': ['0.8872394393842521', '0.8855397848500199', '0.8872394393842521','0.8872394393842521']})"
      ]
    },
    {
      "cell_type": "markdown",
      "metadata": {
        "id": "Wzws33A5STgU"
      },
      "source": [
        "Interesting observation in that Logistic Regression, Decision Tree and Support Vector Machines had the same best score with their different best parameters. This leaves KNN with the lowest best score. All scores were high."
      ]
    },
    {
      "cell_type": "code",
      "execution_count": 55,
      "metadata": {
        "id": "Sccq8oO8STgU"
      },
      "outputs": [],
      "source": []
    },
    {
      "cell_type": "markdown",
      "metadata": {
        "id": "TLQBa9knSTgV"
      },
      "source": [
        "##### Questions"
      ]
    },
    {
      "cell_type": "markdown",
      "metadata": {
        "id": "orEnfcYNSTgV"
      },
      "source": [
        "The main question that I have is the imbalanced dataset which is heavily weighted towards the unsuccessful marketing campaigns. If the model is used to determine features that are making the marketing campaign unsuccessful, then the models above could be useful.\n",
        "\n",
        "Alternatively, the model can be used by the financial institution to understand customer profile that they need to target, for example, there was a high score amongst the \"Yes\" for customers contacted via Cellular so maybe the Bank can adopt modern features like Text Messages, Social Media platforms (i.e. Facebook, Instagram, Twitter, Tik Tok etc) for marketing campaigns"
      ]
    },
    {
      "cell_type": "code",
      "execution_count": 55,
      "metadata": {
        "id": "vP8wLIKBSTgV"
      },
      "outputs": [],
      "source": []
    },
    {
      "cell_type": "code",
      "execution_count": 55,
      "metadata": {
        "id": "gpR4V4VBSTgW"
      },
      "outputs": [],
      "source": []
    }
  ],
  "metadata": {
    "kernelspec": {
      "display_name": "Python 3 (ipykernel)",
      "language": "python",
      "name": "python3"
    },
    "language_info": {
      "codemirror_mode": {
        "name": "ipython",
        "version": 3
      },
      "file_extension": ".py",
      "mimetype": "text/x-python",
      "name": "python",
      "nbconvert_exporter": "python",
      "pygments_lexer": "ipython3",
      "version": "3.9.12"
    },
    "colab": {
      "provenance": []
    }
  },
  "nbformat": 4,
  "nbformat_minor": 0
}